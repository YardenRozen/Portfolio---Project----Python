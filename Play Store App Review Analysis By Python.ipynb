{
  "nbformat": 4,
  "nbformat_minor": 0,
  "metadata": {
    "colab": {
      "provenance": [],
      "collapsed_sections": [
        "mQ3WBrkfOvVL",
        "VdVimjsMsly_"
      ]
    },
    "kernelspec": {
      "name": "python3",
      "display_name": "Python 3"
    },
    "language_info": {
      "name": "python"
    }
  },
  "cells": [
    {
      "cell_type": "markdown",
      "source": [
        "## <b> The Play Store apps data has enormous potential to drive app-making businesses to success. Actionable insights can be drawn for developers to work on and capture the Android market. </b>\n",
        "\n",
        "## <b> Each app (row) has values for catergory, rating, size, and more. Another dataset contains customer reviews of the android apps.</b>\n",
        "\n",
        "## <b> Explore and analyze the data to discover key factors responsible for app engagement and success. </b>"
      ],
      "metadata": {
        "id": "ewUMPsm3jaHp"
      }
    },
    {
      "cell_type": "markdown",
      "source": [
        "In this era of rapidly growing technology, we have an app to cater to basically every need of ours. From stock market to food delivery, they have got us covered. Whether you need to travel, invest, track your expenses, maintain a healthy lifestyle, or simply entertain yourself, there is an app for everything. Their importance can't be overstated.\n",
        "\n",
        "These needs are fulfilled by various businesses. A business can benefit largely in terms of loyalty, and increased customer engagement through an app. Now, as per growing needs, there is a surge in the number of apps and categories. Currently, as of 2022, Google Play Store is the biggest store with 33 categories, and total 3.48 million apps to offer. Now that's a lot, but not all of them survive the competition. \n",
        "\n",
        "What we have here, are two datasets: 1) Apps and their information 2) App Reviews, from Google Play Store, and our aim is to explore the factors on which the success of an app depends. The sequence in which we shall go about it are:\n",
        "\n",
        "\n",
        "\n",
        "1.   **Data cleaning**\n",
        "2.   **Exploration and Analysis**\n",
        "3. **Inferences and conclusion**\n",
        "\n",
        "Without further ado, let's begin!"
      ],
      "metadata": {
        "id": "C3Qh4e3VY8Tf"
      }
    },
    {
      "cell_type": "code",
      "execution_count": null,
      "metadata": {
        "id": "vY6-cAvxoD1T"
      },
      "outputs": [],
      "source": [
        "# Importing necessary libraries\n",
        "import pandas as pd\n",
        "import numpy as np\n",
        "from datetime import datetime\n",
        "import matplotlib.pyplot as plt\n",
        "%matplotlib inline\n",
        "import seaborn as sns\n",
        "from io import StringIO"
      ]
    },
    {
      "cell_type": "code",
      "source": [
        "# Mounting the drive\n",
        "from google.colab import drive\n",
        "drive.mount('/content/drive')"
      ],
      "metadata": {
        "colab": {
          "base_uri": "https://localhost:8080/"
        },
        "id": "85I9TYjyofHh",
        "outputId": "95e870c6-3d63-4625-d3ac-e5bce241f279"
      },
      "execution_count": null,
      "outputs": [
        {
          "output_type": "stream",
          "name": "stdout",
          "text": [
            "Mounted at /content/drive\n"
          ]
        }
      ]
    },
    {
      "cell_type": "code",
      "source": [
        "# Creating a common path\n",
        "path = '/content/drive/MyDrive/Capstone Project 1 - Data Analysis/'"
      ],
      "metadata": {
        "id": "KWh62P8MotZM"
      },
      "execution_count": null,
      "outputs": []
    },
    {
      "cell_type": "code",
      "source": [
        "# Creating dataframes for both data sets\n",
        "playstore_df = pd.read_csv(path + 'Copy of Play Store Data.csv')\n",
        "reviews_df = pd.read_csv(path + 'Copy of User Reviews.csv')"
      ],
      "metadata": {
        "id": "LFtJasr8pKOu"
      },
      "execution_count": null,
      "outputs": []
    },
    {
      "cell_type": "code",
      "source": [
        "# Storing the playstore dataset into a temporary variable\n",
        "temp_df = playstore_df"
      ],
      "metadata": {
        "id": "JEd-4Z4wxVY3"
      },
      "execution_count": null,
      "outputs": []
    },
    {
      "cell_type": "code",
      "source": [
        "temp_df.shape"
      ],
      "metadata": {
        "colab": {
          "base_uri": "https://localhost:8080/"
        },
        "id": "nIb75O-qpyQn",
        "outputId": "99b96803-800a-454b-ca59-b5c1341983cb"
      },
      "execution_count": null,
      "outputs": [
        {
          "output_type": "execute_result",
          "data": {
            "text/plain": [
              "(10841, 13)"
            ]
          },
          "metadata": {},
          "execution_count": 7
        }
      ]
    },
    {
      "cell_type": "code",
      "source": [
        "temp_df.head(10)"
      ],
      "metadata": {
        "colab": {
          "base_uri": "https://localhost:8080/",
          "height": 650
        },
        "id": "B2ENfySjpqRX",
        "outputId": "895fb523-feb7-4d77-f6c9-328a3700437c"
      },
      "execution_count": null,
      "outputs": [
        {
          "output_type": "execute_result",
          "data": {
            "text/plain": [
              "                                                 App        Category  Rating  \\\n",
              "0     Photo Editor & Candy Camera & Grid & ScrapBook  ART_AND_DESIGN     4.1   \n",
              "1                                Coloring book moana  ART_AND_DESIGN     3.9   \n",
              "2  U Launcher Lite – FREE Live Cool Themes, Hide ...  ART_AND_DESIGN     4.7   \n",
              "3                              Sketch - Draw & Paint  ART_AND_DESIGN     4.5   \n",
              "4              Pixel Draw - Number Art Coloring Book  ART_AND_DESIGN     4.3   \n",
              "5                         Paper flowers instructions  ART_AND_DESIGN     4.4   \n",
              "6            Smoke Effect Photo Maker - Smoke Editor  ART_AND_DESIGN     3.8   \n",
              "7                                   Infinite Painter  ART_AND_DESIGN     4.1   \n",
              "8                               Garden Coloring Book  ART_AND_DESIGN     4.4   \n",
              "9                      Kids Paint Free - Drawing Fun  ART_AND_DESIGN     4.7   \n",
              "\n",
              "  Reviews  Size     Installs  Type Price Content Rating  \\\n",
              "0     159   19M      10,000+  Free     0       Everyone   \n",
              "1     967   14M     500,000+  Free     0       Everyone   \n",
              "2   87510  8.7M   5,000,000+  Free     0       Everyone   \n",
              "3  215644   25M  50,000,000+  Free     0           Teen   \n",
              "4     967  2.8M     100,000+  Free     0       Everyone   \n",
              "5     167  5.6M      50,000+  Free     0       Everyone   \n",
              "6     178   19M      50,000+  Free     0       Everyone   \n",
              "7   36815   29M   1,000,000+  Free     0       Everyone   \n",
              "8   13791   33M   1,000,000+  Free     0       Everyone   \n",
              "9     121  3.1M      10,000+  Free     0       Everyone   \n",
              "\n",
              "                      Genres        Last Updated         Current Ver  \\\n",
              "0               Art & Design     January 7, 2018               1.0.0   \n",
              "1  Art & Design;Pretend Play    January 15, 2018               2.0.0   \n",
              "2               Art & Design      August 1, 2018               1.2.4   \n",
              "3               Art & Design        June 8, 2018  Varies with device   \n",
              "4    Art & Design;Creativity       June 20, 2018                 1.1   \n",
              "5               Art & Design      March 26, 2017                 1.0   \n",
              "6               Art & Design      April 26, 2018                 1.1   \n",
              "7               Art & Design       June 14, 2018            6.1.61.1   \n",
              "8               Art & Design  September 20, 2017               2.9.2   \n",
              "9    Art & Design;Creativity        July 3, 2018                 2.8   \n",
              "\n",
              "    Android Ver  \n",
              "0  4.0.3 and up  \n",
              "1  4.0.3 and up  \n",
              "2  4.0.3 and up  \n",
              "3    4.2 and up  \n",
              "4    4.4 and up  \n",
              "5    2.3 and up  \n",
              "6  4.0.3 and up  \n",
              "7    4.2 and up  \n",
              "8    3.0 and up  \n",
              "9  4.0.3 and up  "
            ],
            "text/html": [
              "\n",
              "  <div id=\"df-1a0da826-de3a-486f-b587-3d5733e8d949\">\n",
              "    <div class=\"colab-df-container\">\n",
              "      <div>\n",
              "<style scoped>\n",
              "    .dataframe tbody tr th:only-of-type {\n",
              "        vertical-align: middle;\n",
              "    }\n",
              "\n",
              "    .dataframe tbody tr th {\n",
              "        vertical-align: top;\n",
              "    }\n",
              "\n",
              "    .dataframe thead th {\n",
              "        text-align: right;\n",
              "    }\n",
              "</style>\n",
              "<table border=\"1\" class=\"dataframe\">\n",
              "  <thead>\n",
              "    <tr style=\"text-align: right;\">\n",
              "      <th></th>\n",
              "      <th>App</th>\n",
              "      <th>Category</th>\n",
              "      <th>Rating</th>\n",
              "      <th>Reviews</th>\n",
              "      <th>Size</th>\n",
              "      <th>Installs</th>\n",
              "      <th>Type</th>\n",
              "      <th>Price</th>\n",
              "      <th>Content Rating</th>\n",
              "      <th>Genres</th>\n",
              "      <th>Last Updated</th>\n",
              "      <th>Current Ver</th>\n",
              "      <th>Android Ver</th>\n",
              "    </tr>\n",
              "  </thead>\n",
              "  <tbody>\n",
              "    <tr>\n",
              "      <th>0</th>\n",
              "      <td>Photo Editor &amp; Candy Camera &amp; Grid &amp; ScrapBook</td>\n",
              "      <td>ART_AND_DESIGN</td>\n",
              "      <td>4.1</td>\n",
              "      <td>159</td>\n",
              "      <td>19M</td>\n",
              "      <td>10,000+</td>\n",
              "      <td>Free</td>\n",
              "      <td>0</td>\n",
              "      <td>Everyone</td>\n",
              "      <td>Art &amp; Design</td>\n",
              "      <td>January 7, 2018</td>\n",
              "      <td>1.0.0</td>\n",
              "      <td>4.0.3 and up</td>\n",
              "    </tr>\n",
              "    <tr>\n",
              "      <th>1</th>\n",
              "      <td>Coloring book moana</td>\n",
              "      <td>ART_AND_DESIGN</td>\n",
              "      <td>3.9</td>\n",
              "      <td>967</td>\n",
              "      <td>14M</td>\n",
              "      <td>500,000+</td>\n",
              "      <td>Free</td>\n",
              "      <td>0</td>\n",
              "      <td>Everyone</td>\n",
              "      <td>Art &amp; Design;Pretend Play</td>\n",
              "      <td>January 15, 2018</td>\n",
              "      <td>2.0.0</td>\n",
              "      <td>4.0.3 and up</td>\n",
              "    </tr>\n",
              "    <tr>\n",
              "      <th>2</th>\n",
              "      <td>U Launcher Lite – FREE Live Cool Themes, Hide ...</td>\n",
              "      <td>ART_AND_DESIGN</td>\n",
              "      <td>4.7</td>\n",
              "      <td>87510</td>\n",
              "      <td>8.7M</td>\n",
              "      <td>5,000,000+</td>\n",
              "      <td>Free</td>\n",
              "      <td>0</td>\n",
              "      <td>Everyone</td>\n",
              "      <td>Art &amp; Design</td>\n",
              "      <td>August 1, 2018</td>\n",
              "      <td>1.2.4</td>\n",
              "      <td>4.0.3 and up</td>\n",
              "    </tr>\n",
              "    <tr>\n",
              "      <th>3</th>\n",
              "      <td>Sketch - Draw &amp; Paint</td>\n",
              "      <td>ART_AND_DESIGN</td>\n",
              "      <td>4.5</td>\n",
              "      <td>215644</td>\n",
              "      <td>25M</td>\n",
              "      <td>50,000,000+</td>\n",
              "      <td>Free</td>\n",
              "      <td>0</td>\n",
              "      <td>Teen</td>\n",
              "      <td>Art &amp; Design</td>\n",
              "      <td>June 8, 2018</td>\n",
              "      <td>Varies with device</td>\n",
              "      <td>4.2 and up</td>\n",
              "    </tr>\n",
              "    <tr>\n",
              "      <th>4</th>\n",
              "      <td>Pixel Draw - Number Art Coloring Book</td>\n",
              "      <td>ART_AND_DESIGN</td>\n",
              "      <td>4.3</td>\n",
              "      <td>967</td>\n",
              "      <td>2.8M</td>\n",
              "      <td>100,000+</td>\n",
              "      <td>Free</td>\n",
              "      <td>0</td>\n",
              "      <td>Everyone</td>\n",
              "      <td>Art &amp; Design;Creativity</td>\n",
              "      <td>June 20, 2018</td>\n",
              "      <td>1.1</td>\n",
              "      <td>4.4 and up</td>\n",
              "    </tr>\n",
              "    <tr>\n",
              "      <th>5</th>\n",
              "      <td>Paper flowers instructions</td>\n",
              "      <td>ART_AND_DESIGN</td>\n",
              "      <td>4.4</td>\n",
              "      <td>167</td>\n",
              "      <td>5.6M</td>\n",
              "      <td>50,000+</td>\n",
              "      <td>Free</td>\n",
              "      <td>0</td>\n",
              "      <td>Everyone</td>\n",
              "      <td>Art &amp; Design</td>\n",
              "      <td>March 26, 2017</td>\n",
              "      <td>1.0</td>\n",
              "      <td>2.3 and up</td>\n",
              "    </tr>\n",
              "    <tr>\n",
              "      <th>6</th>\n",
              "      <td>Smoke Effect Photo Maker - Smoke Editor</td>\n",
              "      <td>ART_AND_DESIGN</td>\n",
              "      <td>3.8</td>\n",
              "      <td>178</td>\n",
              "      <td>19M</td>\n",
              "      <td>50,000+</td>\n",
              "      <td>Free</td>\n",
              "      <td>0</td>\n",
              "      <td>Everyone</td>\n",
              "      <td>Art &amp; Design</td>\n",
              "      <td>April 26, 2018</td>\n",
              "      <td>1.1</td>\n",
              "      <td>4.0.3 and up</td>\n",
              "    </tr>\n",
              "    <tr>\n",
              "      <th>7</th>\n",
              "      <td>Infinite Painter</td>\n",
              "      <td>ART_AND_DESIGN</td>\n",
              "      <td>4.1</td>\n",
              "      <td>36815</td>\n",
              "      <td>29M</td>\n",
              "      <td>1,000,000+</td>\n",
              "      <td>Free</td>\n",
              "      <td>0</td>\n",
              "      <td>Everyone</td>\n",
              "      <td>Art &amp; Design</td>\n",
              "      <td>June 14, 2018</td>\n",
              "      <td>6.1.61.1</td>\n",
              "      <td>4.2 and up</td>\n",
              "    </tr>\n",
              "    <tr>\n",
              "      <th>8</th>\n",
              "      <td>Garden Coloring Book</td>\n",
              "      <td>ART_AND_DESIGN</td>\n",
              "      <td>4.4</td>\n",
              "      <td>13791</td>\n",
              "      <td>33M</td>\n",
              "      <td>1,000,000+</td>\n",
              "      <td>Free</td>\n",
              "      <td>0</td>\n",
              "      <td>Everyone</td>\n",
              "      <td>Art &amp; Design</td>\n",
              "      <td>September 20, 2017</td>\n",
              "      <td>2.9.2</td>\n",
              "      <td>3.0 and up</td>\n",
              "    </tr>\n",
              "    <tr>\n",
              "      <th>9</th>\n",
              "      <td>Kids Paint Free - Drawing Fun</td>\n",
              "      <td>ART_AND_DESIGN</td>\n",
              "      <td>4.7</td>\n",
              "      <td>121</td>\n",
              "      <td>3.1M</td>\n",
              "      <td>10,000+</td>\n",
              "      <td>Free</td>\n",
              "      <td>0</td>\n",
              "      <td>Everyone</td>\n",
              "      <td>Art &amp; Design;Creativity</td>\n",
              "      <td>July 3, 2018</td>\n",
              "      <td>2.8</td>\n",
              "      <td>4.0.3 and up</td>\n",
              "    </tr>\n",
              "  </tbody>\n",
              "</table>\n",
              "</div>\n",
              "      <button class=\"colab-df-convert\" onclick=\"convertToInteractive('df-1a0da826-de3a-486f-b587-3d5733e8d949')\"\n",
              "              title=\"Convert this dataframe to an interactive table.\"\n",
              "              style=\"display:none;\">\n",
              "        \n",
              "  <svg xmlns=\"http://www.w3.org/2000/svg\" height=\"24px\"viewBox=\"0 0 24 24\"\n",
              "       width=\"24px\">\n",
              "    <path d=\"M0 0h24v24H0V0z\" fill=\"none\"/>\n",
              "    <path d=\"M18.56 5.44l.94 2.06.94-2.06 2.06-.94-2.06-.94-.94-2.06-.94 2.06-2.06.94zm-11 1L8.5 8.5l.94-2.06 2.06-.94-2.06-.94L8.5 2.5l-.94 2.06-2.06.94zm10 10l.94 2.06.94-2.06 2.06-.94-2.06-.94-.94-2.06-.94 2.06-2.06.94z\"/><path d=\"M17.41 7.96l-1.37-1.37c-.4-.4-.92-.59-1.43-.59-.52 0-1.04.2-1.43.59L10.3 9.45l-7.72 7.72c-.78.78-.78 2.05 0 2.83L4 21.41c.39.39.9.59 1.41.59.51 0 1.02-.2 1.41-.59l7.78-7.78 2.81-2.81c.8-.78.8-2.07 0-2.86zM5.41 20L4 18.59l7.72-7.72 1.47 1.35L5.41 20z\"/>\n",
              "  </svg>\n",
              "      </button>\n",
              "      \n",
              "  <style>\n",
              "    .colab-df-container {\n",
              "      display:flex;\n",
              "      flex-wrap:wrap;\n",
              "      gap: 12px;\n",
              "    }\n",
              "\n",
              "    .colab-df-convert {\n",
              "      background-color: #E8F0FE;\n",
              "      border: none;\n",
              "      border-radius: 50%;\n",
              "      cursor: pointer;\n",
              "      display: none;\n",
              "      fill: #1967D2;\n",
              "      height: 32px;\n",
              "      padding: 0 0 0 0;\n",
              "      width: 32px;\n",
              "    }\n",
              "\n",
              "    .colab-df-convert:hover {\n",
              "      background-color: #E2EBFA;\n",
              "      box-shadow: 0px 1px 2px rgba(60, 64, 67, 0.3), 0px 1px 3px 1px rgba(60, 64, 67, 0.15);\n",
              "      fill: #174EA6;\n",
              "    }\n",
              "\n",
              "    [theme=dark] .colab-df-convert {\n",
              "      background-color: #3B4455;\n",
              "      fill: #D2E3FC;\n",
              "    }\n",
              "\n",
              "    [theme=dark] .colab-df-convert:hover {\n",
              "      background-color: #434B5C;\n",
              "      box-shadow: 0px 1px 3px 1px rgba(0, 0, 0, 0.15);\n",
              "      filter: drop-shadow(0px 1px 2px rgba(0, 0, 0, 0.3));\n",
              "      fill: #FFFFFF;\n",
              "    }\n",
              "  </style>\n",
              "\n",
              "      <script>\n",
              "        const buttonEl =\n",
              "          document.querySelector('#df-1a0da826-de3a-486f-b587-3d5733e8d949 button.colab-df-convert');\n",
              "        buttonEl.style.display =\n",
              "          google.colab.kernel.accessAllowed ? 'block' : 'none';\n",
              "\n",
              "        async function convertToInteractive(key) {\n",
              "          const element = document.querySelector('#df-1a0da826-de3a-486f-b587-3d5733e8d949');\n",
              "          const dataTable =\n",
              "            await google.colab.kernel.invokeFunction('convertToInteractive',\n",
              "                                                     [key], {});\n",
              "          if (!dataTable) return;\n",
              "\n",
              "          const docLinkHtml = 'Like what you see? Visit the ' +\n",
              "            '<a target=\"_blank\" href=https://colab.research.google.com/notebooks/data_table.ipynb>data table notebook</a>'\n",
              "            + ' to learn more about interactive tables.';\n",
              "          element.innerHTML = '';\n",
              "          dataTable['output_type'] = 'display_data';\n",
              "          await google.colab.output.renderOutput(dataTable, element);\n",
              "          const docLink = document.createElement('div');\n",
              "          docLink.innerHTML = docLinkHtml;\n",
              "          element.appendChild(docLink);\n",
              "        }\n",
              "      </script>\n",
              "    </div>\n",
              "  </div>\n",
              "  "
            ]
          },
          "metadata": {},
          "execution_count": 8
        }
      ]
    },
    {
      "cell_type": "markdown",
      "source": [
        "So now we know that the data set contains a total of **10841** rows and **13** columns. And the various columns are:\n",
        "\n",
        "\n",
        "\n",
        "1.   **App** - The name of the app \n",
        "2.   **Category** - The category a particular app belongs to, e.g., 'Game', 'Travel and local', 'Dating' etc.\n",
        "3. **Rating** - Rating is an average of user ratings given at that time when this data was extracted.\n",
        "4. **Reviews** - Count of number of reviews received by an app.\n",
        "5. **Size** - The space an app will occupy in your storage if you install it.\n",
        "6. **Installs** - Number of times an app has been downloaded since its launch.\n",
        "7. **Price** - The amount you have to pay if you purchase the app. \n",
        "8. **Type** - Whether it's a free or paid app.\n",
        "9. **Content Rating** - An indication of that age-group for which the content of an app is suitable for. e.g., some content are rated as \"X\" meaning no one under 17 years of age is allowed.\n",
        "10. **Genre** - Similar to category\n",
        "11. **Last updated** - The date when new additions/features were introduced in the app.\n",
        "12. **Current version** - Version of the app being used\n",
        "13. **Android version** - That minimum version of your andriod device, which is required for an app to perform well.\n",
        "\n",
        "Having been familiarized with the data set a bit, let's begin our journey."
      ],
      "metadata": {
        "id": "Mk7RKnwI8Dio"
      }
    },
    {
      "cell_type": "markdown",
      "source": [
        "## 1. Data cleaning\n",
        "\n",
        "In this step we are going to:\n",
        "\n",
        "\n",
        ">(i) Remove unnecessary columns and rows<br>\n",
        "(ii)  Check the data type of variables and if required convert them<br>\n",
        "(iii) Remove dupplicate and repetative entries if any<br>\n",
        "(iv) Treat null values\n",
        "\n",
        "For this, let us first check the unique values in concerned variables."
      ],
      "metadata": {
        "id": "n22cLvJxfhpi"
      }
    },
    {
      "cell_type": "code",
      "source": [
        "temp_df['Category'].unique()"
      ],
      "metadata": {
        "colab": {
          "base_uri": "https://localhost:8080/"
        },
        "id": "70mLUNt2_0ol",
        "outputId": "0d5626c0-9c3d-4f1c-8a6d-f7e661ea62c7"
      },
      "execution_count": null,
      "outputs": [
        {
          "output_type": "execute_result",
          "data": {
            "text/plain": [
              "array(['ART_AND_DESIGN', 'AUTO_AND_VEHICLES', 'BEAUTY',\n",
              "       'BOOKS_AND_REFERENCE', 'BUSINESS', 'COMICS', 'COMMUNICATION',\n",
              "       'DATING', 'EDUCATION', 'ENTERTAINMENT', 'EVENTS', 'FINANCE',\n",
              "       'FOOD_AND_DRINK', 'HEALTH_AND_FITNESS', 'HOUSE_AND_HOME',\n",
              "       'LIBRARIES_AND_DEMO', 'LIFESTYLE', 'GAME', 'FAMILY', 'MEDICAL',\n",
              "       'SOCIAL', 'SHOPPING', 'PHOTOGRAPHY', 'SPORTS', 'TRAVEL_AND_LOCAL',\n",
              "       'TOOLS', 'PERSONALIZATION', 'PRODUCTIVITY', 'PARENTING', 'WEATHER',\n",
              "       'VIDEO_PLAYERS', 'NEWS_AND_MAGAZINES', 'MAPS_AND_NAVIGATION',\n",
              "       '1.9'], dtype=object)"
            ]
          },
          "metadata": {},
          "execution_count": 9
        }
      ]
    },
    {
      "cell_type": "code",
      "source": [
        "temp_df['Rating'].unique()"
      ],
      "metadata": {
        "colab": {
          "base_uri": "https://localhost:8080/"
        },
        "id": "NpfFbnFW7qvg",
        "outputId": "762fd861-b0d0-46cd-a000-91081883bb95"
      },
      "execution_count": null,
      "outputs": [
        {
          "output_type": "execute_result",
          "data": {
            "text/plain": [
              "array([ 4.1,  3.9,  4.7,  4.5,  4.3,  4.4,  3.8,  4.2,  4.6,  3.2,  4. ,\n",
              "        nan,  4.8,  4.9,  3.6,  3.7,  3.3,  3.4,  3.5,  3.1,  5. ,  2.6,\n",
              "        3. ,  1.9,  2.5,  2.8,  2.7,  1. ,  2.9,  2.3,  2.2,  1.7,  2. ,\n",
              "        1.8,  2.4,  1.6,  2.1,  1.4,  1.5,  1.2, 19. ])"
            ]
          },
          "metadata": {},
          "execution_count": 10
        }
      ]
    },
    {
      "cell_type": "code",
      "source": [
        "temp_df['Size'].unique()"
      ],
      "metadata": {
        "colab": {
          "base_uri": "https://localhost:8080/"
        },
        "id": "gQkVkqTf7xSE",
        "outputId": "cad7401a-f1a9-4e6a-dd30-d162a7dfe93c"
      },
      "execution_count": null,
      "outputs": [
        {
          "output_type": "execute_result",
          "data": {
            "text/plain": [
              "array(['19M', '14M', '8.7M', '25M', '2.8M', '5.6M', '29M', '33M', '3.1M',\n",
              "       '28M', '12M', '20M', '21M', '37M', '2.7M', '5.5M', '17M', '39M',\n",
              "       '31M', '4.2M', '7.0M', '23M', '6.0M', '6.1M', '4.6M', '9.2M',\n",
              "       '5.2M', '11M', '24M', 'Varies with device', '9.4M', '15M', '10M',\n",
              "       '1.2M', '26M', '8.0M', '7.9M', '56M', '57M', '35M', '54M', '201k',\n",
              "       '3.6M', '5.7M', '8.6M', '2.4M', '27M', '2.5M', '16M', '3.4M',\n",
              "       '8.9M', '3.9M', '2.9M', '38M', '32M', '5.4M', '18M', '1.1M',\n",
              "       '2.2M', '4.5M', '9.8M', '52M', '9.0M', '6.7M', '30M', '2.6M',\n",
              "       '7.1M', '3.7M', '22M', '7.4M', '6.4M', '3.2M', '8.2M', '9.9M',\n",
              "       '4.9M', '9.5M', '5.0M', '5.9M', '13M', '73M', '6.8M', '3.5M',\n",
              "       '4.0M', '2.3M', '7.2M', '2.1M', '42M', '7.3M', '9.1M', '55M',\n",
              "       '23k', '6.5M', '1.5M', '7.5M', '51M', '41M', '48M', '8.5M', '46M',\n",
              "       '8.3M', '4.3M', '4.7M', '3.3M', '40M', '7.8M', '8.8M', '6.6M',\n",
              "       '5.1M', '61M', '66M', '79k', '8.4M', '118k', '44M', '695k', '1.6M',\n",
              "       '6.2M', '18k', '53M', '1.4M', '3.0M', '5.8M', '3.8M', '9.6M',\n",
              "       '45M', '63M', '49M', '77M', '4.4M', '4.8M', '70M', '6.9M', '9.3M',\n",
              "       '10.0M', '8.1M', '36M', '84M', '97M', '2.0M', '1.9M', '1.8M',\n",
              "       '5.3M', '47M', '556k', '526k', '76M', '7.6M', '59M', '9.7M', '78M',\n",
              "       '72M', '43M', '7.7M', '6.3M', '334k', '34M', '93M', '65M', '79M',\n",
              "       '100M', '58M', '50M', '68M', '64M', '67M', '60M', '94M', '232k',\n",
              "       '99M', '624k', '95M', '8.5k', '41k', '292k', '11k', '80M', '1.7M',\n",
              "       '74M', '62M', '69M', '75M', '98M', '85M', '82M', '96M', '87M',\n",
              "       '71M', '86M', '91M', '81M', '92M', '83M', '88M', '704k', '862k',\n",
              "       '899k', '378k', '266k', '375k', '1.3M', '975k', '980k', '4.1M',\n",
              "       '89M', '696k', '544k', '525k', '920k', '779k', '853k', '720k',\n",
              "       '713k', '772k', '318k', '58k', '241k', '196k', '857k', '51k',\n",
              "       '953k', '865k', '251k', '930k', '540k', '313k', '746k', '203k',\n",
              "       '26k', '314k', '239k', '371k', '220k', '730k', '756k', '91k',\n",
              "       '293k', '17k', '74k', '14k', '317k', '78k', '924k', '902k', '818k',\n",
              "       '81k', '939k', '169k', '45k', '475k', '965k', '90M', '545k', '61k',\n",
              "       '283k', '655k', '714k', '93k', '872k', '121k', '322k', '1.0M',\n",
              "       '976k', '172k', '238k', '549k', '206k', '954k', '444k', '717k',\n",
              "       '210k', '609k', '308k', '705k', '306k', '904k', '473k', '175k',\n",
              "       '350k', '383k', '454k', '421k', '70k', '812k', '442k', '842k',\n",
              "       '417k', '412k', '459k', '478k', '335k', '782k', '721k', '430k',\n",
              "       '429k', '192k', '200k', '460k', '728k', '496k', '816k', '414k',\n",
              "       '506k', '887k', '613k', '243k', '569k', '778k', '683k', '592k',\n",
              "       '319k', '186k', '840k', '647k', '191k', '373k', '437k', '598k',\n",
              "       '716k', '585k', '982k', '222k', '219k', '55k', '948k', '323k',\n",
              "       '691k', '511k', '951k', '963k', '25k', '554k', '351k', '27k',\n",
              "       '82k', '208k', '913k', '514k', '551k', '29k', '103k', '898k',\n",
              "       '743k', '116k', '153k', '209k', '353k', '499k', '173k', '597k',\n",
              "       '809k', '122k', '411k', '400k', '801k', '787k', '237k', '50k',\n",
              "       '643k', '986k', '97k', '516k', '837k', '780k', '961k', '269k',\n",
              "       '20k', '498k', '600k', '749k', '642k', '881k', '72k', '656k',\n",
              "       '601k', '221k', '228k', '108k', '940k', '176k', '33k', '663k',\n",
              "       '34k', '942k', '259k', '164k', '458k', '245k', '629k', '28k',\n",
              "       '288k', '775k', '785k', '636k', '916k', '994k', '309k', '485k',\n",
              "       '914k', '903k', '608k', '500k', '54k', '562k', '847k', '957k',\n",
              "       '688k', '811k', '270k', '48k', '329k', '523k', '921k', '874k',\n",
              "       '981k', '784k', '280k', '24k', '518k', '754k', '892k', '154k',\n",
              "       '860k', '364k', '387k', '626k', '161k', '879k', '39k', '970k',\n",
              "       '170k', '141k', '160k', '144k', '143k', '190k', '376k', '193k',\n",
              "       '246k', '73k', '658k', '992k', '253k', '420k', '404k', '1,000+',\n",
              "       '470k', '226k', '240k', '89k', '234k', '257k', '861k', '467k',\n",
              "       '157k', '44k', '676k', '67k', '552k', '885k', '1020k', '582k',\n",
              "       '619k'], dtype=object)"
            ]
          },
          "metadata": {},
          "execution_count": 11
        }
      ]
    },
    {
      "cell_type": "code",
      "source": [
        "temp_df['Installs'].unique()"
      ],
      "metadata": {
        "colab": {
          "base_uri": "https://localhost:8080/"
        },
        "id": "d22lj05l8Be7",
        "outputId": "2bd016be-66c8-442f-d510-f30ab04e636b"
      },
      "execution_count": null,
      "outputs": [
        {
          "output_type": "execute_result",
          "data": {
            "text/plain": [
              "array(['10,000+', '500,000+', '5,000,000+', '50,000,000+', '100,000+',\n",
              "       '50,000+', '1,000,000+', '10,000,000+', '5,000+', '100,000,000+',\n",
              "       '1,000,000,000+', '1,000+', '500,000,000+', '50+', '100+', '500+',\n",
              "       '10+', '1+', '5+', '0+', '0', 'Free'], dtype=object)"
            ]
          },
          "metadata": {},
          "execution_count": 12
        }
      ]
    },
    {
      "cell_type": "code",
      "source": [
        "temp_df['Type'].unique()"
      ],
      "metadata": {
        "colab": {
          "base_uri": "https://localhost:8080/"
        },
        "id": "6FA6ySZu8Igu",
        "outputId": "bb551abe-bd12-46c6-e080-fb88b7617d41"
      },
      "execution_count": null,
      "outputs": [
        {
          "output_type": "execute_result",
          "data": {
            "text/plain": [
              "array(['Free', 'Paid', nan, '0'], dtype=object)"
            ]
          },
          "metadata": {},
          "execution_count": 13
        }
      ]
    },
    {
      "cell_type": "code",
      "source": [
        "# Checking the datatype of variables\n",
        "temp_df.info()"
      ],
      "metadata": {
        "colab": {
          "base_uri": "https://localhost:8080/"
        },
        "id": "ljCptIUsp1g8",
        "outputId": "a4277e1d-1177-42ff-e567-6e1b956d85f3"
      },
      "execution_count": null,
      "outputs": [
        {
          "output_type": "stream",
          "name": "stdout",
          "text": [
            "<class 'pandas.core.frame.DataFrame'>\n",
            "RangeIndex: 10841 entries, 0 to 10840\n",
            "Data columns (total 13 columns):\n",
            " #   Column          Non-Null Count  Dtype  \n",
            "---  ------          --------------  -----  \n",
            " 0   App             10841 non-null  object \n",
            " 1   Category        10841 non-null  object \n",
            " 2   Rating          9367 non-null   float64\n",
            " 3   Reviews         10841 non-null  object \n",
            " 4   Size            10841 non-null  object \n",
            " 5   Installs        10841 non-null  object \n",
            " 6   Type            10840 non-null  object \n",
            " 7   Price           10841 non-null  object \n",
            " 8   Content Rating  10840 non-null  object \n",
            " 9   Genres          10841 non-null  object \n",
            " 10  Last Updated    10841 non-null  object \n",
            " 11  Current Ver     10833 non-null  object \n",
            " 12  Android Ver     10838 non-null  object \n",
            "dtypes: float64(1), object(12)\n",
            "memory usage: 1.1+ MB\n"
          ]
        }
      ]
    },
    {
      "cell_type": "markdown",
      "source": [
        "Here we can see that \"Reviews\", \"Size\", \"Installs\", \"Price\", and \"Last Updated\" are of data-type string, and to perform necessary analysis we will have to convert them into numeric and date as required."
      ],
      "metadata": {
        "id": "RtbCHJUOLeOZ"
      }
    },
    {
      "cell_type": "code",
      "source": [
        "# Extracting the row with element '1.9' in Category column \n",
        "temp_df[(temp_df['Category'] == '1.9')]"
      ],
      "metadata": {
        "colab": {
          "base_uri": "https://localhost:8080/",
          "height": 159
        },
        "id": "j6aSrSRryy0v",
        "outputId": "6c80abd3-dea8-44fd-87f7-47dcd1e382f7"
      },
      "execution_count": null,
      "outputs": [
        {
          "output_type": "execute_result",
          "data": {
            "text/plain": [
              "                                           App Category  Rating Reviews  \\\n",
              "10472  Life Made WI-Fi Touchscreen Photo Frame      1.9    19.0    3.0M   \n",
              "\n",
              "         Size Installs Type     Price Content Rating             Genres  \\\n",
              "10472  1,000+     Free    0  Everyone            NaN  February 11, 2018   \n",
              "\n",
              "      Last Updated Current Ver Android Ver  \n",
              "10472       1.0.19  4.0 and up         NaN  "
            ],
            "text/html": [
              "\n",
              "  <div id=\"df-973806c2-060c-43ec-9feb-cf7b89274622\">\n",
              "    <div class=\"colab-df-container\">\n",
              "      <div>\n",
              "<style scoped>\n",
              "    .dataframe tbody tr th:only-of-type {\n",
              "        vertical-align: middle;\n",
              "    }\n",
              "\n",
              "    .dataframe tbody tr th {\n",
              "        vertical-align: top;\n",
              "    }\n",
              "\n",
              "    .dataframe thead th {\n",
              "        text-align: right;\n",
              "    }\n",
              "</style>\n",
              "<table border=\"1\" class=\"dataframe\">\n",
              "  <thead>\n",
              "    <tr style=\"text-align: right;\">\n",
              "      <th></th>\n",
              "      <th>App</th>\n",
              "      <th>Category</th>\n",
              "      <th>Rating</th>\n",
              "      <th>Reviews</th>\n",
              "      <th>Size</th>\n",
              "      <th>Installs</th>\n",
              "      <th>Type</th>\n",
              "      <th>Price</th>\n",
              "      <th>Content Rating</th>\n",
              "      <th>Genres</th>\n",
              "      <th>Last Updated</th>\n",
              "      <th>Current Ver</th>\n",
              "      <th>Android Ver</th>\n",
              "    </tr>\n",
              "  </thead>\n",
              "  <tbody>\n",
              "    <tr>\n",
              "      <th>10472</th>\n",
              "      <td>Life Made WI-Fi Touchscreen Photo Frame</td>\n",
              "      <td>1.9</td>\n",
              "      <td>19.0</td>\n",
              "      <td>3.0M</td>\n",
              "      <td>1,000+</td>\n",
              "      <td>Free</td>\n",
              "      <td>0</td>\n",
              "      <td>Everyone</td>\n",
              "      <td>NaN</td>\n",
              "      <td>February 11, 2018</td>\n",
              "      <td>1.0.19</td>\n",
              "      <td>4.0 and up</td>\n",
              "      <td>NaN</td>\n",
              "    </tr>\n",
              "  </tbody>\n",
              "</table>\n",
              "</div>\n",
              "      <button class=\"colab-df-convert\" onclick=\"convertToInteractive('df-973806c2-060c-43ec-9feb-cf7b89274622')\"\n",
              "              title=\"Convert this dataframe to an interactive table.\"\n",
              "              style=\"display:none;\">\n",
              "        \n",
              "  <svg xmlns=\"http://www.w3.org/2000/svg\" height=\"24px\"viewBox=\"0 0 24 24\"\n",
              "       width=\"24px\">\n",
              "    <path d=\"M0 0h24v24H0V0z\" fill=\"none\"/>\n",
              "    <path d=\"M18.56 5.44l.94 2.06.94-2.06 2.06-.94-2.06-.94-.94-2.06-.94 2.06-2.06.94zm-11 1L8.5 8.5l.94-2.06 2.06-.94-2.06-.94L8.5 2.5l-.94 2.06-2.06.94zm10 10l.94 2.06.94-2.06 2.06-.94-2.06-.94-.94-2.06-.94 2.06-2.06.94z\"/><path d=\"M17.41 7.96l-1.37-1.37c-.4-.4-.92-.59-1.43-.59-.52 0-1.04.2-1.43.59L10.3 9.45l-7.72 7.72c-.78.78-.78 2.05 0 2.83L4 21.41c.39.39.9.59 1.41.59.51 0 1.02-.2 1.41-.59l7.78-7.78 2.81-2.81c.8-.78.8-2.07 0-2.86zM5.41 20L4 18.59l7.72-7.72 1.47 1.35L5.41 20z\"/>\n",
              "  </svg>\n",
              "      </button>\n",
              "      \n",
              "  <style>\n",
              "    .colab-df-container {\n",
              "      display:flex;\n",
              "      flex-wrap:wrap;\n",
              "      gap: 12px;\n",
              "    }\n",
              "\n",
              "    .colab-df-convert {\n",
              "      background-color: #E8F0FE;\n",
              "      border: none;\n",
              "      border-radius: 50%;\n",
              "      cursor: pointer;\n",
              "      display: none;\n",
              "      fill: #1967D2;\n",
              "      height: 32px;\n",
              "      padding: 0 0 0 0;\n",
              "      width: 32px;\n",
              "    }\n",
              "\n",
              "    .colab-df-convert:hover {\n",
              "      background-color: #E2EBFA;\n",
              "      box-shadow: 0px 1px 2px rgba(60, 64, 67, 0.3), 0px 1px 3px 1px rgba(60, 64, 67, 0.15);\n",
              "      fill: #174EA6;\n",
              "    }\n",
              "\n",
              "    [theme=dark] .colab-df-convert {\n",
              "      background-color: #3B4455;\n",
              "      fill: #D2E3FC;\n",
              "    }\n",
              "\n",
              "    [theme=dark] .colab-df-convert:hover {\n",
              "      background-color: #434B5C;\n",
              "      box-shadow: 0px 1px 3px 1px rgba(0, 0, 0, 0.15);\n",
              "      filter: drop-shadow(0px 1px 2px rgba(0, 0, 0, 0.3));\n",
              "      fill: #FFFFFF;\n",
              "    }\n",
              "  </style>\n",
              "\n",
              "      <script>\n",
              "        const buttonEl =\n",
              "          document.querySelector('#df-973806c2-060c-43ec-9feb-cf7b89274622 button.colab-df-convert');\n",
              "        buttonEl.style.display =\n",
              "          google.colab.kernel.accessAllowed ? 'block' : 'none';\n",
              "\n",
              "        async function convertToInteractive(key) {\n",
              "          const element = document.querySelector('#df-973806c2-060c-43ec-9feb-cf7b89274622');\n",
              "          const dataTable =\n",
              "            await google.colab.kernel.invokeFunction('convertToInteractive',\n",
              "                                                     [key], {});\n",
              "          if (!dataTable) return;\n",
              "\n",
              "          const docLinkHtml = 'Like what you see? Visit the ' +\n",
              "            '<a target=\"_blank\" href=https://colab.research.google.com/notebooks/data_table.ipynb>data table notebook</a>'\n",
              "            + ' to learn more about interactive tables.';\n",
              "          element.innerHTML = '';\n",
              "          dataTable['output_type'] = 'display_data';\n",
              "          await google.colab.output.renderOutput(dataTable, element);\n",
              "          const docLink = document.createElement('div');\n",
              "          docLink.innerHTML = docLinkHtml;\n",
              "          element.appendChild(docLink);\n",
              "        }\n",
              "      </script>\n",
              "    </div>\n",
              "  </div>\n",
              "  "
            ]
          },
          "metadata": {},
          "execution_count": 16
        }
      ]
    },
    {
      "cell_type": "markdown",
      "source": [
        "In the above cell we can see that 'Category' is missing an element and so subsequent elements have shifted towards left so we are going to remove the row altogether."
      ],
      "metadata": {
        "id": "rgQFzkBHz5Jx"
      }
    },
    {
      "cell_type": "code",
      "source": [
        "temp_df.drop(10472,axis=0,inplace=True)"
      ],
      "metadata": {
        "id": "uTrKtnBuzUfE"
      },
      "execution_count": null,
      "outputs": []
    },
    {
      "cell_type": "code",
      "source": [
        "#For 'Reviews'\n",
        "temp_df['Reviews'] = temp_df['Reviews'].astype(int)\n",
        "\n",
        "#For 'Installs'\n",
        "temp_df['Installs'] = temp_df['Installs'].str.replace(',','')\n",
        "temp_df['Installs'] = temp_df['Installs'].str.replace('+','')\n",
        "temp_df['Installs'] = temp_df['Installs'].astype(int)\n",
        "\n",
        "#For 'Price'\n",
        "temp_df['Price'] = temp_df['Price'].str.replace('$','')\n",
        "temp_df['Price'] = temp_df['Price'].astype(float)\n",
        "\n",
        "#For 'Sizes'\n",
        "temp_df['Size'].replace(\"Varies with device\",\"0\",inplace = True)\n",
        "\n",
        "sizes_list = temp_df['Size']\n",
        "\n",
        "list_of_new_sizes = []\n",
        "for size in sizes_list:\n",
        "  if '0' in size:\n",
        "    size = float(0)   \n",
        "  elif 'k' in size:\n",
        "    size = size.replace('k', '')\n",
        "    size = float(size)\n",
        "    size = size/1024\n",
        "  elif 'M' in size:\n",
        "    size = size.replace('M', '')  \n",
        "    size = float(size)\n",
        "  \n",
        "  list_of_new_sizes.append(size)\n",
        "\n",
        "#For 'Last Updated'\n",
        "temp_df['Last Updated'] = pd.to_datetime(temp_df['Last Updated'])"
      ],
      "metadata": {
        "colab": {
          "base_uri": "https://localhost:8080/"
        },
        "id": "F5vcVdpSJWs2",
        "outputId": "8b7e982f-d17a-4614-bf34-fd2fc2118428"
      },
      "execution_count": null,
      "outputs": [
        {
          "output_type": "stream",
          "name": "stderr",
          "text": [
            "/usr/local/lib/python3.7/dist-packages/ipykernel_launcher.py:6: FutureWarning: The default value of regex will change from True to False in a future version. In addition, single character regular expressions will *not* be treated as literal strings when regex=True.\n",
            "  \n",
            "/usr/local/lib/python3.7/dist-packages/ipykernel_launcher.py:10: FutureWarning: The default value of regex will change from True to False in a future version. In addition, single character regular expressions will *not* be treated as literal strings when regex=True.\n",
            "  # Remove the CWD from sys.path while we load stuff.\n"
          ]
        }
      ]
    },
    {
      "cell_type": "code",
      "source": [
        "#Checking for duplicate entries\n",
        "temp_df.duplicated().sum()"
      ],
      "metadata": {
        "colab": {
          "base_uri": "https://localhost:8080/"
        },
        "id": "ZdiddtKijv4T",
        "outputId": "254b74ef-9b91-44e0-f496-344a4f6b57e6"
      },
      "execution_count": null,
      "outputs": [
        {
          "output_type": "execute_result",
          "data": {
            "text/plain": [
              "483"
            ]
          },
          "metadata": {},
          "execution_count": 19
        }
      ]
    },
    {
      "cell_type": "code",
      "source": [
        "#Removing duplicates and checking the shape of new dataframe\n",
        "temp_df = temp_df.drop_duplicates().reset_index(drop=True)\n",
        "temp_df.shape"
      ],
      "metadata": {
        "colab": {
          "base_uri": "https://localhost:8080/"
        },
        "id": "i4NV8PWLj3yg",
        "outputId": "04c27425-bf1e-4b8d-8c68-9595bfac1bb6"
      },
      "execution_count": null,
      "outputs": [
        {
          "output_type": "execute_result",
          "data": {
            "text/plain": [
              "(10357, 13)"
            ]
          },
          "metadata": {},
          "execution_count": 20
        }
      ]
    },
    {
      "cell_type": "markdown",
      "source": [
        "Now let us ensure that one app should have one row/observation only. After removing duplicates, we have left **10357** rows, which means number of unique apps should also be the same. Let's find out."
      ],
      "metadata": {
        "id": "1auhH7-nbwBB"
      }
    },
    {
      "cell_type": "code",
      "source": [
        "# Checking number of unique apps\n",
        "temp_df['App'].nunique()"
      ],
      "metadata": {
        "colab": {
          "base_uri": "https://localhost:8080/"
        },
        "id": "xiNfuA9R2SH-",
        "outputId": "8fad776e-a888-463e-98ae-075fb5548c5e"
      },
      "execution_count": null,
      "outputs": [
        {
          "output_type": "execute_result",
          "data": {
            "text/plain": [
              "9659"
            ]
          },
          "metadata": {},
          "execution_count": 21
        }
      ]
    },
    {
      "cell_type": "markdown",
      "source": [
        "Number of unique apps in the dataset are **9659** but still there are 698 extra entries. Let's find out what is leading us to this discrepancy."
      ],
      "metadata": {
        "id": "4hHzI0bQcUix"
      }
    },
    {
      "cell_type": "code",
      "source": [
        "temp_df['App'].value_counts()"
      ],
      "metadata": {
        "colab": {
          "base_uri": "https://localhost:8080/"
        },
        "id": "22r0SJMWdmmo",
        "outputId": "a439260e-ac18-4961-92a9-395149d5c62d"
      },
      "execution_count": null,
      "outputs": [
        {
          "output_type": "execute_result",
          "data": {
            "text/plain": [
              "ROBLOX                                           9\n",
              "8 Ball Pool                                      7\n",
              "Bubble Shooter                                   6\n",
              "Helix Jump                                       6\n",
              "Zombie Catchers                                  6\n",
              "                                                ..\n",
              "Popsicle Launcher for Android P 9.0 launcher     1\n",
              "PixelLab - Text on pictures                      1\n",
              "P Launcher for Android™ 9.0                      1\n",
              "Pacify (Android P theme) - Theme for Xperia™     1\n",
              "iHoroscope - 2018 Daily Horoscope & Astrology    1\n",
              "Name: App, Length: 9659, dtype: int64"
            ]
          },
          "metadata": {},
          "execution_count": 22
        }
      ]
    },
    {
      "cell_type": "code",
      "source": [
        "temp_df.loc[temp_df['App'] == 'ROBLOX']"
      ],
      "metadata": {
        "colab": {
          "base_uri": "https://localhost:8080/",
          "height": 549
        },
        "id": "rt4fdBaUdFe4",
        "outputId": "bf35947e-cd20-416a-bf0f-07bcc9c7cf5c"
      },
      "execution_count": null,
      "outputs": [
        {
          "output_type": "execute_result",
          "data": {
            "text/plain": [
              "         App Category  Rating  Reviews Size   Installs  Type  Price  \\\n",
              "1446  ROBLOX     GAME     4.5  4447388  67M  100000000  Free    0.0   \n",
              "1494  ROBLOX     GAME     4.5  4447346  67M  100000000  Free    0.0   \n",
              "1538  ROBLOX     GAME     4.5  4448791  67M  100000000  Free    0.0   \n",
              "1625  ROBLOX     GAME     4.5  4449882  67M  100000000  Free    0.0   \n",
              "1653  ROBLOX     GAME     4.5  4449910  67M  100000000  Free    0.0   \n",
              "1786  ROBLOX   FAMILY     4.5  4449910  67M  100000000  Free    0.0   \n",
              "1857  ROBLOX   FAMILY     4.5  4450855  67M  100000000  Free    0.0   \n",
              "1956  ROBLOX   FAMILY     4.5  4450890  67M  100000000  Free    0.0   \n",
              "4072  ROBLOX   FAMILY     4.5  4443407  67M  100000000  Free    0.0   \n",
              "\n",
              "     Content Rating                        Genres Last Updated   Current Ver  \\\n",
              "1446   Everyone 10+  Adventure;Action & Adventure   2018-07-31  2.347.225742   \n",
              "1494   Everyone 10+  Adventure;Action & Adventure   2018-07-31  2.347.225742   \n",
              "1538   Everyone 10+  Adventure;Action & Adventure   2018-07-31  2.347.225742   \n",
              "1625   Everyone 10+  Adventure;Action & Adventure   2018-07-31  2.347.225742   \n",
              "1653   Everyone 10+  Adventure;Action & Adventure   2018-07-31  2.347.225742   \n",
              "1786   Everyone 10+  Adventure;Action & Adventure   2018-07-31  2.347.225742   \n",
              "1857   Everyone 10+  Adventure;Action & Adventure   2018-07-31  2.347.225742   \n",
              "1956   Everyone 10+  Adventure;Action & Adventure   2018-07-31  2.347.225742   \n",
              "4072   Everyone 10+  Adventure;Action & Adventure   2018-07-31  2.347.225742   \n",
              "\n",
              "     Android Ver  \n",
              "1446  4.1 and up  \n",
              "1494  4.1 and up  \n",
              "1538  4.1 and up  \n",
              "1625  4.1 and up  \n",
              "1653  4.1 and up  \n",
              "1786  4.1 and up  \n",
              "1857  4.1 and up  \n",
              "1956  4.1 and up  \n",
              "4072  4.1 and up  "
            ],
            "text/html": [
              "\n",
              "  <div id=\"df-2e00670b-9100-420c-afb1-2ff65260a324\">\n",
              "    <div class=\"colab-df-container\">\n",
              "      <div>\n",
              "<style scoped>\n",
              "    .dataframe tbody tr th:only-of-type {\n",
              "        vertical-align: middle;\n",
              "    }\n",
              "\n",
              "    .dataframe tbody tr th {\n",
              "        vertical-align: top;\n",
              "    }\n",
              "\n",
              "    .dataframe thead th {\n",
              "        text-align: right;\n",
              "    }\n",
              "</style>\n",
              "<table border=\"1\" class=\"dataframe\">\n",
              "  <thead>\n",
              "    <tr style=\"text-align: right;\">\n",
              "      <th></th>\n",
              "      <th>App</th>\n",
              "      <th>Category</th>\n",
              "      <th>Rating</th>\n",
              "      <th>Reviews</th>\n",
              "      <th>Size</th>\n",
              "      <th>Installs</th>\n",
              "      <th>Type</th>\n",
              "      <th>Price</th>\n",
              "      <th>Content Rating</th>\n",
              "      <th>Genres</th>\n",
              "      <th>Last Updated</th>\n",
              "      <th>Current Ver</th>\n",
              "      <th>Android Ver</th>\n",
              "    </tr>\n",
              "  </thead>\n",
              "  <tbody>\n",
              "    <tr>\n",
              "      <th>1446</th>\n",
              "      <td>ROBLOX</td>\n",
              "      <td>GAME</td>\n",
              "      <td>4.5</td>\n",
              "      <td>4447388</td>\n",
              "      <td>67M</td>\n",
              "      <td>100000000</td>\n",
              "      <td>Free</td>\n",
              "      <td>0.0</td>\n",
              "      <td>Everyone 10+</td>\n",
              "      <td>Adventure;Action &amp; Adventure</td>\n",
              "      <td>2018-07-31</td>\n",
              "      <td>2.347.225742</td>\n",
              "      <td>4.1 and up</td>\n",
              "    </tr>\n",
              "    <tr>\n",
              "      <th>1494</th>\n",
              "      <td>ROBLOX</td>\n",
              "      <td>GAME</td>\n",
              "      <td>4.5</td>\n",
              "      <td>4447346</td>\n",
              "      <td>67M</td>\n",
              "      <td>100000000</td>\n",
              "      <td>Free</td>\n",
              "      <td>0.0</td>\n",
              "      <td>Everyone 10+</td>\n",
              "      <td>Adventure;Action &amp; Adventure</td>\n",
              "      <td>2018-07-31</td>\n",
              "      <td>2.347.225742</td>\n",
              "      <td>4.1 and up</td>\n",
              "    </tr>\n",
              "    <tr>\n",
              "      <th>1538</th>\n",
              "      <td>ROBLOX</td>\n",
              "      <td>GAME</td>\n",
              "      <td>4.5</td>\n",
              "      <td>4448791</td>\n",
              "      <td>67M</td>\n",
              "      <td>100000000</td>\n",
              "      <td>Free</td>\n",
              "      <td>0.0</td>\n",
              "      <td>Everyone 10+</td>\n",
              "      <td>Adventure;Action &amp; Adventure</td>\n",
              "      <td>2018-07-31</td>\n",
              "      <td>2.347.225742</td>\n",
              "      <td>4.1 and up</td>\n",
              "    </tr>\n",
              "    <tr>\n",
              "      <th>1625</th>\n",
              "      <td>ROBLOX</td>\n",
              "      <td>GAME</td>\n",
              "      <td>4.5</td>\n",
              "      <td>4449882</td>\n",
              "      <td>67M</td>\n",
              "      <td>100000000</td>\n",
              "      <td>Free</td>\n",
              "      <td>0.0</td>\n",
              "      <td>Everyone 10+</td>\n",
              "      <td>Adventure;Action &amp; Adventure</td>\n",
              "      <td>2018-07-31</td>\n",
              "      <td>2.347.225742</td>\n",
              "      <td>4.1 and up</td>\n",
              "    </tr>\n",
              "    <tr>\n",
              "      <th>1653</th>\n",
              "      <td>ROBLOX</td>\n",
              "      <td>GAME</td>\n",
              "      <td>4.5</td>\n",
              "      <td>4449910</td>\n",
              "      <td>67M</td>\n",
              "      <td>100000000</td>\n",
              "      <td>Free</td>\n",
              "      <td>0.0</td>\n",
              "      <td>Everyone 10+</td>\n",
              "      <td>Adventure;Action &amp; Adventure</td>\n",
              "      <td>2018-07-31</td>\n",
              "      <td>2.347.225742</td>\n",
              "      <td>4.1 and up</td>\n",
              "    </tr>\n",
              "    <tr>\n",
              "      <th>1786</th>\n",
              "      <td>ROBLOX</td>\n",
              "      <td>FAMILY</td>\n",
              "      <td>4.5</td>\n",
              "      <td>4449910</td>\n",
              "      <td>67M</td>\n",
              "      <td>100000000</td>\n",
              "      <td>Free</td>\n",
              "      <td>0.0</td>\n",
              "      <td>Everyone 10+</td>\n",
              "      <td>Adventure;Action &amp; Adventure</td>\n",
              "      <td>2018-07-31</td>\n",
              "      <td>2.347.225742</td>\n",
              "      <td>4.1 and up</td>\n",
              "    </tr>\n",
              "    <tr>\n",
              "      <th>1857</th>\n",
              "      <td>ROBLOX</td>\n",
              "      <td>FAMILY</td>\n",
              "      <td>4.5</td>\n",
              "      <td>4450855</td>\n",
              "      <td>67M</td>\n",
              "      <td>100000000</td>\n",
              "      <td>Free</td>\n",
              "      <td>0.0</td>\n",
              "      <td>Everyone 10+</td>\n",
              "      <td>Adventure;Action &amp; Adventure</td>\n",
              "      <td>2018-07-31</td>\n",
              "      <td>2.347.225742</td>\n",
              "      <td>4.1 and up</td>\n",
              "    </tr>\n",
              "    <tr>\n",
              "      <th>1956</th>\n",
              "      <td>ROBLOX</td>\n",
              "      <td>FAMILY</td>\n",
              "      <td>4.5</td>\n",
              "      <td>4450890</td>\n",
              "      <td>67M</td>\n",
              "      <td>100000000</td>\n",
              "      <td>Free</td>\n",
              "      <td>0.0</td>\n",
              "      <td>Everyone 10+</td>\n",
              "      <td>Adventure;Action &amp; Adventure</td>\n",
              "      <td>2018-07-31</td>\n",
              "      <td>2.347.225742</td>\n",
              "      <td>4.1 and up</td>\n",
              "    </tr>\n",
              "    <tr>\n",
              "      <th>4072</th>\n",
              "      <td>ROBLOX</td>\n",
              "      <td>FAMILY</td>\n",
              "      <td>4.5</td>\n",
              "      <td>4443407</td>\n",
              "      <td>67M</td>\n",
              "      <td>100000000</td>\n",
              "      <td>Free</td>\n",
              "      <td>0.0</td>\n",
              "      <td>Everyone 10+</td>\n",
              "      <td>Adventure;Action &amp; Adventure</td>\n",
              "      <td>2018-07-31</td>\n",
              "      <td>2.347.225742</td>\n",
              "      <td>4.1 and up</td>\n",
              "    </tr>\n",
              "  </tbody>\n",
              "</table>\n",
              "</div>\n",
              "      <button class=\"colab-df-convert\" onclick=\"convertToInteractive('df-2e00670b-9100-420c-afb1-2ff65260a324')\"\n",
              "              title=\"Convert this dataframe to an interactive table.\"\n",
              "              style=\"display:none;\">\n",
              "        \n",
              "  <svg xmlns=\"http://www.w3.org/2000/svg\" height=\"24px\"viewBox=\"0 0 24 24\"\n",
              "       width=\"24px\">\n",
              "    <path d=\"M0 0h24v24H0V0z\" fill=\"none\"/>\n",
              "    <path d=\"M18.56 5.44l.94 2.06.94-2.06 2.06-.94-2.06-.94-.94-2.06-.94 2.06-2.06.94zm-11 1L8.5 8.5l.94-2.06 2.06-.94-2.06-.94L8.5 2.5l-.94 2.06-2.06.94zm10 10l.94 2.06.94-2.06 2.06-.94-2.06-.94-.94-2.06-.94 2.06-2.06.94z\"/><path d=\"M17.41 7.96l-1.37-1.37c-.4-.4-.92-.59-1.43-.59-.52 0-1.04.2-1.43.59L10.3 9.45l-7.72 7.72c-.78.78-.78 2.05 0 2.83L4 21.41c.39.39.9.59 1.41.59.51 0 1.02-.2 1.41-.59l7.78-7.78 2.81-2.81c.8-.78.8-2.07 0-2.86zM5.41 20L4 18.59l7.72-7.72 1.47 1.35L5.41 20z\"/>\n",
              "  </svg>\n",
              "      </button>\n",
              "      \n",
              "  <style>\n",
              "    .colab-df-container {\n",
              "      display:flex;\n",
              "      flex-wrap:wrap;\n",
              "      gap: 12px;\n",
              "    }\n",
              "\n",
              "    .colab-df-convert {\n",
              "      background-color: #E8F0FE;\n",
              "      border: none;\n",
              "      border-radius: 50%;\n",
              "      cursor: pointer;\n",
              "      display: none;\n",
              "      fill: #1967D2;\n",
              "      height: 32px;\n",
              "      padding: 0 0 0 0;\n",
              "      width: 32px;\n",
              "    }\n",
              "\n",
              "    .colab-df-convert:hover {\n",
              "      background-color: #E2EBFA;\n",
              "      box-shadow: 0px 1px 2px rgba(60, 64, 67, 0.3), 0px 1px 3px 1px rgba(60, 64, 67, 0.15);\n",
              "      fill: #174EA6;\n",
              "    }\n",
              "\n",
              "    [theme=dark] .colab-df-convert {\n",
              "      background-color: #3B4455;\n",
              "      fill: #D2E3FC;\n",
              "    }\n",
              "\n",
              "    [theme=dark] .colab-df-convert:hover {\n",
              "      background-color: #434B5C;\n",
              "      box-shadow: 0px 1px 3px 1px rgba(0, 0, 0, 0.15);\n",
              "      filter: drop-shadow(0px 1px 2px rgba(0, 0, 0, 0.3));\n",
              "      fill: #FFFFFF;\n",
              "    }\n",
              "  </style>\n",
              "\n",
              "      <script>\n",
              "        const buttonEl =\n",
              "          document.querySelector('#df-2e00670b-9100-420c-afb1-2ff65260a324 button.colab-df-convert');\n",
              "        buttonEl.style.display =\n",
              "          google.colab.kernel.accessAllowed ? 'block' : 'none';\n",
              "\n",
              "        async function convertToInteractive(key) {\n",
              "          const element = document.querySelector('#df-2e00670b-9100-420c-afb1-2ff65260a324');\n",
              "          const dataTable =\n",
              "            await google.colab.kernel.invokeFunction('convertToInteractive',\n",
              "                                                     [key], {});\n",
              "          if (!dataTable) return;\n",
              "\n",
              "          const docLinkHtml = 'Like what you see? Visit the ' +\n",
              "            '<a target=\"_blank\" href=https://colab.research.google.com/notebooks/data_table.ipynb>data table notebook</a>'\n",
              "            + ' to learn more about interactive tables.';\n",
              "          element.innerHTML = '';\n",
              "          dataTable['output_type'] = 'display_data';\n",
              "          await google.colab.output.renderOutput(dataTable, element);\n",
              "          const docLink = document.createElement('div');\n",
              "          docLink.innerHTML = docLinkHtml;\n",
              "          element.appendChild(docLink);\n",
              "        }\n",
              "      </script>\n",
              "    </div>\n",
              "  </div>\n",
              "  "
            ]
          },
          "metadata": {},
          "execution_count": 23
        }
      ]
    },
    {
      "cell_type": "code",
      "source": [
        "temp_df.loc[temp_df['App'] == 'ROBLOX']['Reviews'].max()\n"
      ],
      "metadata": {
        "colab": {
          "base_uri": "https://localhost:8080/"
        },
        "id": "w-C-dvL1dn0N",
        "outputId": "8ddd518d-5801-4965-d0d9-6acb1d7b69fe"
      },
      "execution_count": null,
      "outputs": [
        {
          "output_type": "execute_result",
          "data": {
            "text/plain": [
              "4450890"
            ]
          },
          "metadata": {},
          "execution_count": 24
        }
      ]
    },
    {
      "cell_type": "markdown",
      "source": [
        "Here we can see that there are many apps having multiple entries even after removing duplicates such as 'ROBLOX'. After observation we found that these entries differ in terms of number of reviews. These must have been from different points of time. We are going to keep only **that row which has highest number of reviews**, assuming it to be the latest one. "
      ],
      "metadata": {
        "id": "n9VSnv8kdcgX"
      }
    },
    {
      "cell_type": "code",
      "source": [
        "#Keeping only that row for each app which has the highest number of reviews\n",
        "temp_df = temp_df.loc[temp_df.groupby('App')['Reviews'].idxmax(),:]\n",
        "temp_df"
      ],
      "metadata": {
        "colab": {
          "base_uri": "https://localhost:8080/",
          "height": 693
        },
        "id": "Q8Y2RWhgbgNK",
        "outputId": "36ac5a9b-5e34-44d8-b9b3-6c4c71238191"
      },
      "execution_count": null,
      "outputs": [
        {
          "output_type": "execute_result",
          "data": {
            "text/plain": [
              "                                                   App       Category  Rating  \\\n",
              "8403              \"i DT\" Fútbol. Todos Somos Técnicos.         SPORTS     NaN   \n",
              "8061                     +Download 4 Instagram Twitter         SOCIAL     4.5   \n",
              "291                         - Free Comics - Comic Apps         COMICS     3.5   \n",
              "4086                                                .R          TOOLS     4.5   \n",
              "4181                                            /u/app  COMMUNICATION     4.7   \n",
              "...                                                ...            ...     ...   \n",
              "5875                           뽕티비 - 개인방송, 인터넷방송, BJ방송  VIDEO_PLAYERS     NaN   \n",
              "3908                                        💎 I'm rich      LIFESTYLE     3.8   \n",
              "2277     💘 WhatsLov: Smileys of love, stickers and GIF         SOCIAL     4.6   \n",
              "7090  📏 Smart Ruler ↔️ cm/inch measuring for homework!          TOOLS     4.0   \n",
              "772   🔥 Football Wallpapers 4K | Full HD Backgrounds 😍  ENTERTAINMENT     4.7   \n",
              "\n",
              "      Reviews  Size  Installs  Type   Price Content Rating  \\\n",
              "8403       27  3.6M       500  Free    0.00       Everyone   \n",
              "8061    40467   22M   1000000  Free    0.00       Everyone   \n",
              "291       115  9.1M     10000  Free    0.00     Mature 17+   \n",
              "4086      259  203k     10000  Free    0.00       Everyone   \n",
              "4181      573   53M     10000  Free    0.00     Mature 17+   \n",
              "...       ...   ...       ...   ...     ...            ...   \n",
              "5875      414   59M    100000  Free    0.00     Mature 17+   \n",
              "3908      718   26M     10000  Paid  399.99       Everyone   \n",
              "2277    22098   18M   1000000  Free    0.00       Everyone   \n",
              "7090       19  3.2M     10000  Free    0.00       Everyone   \n",
              "772     11661  4.0M   1000000  Free    0.00       Everyone   \n",
              "\n",
              "                       Genres Last Updated Current Ver   Android Ver  \n",
              "8403                   Sports   2017-10-07        0.22    4.1 and up  \n",
              "8061                   Social   2018-08-02        5.03    4.1 and up  \n",
              "291                    Comics   2018-07-13      5.0.12    5.0 and up  \n",
              "4086                    Tools   2014-09-16      1.1.06    1.5 and up  \n",
              "4181            Communication   2018-07-03       4.2.4    4.1 and up  \n",
              "...                       ...          ...         ...           ...  \n",
              "5875  Video Players & Editors   2018-07-18       4.0.7  4.0.3 and up  \n",
              "3908                Lifestyle   2018-03-11       1.0.0    4.4 and up  \n",
              "2277                   Social   2018-07-24       4.2.4  4.0.3 and up  \n",
              "7090                    Tools   2017-10-21         1.0    4.2 and up  \n",
              "772             Entertainment   2018-07-14     1.1.3.2  4.0.3 and up  \n",
              "\n",
              "[9659 rows x 13 columns]"
            ],
            "text/html": [
              "\n",
              "  <div id=\"df-4e7e306c-17f6-4967-81a1-3b2ec848b0e7\">\n",
              "    <div class=\"colab-df-container\">\n",
              "      <div>\n",
              "<style scoped>\n",
              "    .dataframe tbody tr th:only-of-type {\n",
              "        vertical-align: middle;\n",
              "    }\n",
              "\n",
              "    .dataframe tbody tr th {\n",
              "        vertical-align: top;\n",
              "    }\n",
              "\n",
              "    .dataframe thead th {\n",
              "        text-align: right;\n",
              "    }\n",
              "</style>\n",
              "<table border=\"1\" class=\"dataframe\">\n",
              "  <thead>\n",
              "    <tr style=\"text-align: right;\">\n",
              "      <th></th>\n",
              "      <th>App</th>\n",
              "      <th>Category</th>\n",
              "      <th>Rating</th>\n",
              "      <th>Reviews</th>\n",
              "      <th>Size</th>\n",
              "      <th>Installs</th>\n",
              "      <th>Type</th>\n",
              "      <th>Price</th>\n",
              "      <th>Content Rating</th>\n",
              "      <th>Genres</th>\n",
              "      <th>Last Updated</th>\n",
              "      <th>Current Ver</th>\n",
              "      <th>Android Ver</th>\n",
              "    </tr>\n",
              "  </thead>\n",
              "  <tbody>\n",
              "    <tr>\n",
              "      <th>8403</th>\n",
              "      <td>\"i DT\" Fútbol. Todos Somos Técnicos.</td>\n",
              "      <td>SPORTS</td>\n",
              "      <td>NaN</td>\n",
              "      <td>27</td>\n",
              "      <td>3.6M</td>\n",
              "      <td>500</td>\n",
              "      <td>Free</td>\n",
              "      <td>0.00</td>\n",
              "      <td>Everyone</td>\n",
              "      <td>Sports</td>\n",
              "      <td>2017-10-07</td>\n",
              "      <td>0.22</td>\n",
              "      <td>4.1 and up</td>\n",
              "    </tr>\n",
              "    <tr>\n",
              "      <th>8061</th>\n",
              "      <td>+Download 4 Instagram Twitter</td>\n",
              "      <td>SOCIAL</td>\n",
              "      <td>4.5</td>\n",
              "      <td>40467</td>\n",
              "      <td>22M</td>\n",
              "      <td>1000000</td>\n",
              "      <td>Free</td>\n",
              "      <td>0.00</td>\n",
              "      <td>Everyone</td>\n",
              "      <td>Social</td>\n",
              "      <td>2018-08-02</td>\n",
              "      <td>5.03</td>\n",
              "      <td>4.1 and up</td>\n",
              "    </tr>\n",
              "    <tr>\n",
              "      <th>291</th>\n",
              "      <td>- Free Comics - Comic Apps</td>\n",
              "      <td>COMICS</td>\n",
              "      <td>3.5</td>\n",
              "      <td>115</td>\n",
              "      <td>9.1M</td>\n",
              "      <td>10000</td>\n",
              "      <td>Free</td>\n",
              "      <td>0.00</td>\n",
              "      <td>Mature 17+</td>\n",
              "      <td>Comics</td>\n",
              "      <td>2018-07-13</td>\n",
              "      <td>5.0.12</td>\n",
              "      <td>5.0 and up</td>\n",
              "    </tr>\n",
              "    <tr>\n",
              "      <th>4086</th>\n",
              "      <td>.R</td>\n",
              "      <td>TOOLS</td>\n",
              "      <td>4.5</td>\n",
              "      <td>259</td>\n",
              "      <td>203k</td>\n",
              "      <td>10000</td>\n",
              "      <td>Free</td>\n",
              "      <td>0.00</td>\n",
              "      <td>Everyone</td>\n",
              "      <td>Tools</td>\n",
              "      <td>2014-09-16</td>\n",
              "      <td>1.1.06</td>\n",
              "      <td>1.5 and up</td>\n",
              "    </tr>\n",
              "    <tr>\n",
              "      <th>4181</th>\n",
              "      <td>/u/app</td>\n",
              "      <td>COMMUNICATION</td>\n",
              "      <td>4.7</td>\n",
              "      <td>573</td>\n",
              "      <td>53M</td>\n",
              "      <td>10000</td>\n",
              "      <td>Free</td>\n",
              "      <td>0.00</td>\n",
              "      <td>Mature 17+</td>\n",
              "      <td>Communication</td>\n",
              "      <td>2018-07-03</td>\n",
              "      <td>4.2.4</td>\n",
              "      <td>4.1 and up</td>\n",
              "    </tr>\n",
              "    <tr>\n",
              "      <th>...</th>\n",
              "      <td>...</td>\n",
              "      <td>...</td>\n",
              "      <td>...</td>\n",
              "      <td>...</td>\n",
              "      <td>...</td>\n",
              "      <td>...</td>\n",
              "      <td>...</td>\n",
              "      <td>...</td>\n",
              "      <td>...</td>\n",
              "      <td>...</td>\n",
              "      <td>...</td>\n",
              "      <td>...</td>\n",
              "      <td>...</td>\n",
              "    </tr>\n",
              "    <tr>\n",
              "      <th>5875</th>\n",
              "      <td>뽕티비 - 개인방송, 인터넷방송, BJ방송</td>\n",
              "      <td>VIDEO_PLAYERS</td>\n",
              "      <td>NaN</td>\n",
              "      <td>414</td>\n",
              "      <td>59M</td>\n",
              "      <td>100000</td>\n",
              "      <td>Free</td>\n",
              "      <td>0.00</td>\n",
              "      <td>Mature 17+</td>\n",
              "      <td>Video Players &amp; Editors</td>\n",
              "      <td>2018-07-18</td>\n",
              "      <td>4.0.7</td>\n",
              "      <td>4.0.3 and up</td>\n",
              "    </tr>\n",
              "    <tr>\n",
              "      <th>3908</th>\n",
              "      <td>💎 I'm rich</td>\n",
              "      <td>LIFESTYLE</td>\n",
              "      <td>3.8</td>\n",
              "      <td>718</td>\n",
              "      <td>26M</td>\n",
              "      <td>10000</td>\n",
              "      <td>Paid</td>\n",
              "      <td>399.99</td>\n",
              "      <td>Everyone</td>\n",
              "      <td>Lifestyle</td>\n",
              "      <td>2018-03-11</td>\n",
              "      <td>1.0.0</td>\n",
              "      <td>4.4 and up</td>\n",
              "    </tr>\n",
              "    <tr>\n",
              "      <th>2277</th>\n",
              "      <td>💘 WhatsLov: Smileys of love, stickers and GIF</td>\n",
              "      <td>SOCIAL</td>\n",
              "      <td>4.6</td>\n",
              "      <td>22098</td>\n",
              "      <td>18M</td>\n",
              "      <td>1000000</td>\n",
              "      <td>Free</td>\n",
              "      <td>0.00</td>\n",
              "      <td>Everyone</td>\n",
              "      <td>Social</td>\n",
              "      <td>2018-07-24</td>\n",
              "      <td>4.2.4</td>\n",
              "      <td>4.0.3 and up</td>\n",
              "    </tr>\n",
              "    <tr>\n",
              "      <th>7090</th>\n",
              "      <td>📏 Smart Ruler ↔️ cm/inch measuring for homework!</td>\n",
              "      <td>TOOLS</td>\n",
              "      <td>4.0</td>\n",
              "      <td>19</td>\n",
              "      <td>3.2M</td>\n",
              "      <td>10000</td>\n",
              "      <td>Free</td>\n",
              "      <td>0.00</td>\n",
              "      <td>Everyone</td>\n",
              "      <td>Tools</td>\n",
              "      <td>2017-10-21</td>\n",
              "      <td>1.0</td>\n",
              "      <td>4.2 and up</td>\n",
              "    </tr>\n",
              "    <tr>\n",
              "      <th>772</th>\n",
              "      <td>🔥 Football Wallpapers 4K | Full HD Backgrounds 😍</td>\n",
              "      <td>ENTERTAINMENT</td>\n",
              "      <td>4.7</td>\n",
              "      <td>11661</td>\n",
              "      <td>4.0M</td>\n",
              "      <td>1000000</td>\n",
              "      <td>Free</td>\n",
              "      <td>0.00</td>\n",
              "      <td>Everyone</td>\n",
              "      <td>Entertainment</td>\n",
              "      <td>2018-07-14</td>\n",
              "      <td>1.1.3.2</td>\n",
              "      <td>4.0.3 and up</td>\n",
              "    </tr>\n",
              "  </tbody>\n",
              "</table>\n",
              "<p>9659 rows × 13 columns</p>\n",
              "</div>\n",
              "      <button class=\"colab-df-convert\" onclick=\"convertToInteractive('df-4e7e306c-17f6-4967-81a1-3b2ec848b0e7')\"\n",
              "              title=\"Convert this dataframe to an interactive table.\"\n",
              "              style=\"display:none;\">\n",
              "        \n",
              "  <svg xmlns=\"http://www.w3.org/2000/svg\" height=\"24px\"viewBox=\"0 0 24 24\"\n",
              "       width=\"24px\">\n",
              "    <path d=\"M0 0h24v24H0V0z\" fill=\"none\"/>\n",
              "    <path d=\"M18.56 5.44l.94 2.06.94-2.06 2.06-.94-2.06-.94-.94-2.06-.94 2.06-2.06.94zm-11 1L8.5 8.5l.94-2.06 2.06-.94-2.06-.94L8.5 2.5l-.94 2.06-2.06.94zm10 10l.94 2.06.94-2.06 2.06-.94-2.06-.94-.94-2.06-.94 2.06-2.06.94z\"/><path d=\"M17.41 7.96l-1.37-1.37c-.4-.4-.92-.59-1.43-.59-.52 0-1.04.2-1.43.59L10.3 9.45l-7.72 7.72c-.78.78-.78 2.05 0 2.83L4 21.41c.39.39.9.59 1.41.59.51 0 1.02-.2 1.41-.59l7.78-7.78 2.81-2.81c.8-.78.8-2.07 0-2.86zM5.41 20L4 18.59l7.72-7.72 1.47 1.35L5.41 20z\"/>\n",
              "  </svg>\n",
              "      </button>\n",
              "      \n",
              "  <style>\n",
              "    .colab-df-container {\n",
              "      display:flex;\n",
              "      flex-wrap:wrap;\n",
              "      gap: 12px;\n",
              "    }\n",
              "\n",
              "    .colab-df-convert {\n",
              "      background-color: #E8F0FE;\n",
              "      border: none;\n",
              "      border-radius: 50%;\n",
              "      cursor: pointer;\n",
              "      display: none;\n",
              "      fill: #1967D2;\n",
              "      height: 32px;\n",
              "      padding: 0 0 0 0;\n",
              "      width: 32px;\n",
              "    }\n",
              "\n",
              "    .colab-df-convert:hover {\n",
              "      background-color: #E2EBFA;\n",
              "      box-shadow: 0px 1px 2px rgba(60, 64, 67, 0.3), 0px 1px 3px 1px rgba(60, 64, 67, 0.15);\n",
              "      fill: #174EA6;\n",
              "    }\n",
              "\n",
              "    [theme=dark] .colab-df-convert {\n",
              "      background-color: #3B4455;\n",
              "      fill: #D2E3FC;\n",
              "    }\n",
              "\n",
              "    [theme=dark] .colab-df-convert:hover {\n",
              "      background-color: #434B5C;\n",
              "      box-shadow: 0px 1px 3px 1px rgba(0, 0, 0, 0.15);\n",
              "      filter: drop-shadow(0px 1px 2px rgba(0, 0, 0, 0.3));\n",
              "      fill: #FFFFFF;\n",
              "    }\n",
              "  </style>\n",
              "\n",
              "      <script>\n",
              "        const buttonEl =\n",
              "          document.querySelector('#df-4e7e306c-17f6-4967-81a1-3b2ec848b0e7 button.colab-df-convert');\n",
              "        buttonEl.style.display =\n",
              "          google.colab.kernel.accessAllowed ? 'block' : 'none';\n",
              "\n",
              "        async function convertToInteractive(key) {\n",
              "          const element = document.querySelector('#df-4e7e306c-17f6-4967-81a1-3b2ec848b0e7');\n",
              "          const dataTable =\n",
              "            await google.colab.kernel.invokeFunction('convertToInteractive',\n",
              "                                                     [key], {});\n",
              "          if (!dataTable) return;\n",
              "\n",
              "          const docLinkHtml = 'Like what you see? Visit the ' +\n",
              "            '<a target=\"_blank\" href=https://colab.research.google.com/notebooks/data_table.ipynb>data table notebook</a>'\n",
              "            + ' to learn more about interactive tables.';\n",
              "          element.innerHTML = '';\n",
              "          dataTable['output_type'] = 'display_data';\n",
              "          await google.colab.output.renderOutput(dataTable, element);\n",
              "          const docLink = document.createElement('div');\n",
              "          docLink.innerHTML = docLinkHtml;\n",
              "          element.appendChild(docLink);\n",
              "        }\n",
              "      </script>\n",
              "    </div>\n",
              "  </div>\n",
              "  "
            ]
          },
          "metadata": {},
          "execution_count": 25
        }
      ]
    },
    {
      "cell_type": "markdown",
      "source": [
        "Now we can see that number of rows of data set is equal to number of unique apps.i.e., 9659."
      ],
      "metadata": {
        "id": "_8KDcz071Khf"
      }
    },
    {
      "cell_type": "code",
      "source": [
        "#Checking for null values\n",
        "temp_df.isnull().sum()"
      ],
      "metadata": {
        "colab": {
          "base_uri": "https://localhost:8080/"
        },
        "id": "cDMoNvZv86mu",
        "outputId": "53bc456a-38ca-4177-dc46-bc5110782b00"
      },
      "execution_count": null,
      "outputs": [
        {
          "output_type": "execute_result",
          "data": {
            "text/plain": [
              "App                  0\n",
              "Category             0\n",
              "Rating            1463\n",
              "Reviews              0\n",
              "Size                 0\n",
              "Installs             0\n",
              "Type                 1\n",
              "Price                0\n",
              "Content Rating       0\n",
              "Genres               0\n",
              "Last Updated         0\n",
              "Current Ver          8\n",
              "Android Ver          2\n",
              "dtype: int64"
            ]
          },
          "metadata": {},
          "execution_count": 26
        }
      ]
    },
    {
      "cell_type": "markdown",
      "source": [
        "Current version and android version do not huave much relevance when it comes to analysis. Hence we are going to treat Rating and Type only."
      ],
      "metadata": {
        "id": "u3SEvR8o9BMW"
      }
    },
    {
      "cell_type": "code",
      "source": [
        "#Replacing null values with the median of Ratings\n",
        "temp_df['Rating'].fillna((temp_df['Rating'].median()), inplace=True)"
      ],
      "metadata": {
        "id": "8eNmdi04sx3Y"
      },
      "execution_count": null,
      "outputs": []
    },
    {
      "cell_type": "code",
      "source": [
        "#Extracting the row with null value in Type column\n",
        "temp_df[temp_df['Type'].isnull()]"
      ],
      "metadata": {
        "colab": {
          "base_uri": "https://localhost:8080/",
          "height": 159
        },
        "id": "pgxf4__s9bXA",
        "outputId": "a59d48f6-819d-42d8-a06d-7a8863140bd9"
      },
      "execution_count": null,
      "outputs": [
        {
          "output_type": "execute_result",
          "data": {
            "text/plain": [
              "                            App Category  Rating  Reviews Size  Installs Type  \\\n",
              "8667  Command & Conquer: Rivals   FAMILY     4.3        0    0         0  NaN   \n",
              "\n",
              "      Price Content Rating    Genres Last Updated         Current Ver  \\\n",
              "8667    0.0   Everyone 10+  Strategy   2018-06-28  Varies with device   \n",
              "\n",
              "             Android Ver  \n",
              "8667  Varies with device  "
            ],
            "text/html": [
              "\n",
              "  <div id=\"df-8befe6be-6426-433a-b198-c580f84dd518\">\n",
              "    <div class=\"colab-df-container\">\n",
              "      <div>\n",
              "<style scoped>\n",
              "    .dataframe tbody tr th:only-of-type {\n",
              "        vertical-align: middle;\n",
              "    }\n",
              "\n",
              "    .dataframe tbody tr th {\n",
              "        vertical-align: top;\n",
              "    }\n",
              "\n",
              "    .dataframe thead th {\n",
              "        text-align: right;\n",
              "    }\n",
              "</style>\n",
              "<table border=\"1\" class=\"dataframe\">\n",
              "  <thead>\n",
              "    <tr style=\"text-align: right;\">\n",
              "      <th></th>\n",
              "      <th>App</th>\n",
              "      <th>Category</th>\n",
              "      <th>Rating</th>\n",
              "      <th>Reviews</th>\n",
              "      <th>Size</th>\n",
              "      <th>Installs</th>\n",
              "      <th>Type</th>\n",
              "      <th>Price</th>\n",
              "      <th>Content Rating</th>\n",
              "      <th>Genres</th>\n",
              "      <th>Last Updated</th>\n",
              "      <th>Current Ver</th>\n",
              "      <th>Android Ver</th>\n",
              "    </tr>\n",
              "  </thead>\n",
              "  <tbody>\n",
              "    <tr>\n",
              "      <th>8667</th>\n",
              "      <td>Command &amp; Conquer: Rivals</td>\n",
              "      <td>FAMILY</td>\n",
              "      <td>4.3</td>\n",
              "      <td>0</td>\n",
              "      <td>0</td>\n",
              "      <td>0</td>\n",
              "      <td>NaN</td>\n",
              "      <td>0.0</td>\n",
              "      <td>Everyone 10+</td>\n",
              "      <td>Strategy</td>\n",
              "      <td>2018-06-28</td>\n",
              "      <td>Varies with device</td>\n",
              "      <td>Varies with device</td>\n",
              "    </tr>\n",
              "  </tbody>\n",
              "</table>\n",
              "</div>\n",
              "      <button class=\"colab-df-convert\" onclick=\"convertToInteractive('df-8befe6be-6426-433a-b198-c580f84dd518')\"\n",
              "              title=\"Convert this dataframe to an interactive table.\"\n",
              "              style=\"display:none;\">\n",
              "        \n",
              "  <svg xmlns=\"http://www.w3.org/2000/svg\" height=\"24px\"viewBox=\"0 0 24 24\"\n",
              "       width=\"24px\">\n",
              "    <path d=\"M0 0h24v24H0V0z\" fill=\"none\"/>\n",
              "    <path d=\"M18.56 5.44l.94 2.06.94-2.06 2.06-.94-2.06-.94-.94-2.06-.94 2.06-2.06.94zm-11 1L8.5 8.5l.94-2.06 2.06-.94-2.06-.94L8.5 2.5l-.94 2.06-2.06.94zm10 10l.94 2.06.94-2.06 2.06-.94-2.06-.94-.94-2.06-.94 2.06-2.06.94z\"/><path d=\"M17.41 7.96l-1.37-1.37c-.4-.4-.92-.59-1.43-.59-.52 0-1.04.2-1.43.59L10.3 9.45l-7.72 7.72c-.78.78-.78 2.05 0 2.83L4 21.41c.39.39.9.59 1.41.59.51 0 1.02-.2 1.41-.59l7.78-7.78 2.81-2.81c.8-.78.8-2.07 0-2.86zM5.41 20L4 18.59l7.72-7.72 1.47 1.35L5.41 20z\"/>\n",
              "  </svg>\n",
              "      </button>\n",
              "      \n",
              "  <style>\n",
              "    .colab-df-container {\n",
              "      display:flex;\n",
              "      flex-wrap:wrap;\n",
              "      gap: 12px;\n",
              "    }\n",
              "\n",
              "    .colab-df-convert {\n",
              "      background-color: #E8F0FE;\n",
              "      border: none;\n",
              "      border-radius: 50%;\n",
              "      cursor: pointer;\n",
              "      display: none;\n",
              "      fill: #1967D2;\n",
              "      height: 32px;\n",
              "      padding: 0 0 0 0;\n",
              "      width: 32px;\n",
              "    }\n",
              "\n",
              "    .colab-df-convert:hover {\n",
              "      background-color: #E2EBFA;\n",
              "      box-shadow: 0px 1px 2px rgba(60, 64, 67, 0.3), 0px 1px 3px 1px rgba(60, 64, 67, 0.15);\n",
              "      fill: #174EA6;\n",
              "    }\n",
              "\n",
              "    [theme=dark] .colab-df-convert {\n",
              "      background-color: #3B4455;\n",
              "      fill: #D2E3FC;\n",
              "    }\n",
              "\n",
              "    [theme=dark] .colab-df-convert:hover {\n",
              "      background-color: #434B5C;\n",
              "      box-shadow: 0px 1px 3px 1px rgba(0, 0, 0, 0.15);\n",
              "      filter: drop-shadow(0px 1px 2px rgba(0, 0, 0, 0.3));\n",
              "      fill: #FFFFFF;\n",
              "    }\n",
              "  </style>\n",
              "\n",
              "      <script>\n",
              "        const buttonEl =\n",
              "          document.querySelector('#df-8befe6be-6426-433a-b198-c580f84dd518 button.colab-df-convert');\n",
              "        buttonEl.style.display =\n",
              "          google.colab.kernel.accessAllowed ? 'block' : 'none';\n",
              "\n",
              "        async function convertToInteractive(key) {\n",
              "          const element = document.querySelector('#df-8befe6be-6426-433a-b198-c580f84dd518');\n",
              "          const dataTable =\n",
              "            await google.colab.kernel.invokeFunction('convertToInteractive',\n",
              "                                                     [key], {});\n",
              "          if (!dataTable) return;\n",
              "\n",
              "          const docLinkHtml = 'Like what you see? Visit the ' +\n",
              "            '<a target=\"_blank\" href=https://colab.research.google.com/notebooks/data_table.ipynb>data table notebook</a>'\n",
              "            + ' to learn more about interactive tables.';\n",
              "          element.innerHTML = '';\n",
              "          dataTable['output_type'] = 'display_data';\n",
              "          await google.colab.output.renderOutput(dataTable, element);\n",
              "          const docLink = document.createElement('div');\n",
              "          docLink.innerHTML = docLinkHtml;\n",
              "          element.appendChild(docLink);\n",
              "        }\n",
              "      </script>\n",
              "    </div>\n",
              "  </div>\n",
              "  "
            ]
          },
          "metadata": {},
          "execution_count": 28
        }
      ]
    },
    {
      "cell_type": "markdown",
      "source": [
        "Since this row does not have much information in other aspects too, we are going to remove it."
      ],
      "metadata": {
        "id": "8pLHMJKW92B8"
      }
    },
    {
      "cell_type": "code",
      "source": [
        "temp_df.drop(8667,axis=0,inplace=True)"
      ],
      "metadata": {
        "id": "Dq9EQLEJ99tF"
      },
      "execution_count": null,
      "outputs": []
    },
    {
      "cell_type": "code",
      "source": [
        "#Now let us check again\n",
        "temp_df.info()"
      ],
      "metadata": {
        "colab": {
          "base_uri": "https://localhost:8080/"
        },
        "id": "trntD7atc59J",
        "outputId": "eac996c8-2341-4a31-be47-14606e0b6f9e"
      },
      "execution_count": null,
      "outputs": [
        {
          "output_type": "stream",
          "name": "stdout",
          "text": [
            "<class 'pandas.core.frame.DataFrame'>\n",
            "Int64Index: 9658 entries, 8403 to 772\n",
            "Data columns (total 13 columns):\n",
            " #   Column          Non-Null Count  Dtype         \n",
            "---  ------          --------------  -----         \n",
            " 0   App             9658 non-null   object        \n",
            " 1   Category        9658 non-null   object        \n",
            " 2   Rating          9658 non-null   float64       \n",
            " 3   Reviews         9658 non-null   int64         \n",
            " 4   Size            9658 non-null   object        \n",
            " 5   Installs        9658 non-null   int64         \n",
            " 6   Type            9658 non-null   object        \n",
            " 7   Price           9658 non-null   float64       \n",
            " 8   Content Rating  9658 non-null   object        \n",
            " 9   Genres          9658 non-null   object        \n",
            " 10  Last Updated    9658 non-null   datetime64[ns]\n",
            " 11  Current Ver     9650 non-null   object        \n",
            " 12  Android Ver     9656 non-null   object        \n",
            "dtypes: datetime64[ns](1), float64(2), int64(2), object(8)\n",
            "memory usage: 1.0+ MB\n"
          ]
        }
      ]
    },
    {
      "cell_type": "markdown",
      "source": [
        "As we can see that all the necessary variables have been converted into correct datatypes, and null values imputated.\n",
        "\n"
      ],
      "metadata": {
        "id": "1fp69XE8a399"
      }
    },
    {
      "cell_type": "markdown",
      "source": [
        "### Let us have a look at the Reviews dataset for the same"
      ],
      "metadata": {
        "id": "mQ3WBrkfOvVL"
      }
    },
    {
      "cell_type": "code",
      "source": [
        "reviews_df"
      ],
      "metadata": {
        "colab": {
          "base_uri": "https://localhost:8080/",
          "height": 424
        },
        "id": "su8WApSd-DN3",
        "outputId": "a24a6ab4-37d9-46f1-d2bd-96a115330610"
      },
      "execution_count": null,
      "outputs": [
        {
          "output_type": "execute_result",
          "data": {
            "text/plain": [
              "                               App  \\\n",
              "0            10 Best Foods for You   \n",
              "1            10 Best Foods for You   \n",
              "2            10 Best Foods for You   \n",
              "3            10 Best Foods for You   \n",
              "4            10 Best Foods for You   \n",
              "...                            ...   \n",
              "64290  Houzz Interior Design Ideas   \n",
              "64291  Houzz Interior Design Ideas   \n",
              "64292  Houzz Interior Design Ideas   \n",
              "64293  Houzz Interior Design Ideas   \n",
              "64294  Houzz Interior Design Ideas   \n",
              "\n",
              "                                       Translated_Review Sentiment  \\\n",
              "0      I like eat delicious food. That's I'm cooking ...  Positive   \n",
              "1        This help eating healthy exercise regular basis  Positive   \n",
              "2                                                    NaN       NaN   \n",
              "3             Works great especially going grocery store  Positive   \n",
              "4                                           Best idea us  Positive   \n",
              "...                                                  ...       ...   \n",
              "64290                                                NaN       NaN   \n",
              "64291                                                NaN       NaN   \n",
              "64292                                                NaN       NaN   \n",
              "64293                                                NaN       NaN   \n",
              "64294                                                NaN       NaN   \n",
              "\n",
              "       Sentiment_Polarity  Sentiment_Subjectivity  \n",
              "0                    1.00                0.533333  \n",
              "1                    0.25                0.288462  \n",
              "2                     NaN                     NaN  \n",
              "3                    0.40                0.875000  \n",
              "4                    1.00                0.300000  \n",
              "...                   ...                     ...  \n",
              "64290                 NaN                     NaN  \n",
              "64291                 NaN                     NaN  \n",
              "64292                 NaN                     NaN  \n",
              "64293                 NaN                     NaN  \n",
              "64294                 NaN                     NaN  \n",
              "\n",
              "[64295 rows x 5 columns]"
            ],
            "text/html": [
              "\n",
              "  <div id=\"df-cd1c2896-b137-4e08-b59f-16699d432ca1\">\n",
              "    <div class=\"colab-df-container\">\n",
              "      <div>\n",
              "<style scoped>\n",
              "    .dataframe tbody tr th:only-of-type {\n",
              "        vertical-align: middle;\n",
              "    }\n",
              "\n",
              "    .dataframe tbody tr th {\n",
              "        vertical-align: top;\n",
              "    }\n",
              "\n",
              "    .dataframe thead th {\n",
              "        text-align: right;\n",
              "    }\n",
              "</style>\n",
              "<table border=\"1\" class=\"dataframe\">\n",
              "  <thead>\n",
              "    <tr style=\"text-align: right;\">\n",
              "      <th></th>\n",
              "      <th>App</th>\n",
              "      <th>Translated_Review</th>\n",
              "      <th>Sentiment</th>\n",
              "      <th>Sentiment_Polarity</th>\n",
              "      <th>Sentiment_Subjectivity</th>\n",
              "    </tr>\n",
              "  </thead>\n",
              "  <tbody>\n",
              "    <tr>\n",
              "      <th>0</th>\n",
              "      <td>10 Best Foods for You</td>\n",
              "      <td>I like eat delicious food. That's I'm cooking ...</td>\n",
              "      <td>Positive</td>\n",
              "      <td>1.00</td>\n",
              "      <td>0.533333</td>\n",
              "    </tr>\n",
              "    <tr>\n",
              "      <th>1</th>\n",
              "      <td>10 Best Foods for You</td>\n",
              "      <td>This help eating healthy exercise regular basis</td>\n",
              "      <td>Positive</td>\n",
              "      <td>0.25</td>\n",
              "      <td>0.288462</td>\n",
              "    </tr>\n",
              "    <tr>\n",
              "      <th>2</th>\n",
              "      <td>10 Best Foods for You</td>\n",
              "      <td>NaN</td>\n",
              "      <td>NaN</td>\n",
              "      <td>NaN</td>\n",
              "      <td>NaN</td>\n",
              "    </tr>\n",
              "    <tr>\n",
              "      <th>3</th>\n",
              "      <td>10 Best Foods for You</td>\n",
              "      <td>Works great especially going grocery store</td>\n",
              "      <td>Positive</td>\n",
              "      <td>0.40</td>\n",
              "      <td>0.875000</td>\n",
              "    </tr>\n",
              "    <tr>\n",
              "      <th>4</th>\n",
              "      <td>10 Best Foods for You</td>\n",
              "      <td>Best idea us</td>\n",
              "      <td>Positive</td>\n",
              "      <td>1.00</td>\n",
              "      <td>0.300000</td>\n",
              "    </tr>\n",
              "    <tr>\n",
              "      <th>...</th>\n",
              "      <td>...</td>\n",
              "      <td>...</td>\n",
              "      <td>...</td>\n",
              "      <td>...</td>\n",
              "      <td>...</td>\n",
              "    </tr>\n",
              "    <tr>\n",
              "      <th>64290</th>\n",
              "      <td>Houzz Interior Design Ideas</td>\n",
              "      <td>NaN</td>\n",
              "      <td>NaN</td>\n",
              "      <td>NaN</td>\n",
              "      <td>NaN</td>\n",
              "    </tr>\n",
              "    <tr>\n",
              "      <th>64291</th>\n",
              "      <td>Houzz Interior Design Ideas</td>\n",
              "      <td>NaN</td>\n",
              "      <td>NaN</td>\n",
              "      <td>NaN</td>\n",
              "      <td>NaN</td>\n",
              "    </tr>\n",
              "    <tr>\n",
              "      <th>64292</th>\n",
              "      <td>Houzz Interior Design Ideas</td>\n",
              "      <td>NaN</td>\n",
              "      <td>NaN</td>\n",
              "      <td>NaN</td>\n",
              "      <td>NaN</td>\n",
              "    </tr>\n",
              "    <tr>\n",
              "      <th>64293</th>\n",
              "      <td>Houzz Interior Design Ideas</td>\n",
              "      <td>NaN</td>\n",
              "      <td>NaN</td>\n",
              "      <td>NaN</td>\n",
              "      <td>NaN</td>\n",
              "    </tr>\n",
              "    <tr>\n",
              "      <th>64294</th>\n",
              "      <td>Houzz Interior Design Ideas</td>\n",
              "      <td>NaN</td>\n",
              "      <td>NaN</td>\n",
              "      <td>NaN</td>\n",
              "      <td>NaN</td>\n",
              "    </tr>\n",
              "  </tbody>\n",
              "</table>\n",
              "<p>64295 rows × 5 columns</p>\n",
              "</div>\n",
              "      <button class=\"colab-df-convert\" onclick=\"convertToInteractive('df-cd1c2896-b137-4e08-b59f-16699d432ca1')\"\n",
              "              title=\"Convert this dataframe to an interactive table.\"\n",
              "              style=\"display:none;\">\n",
              "        \n",
              "  <svg xmlns=\"http://www.w3.org/2000/svg\" height=\"24px\"viewBox=\"0 0 24 24\"\n",
              "       width=\"24px\">\n",
              "    <path d=\"M0 0h24v24H0V0z\" fill=\"none\"/>\n",
              "    <path d=\"M18.56 5.44l.94 2.06.94-2.06 2.06-.94-2.06-.94-.94-2.06-.94 2.06-2.06.94zm-11 1L8.5 8.5l.94-2.06 2.06-.94-2.06-.94L8.5 2.5l-.94 2.06-2.06.94zm10 10l.94 2.06.94-2.06 2.06-.94-2.06-.94-.94-2.06-.94 2.06-2.06.94z\"/><path d=\"M17.41 7.96l-1.37-1.37c-.4-.4-.92-.59-1.43-.59-.52 0-1.04.2-1.43.59L10.3 9.45l-7.72 7.72c-.78.78-.78 2.05 0 2.83L4 21.41c.39.39.9.59 1.41.59.51 0 1.02-.2 1.41-.59l7.78-7.78 2.81-2.81c.8-.78.8-2.07 0-2.86zM5.41 20L4 18.59l7.72-7.72 1.47 1.35L5.41 20z\"/>\n",
              "  </svg>\n",
              "      </button>\n",
              "      \n",
              "  <style>\n",
              "    .colab-df-container {\n",
              "      display:flex;\n",
              "      flex-wrap:wrap;\n",
              "      gap: 12px;\n",
              "    }\n",
              "\n",
              "    .colab-df-convert {\n",
              "      background-color: #E8F0FE;\n",
              "      border: none;\n",
              "      border-radius: 50%;\n",
              "      cursor: pointer;\n",
              "      display: none;\n",
              "      fill: #1967D2;\n",
              "      height: 32px;\n",
              "      padding: 0 0 0 0;\n",
              "      width: 32px;\n",
              "    }\n",
              "\n",
              "    .colab-df-convert:hover {\n",
              "      background-color: #E2EBFA;\n",
              "      box-shadow: 0px 1px 2px rgba(60, 64, 67, 0.3), 0px 1px 3px 1px rgba(60, 64, 67, 0.15);\n",
              "      fill: #174EA6;\n",
              "    }\n",
              "\n",
              "    [theme=dark] .colab-df-convert {\n",
              "      background-color: #3B4455;\n",
              "      fill: #D2E3FC;\n",
              "    }\n",
              "\n",
              "    [theme=dark] .colab-df-convert:hover {\n",
              "      background-color: #434B5C;\n",
              "      box-shadow: 0px 1px 3px 1px rgba(0, 0, 0, 0.15);\n",
              "      filter: drop-shadow(0px 1px 2px rgba(0, 0, 0, 0.3));\n",
              "      fill: #FFFFFF;\n",
              "    }\n",
              "  </style>\n",
              "\n",
              "      <script>\n",
              "        const buttonEl =\n",
              "          document.querySelector('#df-cd1c2896-b137-4e08-b59f-16699d432ca1 button.colab-df-convert');\n",
              "        buttonEl.style.display =\n",
              "          google.colab.kernel.accessAllowed ? 'block' : 'none';\n",
              "\n",
              "        async function convertToInteractive(key) {\n",
              "          const element = document.querySelector('#df-cd1c2896-b137-4e08-b59f-16699d432ca1');\n",
              "          const dataTable =\n",
              "            await google.colab.kernel.invokeFunction('convertToInteractive',\n",
              "                                                     [key], {});\n",
              "          if (!dataTable) return;\n",
              "\n",
              "          const docLinkHtml = 'Like what you see? Visit the ' +\n",
              "            '<a target=\"_blank\" href=https://colab.research.google.com/notebooks/data_table.ipynb>data table notebook</a>'\n",
              "            + ' to learn more about interactive tables.';\n",
              "          element.innerHTML = '';\n",
              "          dataTable['output_type'] = 'display_data';\n",
              "          await google.colab.output.renderOutput(dataTable, element);\n",
              "          const docLink = document.createElement('div');\n",
              "          docLink.innerHTML = docLinkHtml;\n",
              "          element.appendChild(docLink);\n",
              "        }\n",
              "      </script>\n",
              "    </div>\n",
              "  </div>\n",
              "  "
            ]
          },
          "metadata": {},
          "execution_count": 31
        }
      ]
    },
    {
      "cell_type": "markdown",
      "source": [
        "As we can see that this dataframe contains four columns:\n",
        "\n",
        "1. **App** - Name of the app\n",
        "2. **Translated Review** - Various textual reviews given by users.\n",
        "3. **Sentiment** - It indicates the overall emotion of a particular user review. It can be identified either as positive, negative, or neutral.\n",
        "4. **Sentiment Polarity** - Polarity is simply a numeric representation of the overall sentiment. It gives us the degree of an emotion. If the review is negative, how much negative it is, and similar for positive emotion. This number can lie between -1 and 1. \"-\" sign representing a negative emotion and \"+\" sign a positive emotion. \n",
        "5. **Sentiment Subjectivity** - This gives us a measure of the subjectivity or objectivity of a particular statement/review. A review will be considered as subjective when it is more of a personal opinion (which can differ from person to person), and it can be considered objective when the review is more of a fact rather than opinion (it cannot change from person to person). This number can lie anywhere between 0 and 1. If the number is near 1 (i.e. greater than 0.5) it means that the statement is more of an opinion. If it less than 0.5, it means the statement is a fact. "
      ],
      "metadata": {
        "id": "R8QQoxZKBvtL"
      }
    },
    {
      "cell_type": "code",
      "source": [
        "#Checking for null values\n",
        "reviews_df.isnull().sum()"
      ],
      "metadata": {
        "colab": {
          "base_uri": "https://localhost:8080/"
        },
        "id": "UfWu3i2B-K1R",
        "outputId": "6299f59d-5995-447f-c445-3974f7b6b693"
      },
      "execution_count": null,
      "outputs": [
        {
          "output_type": "execute_result",
          "data": {
            "text/plain": [
              "App                           0\n",
              "Translated_Review         26868\n",
              "Sentiment                 26863\n",
              "Sentiment_Polarity        26863\n",
              "Sentiment_Subjectivity    26863\n",
              "dtype: int64"
            ]
          },
          "metadata": {},
          "execution_count": 32
        }
      ]
    },
    {
      "cell_type": "markdown",
      "source": [
        "We are going to remove those rows which have missing 'Translated_Review'."
      ],
      "metadata": {
        "id": "WoQ_bpY--ZYw"
      }
    },
    {
      "cell_type": "code",
      "source": [
        "#Keeping only non-null rows\n",
        "reviews_df = reviews_df[~reviews_df['Translated_Review'].isnull()]\n",
        "reviews_df.shape"
      ],
      "metadata": {
        "colab": {
          "base_uri": "https://localhost:8080/"
        },
        "id": "uCDeJA8T-Uw0",
        "outputId": "716355fe-a858-4061-8918-fe13a83dacef"
      },
      "execution_count": null,
      "outputs": [
        {
          "output_type": "execute_result",
          "data": {
            "text/plain": [
              "(37427, 5)"
            ]
          },
          "metadata": {},
          "execution_count": 34
        }
      ]
    },
    {
      "cell_type": "code",
      "source": [
        "#Checking for duplicates\n",
        "reviews_df.duplicated().sum()"
      ],
      "metadata": {
        "colab": {
          "base_uri": "https://localhost:8080/"
        },
        "id": "JtUFtgBs-woI",
        "outputId": "23a55694-2713-4a25-a9d6-cb6ea2d757eb"
      },
      "execution_count": null,
      "outputs": [
        {
          "output_type": "execute_result",
          "data": {
            "text/plain": [
              "7735"
            ]
          },
          "metadata": {},
          "execution_count": 35
        }
      ]
    },
    {
      "cell_type": "code",
      "source": [
        "#Removing duplicates\n",
        "reviews_df = reviews_df.drop_duplicates().reset_index(drop=True)\n",
        "reviews_df"
      ],
      "metadata": {
        "colab": {
          "base_uri": "https://localhost:8080/",
          "height": 424
        },
        "id": "Gc76hpFQ-8gg",
        "outputId": "420ca603-fd32-4293-98e0-bea2f2d4ae16"
      },
      "execution_count": null,
      "outputs": [
        {
          "output_type": "execute_result",
          "data": {
            "text/plain": [
              "                                  App  \\\n",
              "0               10 Best Foods for You   \n",
              "1               10 Best Foods for You   \n",
              "2               10 Best Foods for You   \n",
              "3               10 Best Foods for You   \n",
              "4               10 Best Foods for You   \n",
              "...                               ...   \n",
              "29687  Housing-Real Estate & Property   \n",
              "29688  Housing-Real Estate & Property   \n",
              "29689  Housing-Real Estate & Property   \n",
              "29690  Housing-Real Estate & Property   \n",
              "29691  Housing-Real Estate & Property   \n",
              "\n",
              "                                       Translated_Review Sentiment  \\\n",
              "0      I like eat delicious food. That's I'm cooking ...  Positive   \n",
              "1        This help eating healthy exercise regular basis  Positive   \n",
              "2             Works great especially going grocery store  Positive   \n",
              "3                                           Best idea us  Positive   \n",
              "4                                               Best way  Positive   \n",
              "...                                                  ...       ...   \n",
              "29687  Most ads older many agents ..not much owner po...  Positive   \n",
              "29688  If photos posted portal load, fit purpose. I'm...  Positive   \n",
              "29689  Dumb app, I wanted post property rent give opt...  Negative   \n",
              "29690  I property business got link SMS happy perform...  Positive   \n",
              "29691  Useless app, I searched flats kondapur, Hydera...  Negative   \n",
              "\n",
              "       Sentiment_Polarity  Sentiment_Subjectivity  \n",
              "0                1.000000                0.533333  \n",
              "1                0.250000                0.288462  \n",
              "2                0.400000                0.875000  \n",
              "3                1.000000                0.300000  \n",
              "4                1.000000                0.300000  \n",
              "...                   ...                     ...  \n",
              "29687            0.173333                0.486667  \n",
              "29688            0.225000                0.447222  \n",
              "29689           -0.287500                0.250000  \n",
              "29690            0.800000                1.000000  \n",
              "29691           -0.316667                0.400000  \n",
              "\n",
              "[29692 rows x 5 columns]"
            ],
            "text/html": [
              "\n",
              "  <div id=\"df-90f27411-3eb6-4b38-9ab9-74c48995704f\">\n",
              "    <div class=\"colab-df-container\">\n",
              "      <div>\n",
              "<style scoped>\n",
              "    .dataframe tbody tr th:only-of-type {\n",
              "        vertical-align: middle;\n",
              "    }\n",
              "\n",
              "    .dataframe tbody tr th {\n",
              "        vertical-align: top;\n",
              "    }\n",
              "\n",
              "    .dataframe thead th {\n",
              "        text-align: right;\n",
              "    }\n",
              "</style>\n",
              "<table border=\"1\" class=\"dataframe\">\n",
              "  <thead>\n",
              "    <tr style=\"text-align: right;\">\n",
              "      <th></th>\n",
              "      <th>App</th>\n",
              "      <th>Translated_Review</th>\n",
              "      <th>Sentiment</th>\n",
              "      <th>Sentiment_Polarity</th>\n",
              "      <th>Sentiment_Subjectivity</th>\n",
              "    </tr>\n",
              "  </thead>\n",
              "  <tbody>\n",
              "    <tr>\n",
              "      <th>0</th>\n",
              "      <td>10 Best Foods for You</td>\n",
              "      <td>I like eat delicious food. That's I'm cooking ...</td>\n",
              "      <td>Positive</td>\n",
              "      <td>1.000000</td>\n",
              "      <td>0.533333</td>\n",
              "    </tr>\n",
              "    <tr>\n",
              "      <th>1</th>\n",
              "      <td>10 Best Foods for You</td>\n",
              "      <td>This help eating healthy exercise regular basis</td>\n",
              "      <td>Positive</td>\n",
              "      <td>0.250000</td>\n",
              "      <td>0.288462</td>\n",
              "    </tr>\n",
              "    <tr>\n",
              "      <th>2</th>\n",
              "      <td>10 Best Foods for You</td>\n",
              "      <td>Works great especially going grocery store</td>\n",
              "      <td>Positive</td>\n",
              "      <td>0.400000</td>\n",
              "      <td>0.875000</td>\n",
              "    </tr>\n",
              "    <tr>\n",
              "      <th>3</th>\n",
              "      <td>10 Best Foods for You</td>\n",
              "      <td>Best idea us</td>\n",
              "      <td>Positive</td>\n",
              "      <td>1.000000</td>\n",
              "      <td>0.300000</td>\n",
              "    </tr>\n",
              "    <tr>\n",
              "      <th>4</th>\n",
              "      <td>10 Best Foods for You</td>\n",
              "      <td>Best way</td>\n",
              "      <td>Positive</td>\n",
              "      <td>1.000000</td>\n",
              "      <td>0.300000</td>\n",
              "    </tr>\n",
              "    <tr>\n",
              "      <th>...</th>\n",
              "      <td>...</td>\n",
              "      <td>...</td>\n",
              "      <td>...</td>\n",
              "      <td>...</td>\n",
              "      <td>...</td>\n",
              "    </tr>\n",
              "    <tr>\n",
              "      <th>29687</th>\n",
              "      <td>Housing-Real Estate &amp; Property</td>\n",
              "      <td>Most ads older many agents ..not much owner po...</td>\n",
              "      <td>Positive</td>\n",
              "      <td>0.173333</td>\n",
              "      <td>0.486667</td>\n",
              "    </tr>\n",
              "    <tr>\n",
              "      <th>29688</th>\n",
              "      <td>Housing-Real Estate &amp; Property</td>\n",
              "      <td>If photos posted portal load, fit purpose. I'm...</td>\n",
              "      <td>Positive</td>\n",
              "      <td>0.225000</td>\n",
              "      <td>0.447222</td>\n",
              "    </tr>\n",
              "    <tr>\n",
              "      <th>29689</th>\n",
              "      <td>Housing-Real Estate &amp; Property</td>\n",
              "      <td>Dumb app, I wanted post property rent give opt...</td>\n",
              "      <td>Negative</td>\n",
              "      <td>-0.287500</td>\n",
              "      <td>0.250000</td>\n",
              "    </tr>\n",
              "    <tr>\n",
              "      <th>29690</th>\n",
              "      <td>Housing-Real Estate &amp; Property</td>\n",
              "      <td>I property business got link SMS happy perform...</td>\n",
              "      <td>Positive</td>\n",
              "      <td>0.800000</td>\n",
              "      <td>1.000000</td>\n",
              "    </tr>\n",
              "    <tr>\n",
              "      <th>29691</th>\n",
              "      <td>Housing-Real Estate &amp; Property</td>\n",
              "      <td>Useless app, I searched flats kondapur, Hydera...</td>\n",
              "      <td>Negative</td>\n",
              "      <td>-0.316667</td>\n",
              "      <td>0.400000</td>\n",
              "    </tr>\n",
              "  </tbody>\n",
              "</table>\n",
              "<p>29692 rows × 5 columns</p>\n",
              "</div>\n",
              "      <button class=\"colab-df-convert\" onclick=\"convertToInteractive('df-90f27411-3eb6-4b38-9ab9-74c48995704f')\"\n",
              "              title=\"Convert this dataframe to an interactive table.\"\n",
              "              style=\"display:none;\">\n",
              "        \n",
              "  <svg xmlns=\"http://www.w3.org/2000/svg\" height=\"24px\"viewBox=\"0 0 24 24\"\n",
              "       width=\"24px\">\n",
              "    <path d=\"M0 0h24v24H0V0z\" fill=\"none\"/>\n",
              "    <path d=\"M18.56 5.44l.94 2.06.94-2.06 2.06-.94-2.06-.94-.94-2.06-.94 2.06-2.06.94zm-11 1L8.5 8.5l.94-2.06 2.06-.94-2.06-.94L8.5 2.5l-.94 2.06-2.06.94zm10 10l.94 2.06.94-2.06 2.06-.94-2.06-.94-.94-2.06-.94 2.06-2.06.94z\"/><path d=\"M17.41 7.96l-1.37-1.37c-.4-.4-.92-.59-1.43-.59-.52 0-1.04.2-1.43.59L10.3 9.45l-7.72 7.72c-.78.78-.78 2.05 0 2.83L4 21.41c.39.39.9.59 1.41.59.51 0 1.02-.2 1.41-.59l7.78-7.78 2.81-2.81c.8-.78.8-2.07 0-2.86zM5.41 20L4 18.59l7.72-7.72 1.47 1.35L5.41 20z\"/>\n",
              "  </svg>\n",
              "      </button>\n",
              "      \n",
              "  <style>\n",
              "    .colab-df-container {\n",
              "      display:flex;\n",
              "      flex-wrap:wrap;\n",
              "      gap: 12px;\n",
              "    }\n",
              "\n",
              "    .colab-df-convert {\n",
              "      background-color: #E8F0FE;\n",
              "      border: none;\n",
              "      border-radius: 50%;\n",
              "      cursor: pointer;\n",
              "      display: none;\n",
              "      fill: #1967D2;\n",
              "      height: 32px;\n",
              "      padding: 0 0 0 0;\n",
              "      width: 32px;\n",
              "    }\n",
              "\n",
              "    .colab-df-convert:hover {\n",
              "      background-color: #E2EBFA;\n",
              "      box-shadow: 0px 1px 2px rgba(60, 64, 67, 0.3), 0px 1px 3px 1px rgba(60, 64, 67, 0.15);\n",
              "      fill: #174EA6;\n",
              "    }\n",
              "\n",
              "    [theme=dark] .colab-df-convert {\n",
              "      background-color: #3B4455;\n",
              "      fill: #D2E3FC;\n",
              "    }\n",
              "\n",
              "    [theme=dark] .colab-df-convert:hover {\n",
              "      background-color: #434B5C;\n",
              "      box-shadow: 0px 1px 3px 1px rgba(0, 0, 0, 0.15);\n",
              "      filter: drop-shadow(0px 1px 2px rgba(0, 0, 0, 0.3));\n",
              "      fill: #FFFFFF;\n",
              "    }\n",
              "  </style>\n",
              "\n",
              "      <script>\n",
              "        const buttonEl =\n",
              "          document.querySelector('#df-90f27411-3eb6-4b38-9ab9-74c48995704f button.colab-df-convert');\n",
              "        buttonEl.style.display =\n",
              "          google.colab.kernel.accessAllowed ? 'block' : 'none';\n",
              "\n",
              "        async function convertToInteractive(key) {\n",
              "          const element = document.querySelector('#df-90f27411-3eb6-4b38-9ab9-74c48995704f');\n",
              "          const dataTable =\n",
              "            await google.colab.kernel.invokeFunction('convertToInteractive',\n",
              "                                                     [key], {});\n",
              "          if (!dataTable) return;\n",
              "\n",
              "          const docLinkHtml = 'Like what you see? Visit the ' +\n",
              "            '<a target=\"_blank\" href=https://colab.research.google.com/notebooks/data_table.ipynb>data table notebook</a>'\n",
              "            + ' to learn more about interactive tables.';\n",
              "          element.innerHTML = '';\n",
              "          dataTable['output_type'] = 'display_data';\n",
              "          await google.colab.output.renderOutput(dataTable, element);\n",
              "          const docLink = document.createElement('div');\n",
              "          docLink.innerHTML = docLinkHtml;\n",
              "          element.appendChild(docLink);\n",
              "        }\n",
              "      </script>\n",
              "    </div>\n",
              "  </div>\n",
              "  "
            ]
          },
          "metadata": {},
          "execution_count": 36
        }
      ]
    },
    {
      "cell_type": "code",
      "source": [
        "reviews_df.info()"
      ],
      "metadata": {
        "colab": {
          "base_uri": "https://localhost:8080/"
        },
        "id": "XionCHCCbniu",
        "outputId": "5d167bcb-32d4-41b7-f22b-d6c4c7beff2b"
      },
      "execution_count": null,
      "outputs": [
        {
          "output_type": "stream",
          "name": "stdout",
          "text": [
            "<class 'pandas.core.frame.DataFrame'>\n",
            "RangeIndex: 29692 entries, 0 to 29691\n",
            "Data columns (total 5 columns):\n",
            " #   Column                  Non-Null Count  Dtype  \n",
            "---  ------                  --------------  -----  \n",
            " 0   App                     29692 non-null  object \n",
            " 1   Translated_Review       29692 non-null  object \n",
            " 2   Sentiment               29692 non-null  object \n",
            " 3   Sentiment_Polarity      29692 non-null  float64\n",
            " 4   Sentiment_Subjectivity  29692 non-null  float64\n",
            "dtypes: float64(2), object(3)\n",
            "memory usage: 1.1+ MB\n"
          ]
        }
      ]
    },
    {
      "cell_type": "markdown",
      "source": [
        "## 2. Exploration and Analysis\n",
        "\n",
        "Among the features available, an app's success can be best defined by the number of installs it has. So in this case our independent variable is **'Intsalls'**. Now we have to explore and see that, the install of an app depends on which features e.g., size, rating, type etc. "
      ],
      "metadata": {
        "id": "pe86iozA-Ozm"
      }
    },
    {
      "cell_type": "code",
      "source": [
        "x = temp_df['Category'].value_counts()\n",
        "plt.rcParams['figure.figsize'] = (13,8)\n",
        "x.plot(kind='bar')\n",
        "plt.title('Top Categories')\n",
        "plt.xlabel('Categories')\n",
        "plt.ylabel('Number of Apps')"
      ],
      "metadata": {
        "colab": {
          "base_uri": "https://localhost:8080/",
          "height": 646
        },
        "id": "TI2BqDz_gwll",
        "outputId": "0f9b859e-64c5-42cb-ce4a-4450c5f0f4ba"
      },
      "execution_count": null,
      "outputs": [
        {
          "output_type": "execute_result",
          "data": {
            "text/plain": [
              "Text(0, 0.5, 'Number of Apps')"
            ]
          },
          "metadata": {},
          "execution_count": 38
        },
        {
          "output_type": "display_data",
          "data": {
            "text/plain": [
              "<Figure size 936x576 with 1 Axes>"
            ],
            "image/png": "[encoded data removed]"
          },
          "metadata": {
            "needs_background": "light"
          }
        }
      ]
    },
    {
      "cell_type": "markdown",
      "source": [
        "In the above figure we can see that the categories 'Family', 'Game', and 'Tools' have topped the list. They have maximum number of apps to offer on Play Store compared to any other category. And, the least number of apps offered are by categories 'Beauty', 'Comics', and 'Parenting'."
      ],
      "metadata": {
        "id": "ac6elYp3W0X2"
      }
    },
    {
      "cell_type": "code",
      "source": [
        "my_df = temp_df.groupby(['Category'])['Installs'].sum()\n",
        "my_df.sort_values(ascending=False)\n",
        "my_df.plot(kind='bar')\n",
        "plt.title('Installs Vs Category')\n",
        "plt.xlabel('Category')\n",
        "plt.ylabel('Number of Installs')"
      ],
      "metadata": {
        "colab": {
          "base_uri": "https://localhost:8080/",
          "height": 646
        },
        "id": "6QinYotqhROS",
        "outputId": "4f12ca5e-a80b-45ba-e3d4-e9742fa486ef"
      },
      "execution_count": null,
      "outputs": [
        {
          "output_type": "execute_result",
          "data": {
            "text/plain": [
              "Text(0, 0.5, 'Number of Installs')"
            ]
          },
          "metadata": {},
          "execution_count": 39
        },
        {
          "output_type": "display_data",
          "data": {
            "text/plain": [
              "<Figure size 936x576 with 1 Axes>"
            ],
            "image/png": "[encoded data removed]"
          },
          "metadata": {
            "needs_background": "light"
          }
        }
      ]
    },
    {
      "cell_type": "markdown",
      "source": [
        "When it comes to which categories have highest number of installs, the answer is a little bit different from the previous analysis. In this case, 'Game', and 'Communication' have topped the list. They have more number of installs compared to any other category. \n",
        "\n",
        "\n"
      ],
      "metadata": {
        "id": "qKtSokWzYp10"
      }
    },
    {
      "cell_type": "code",
      "source": [
        "no_of_apps = [387,1972,1144,283,335,424,295,843,258,175]\n",
        "no_of_installs = [32647276251,10258263505,35086024415,7496317760,10088247655,14176091369,14069867902,11452771915,6868887146,6222002720]\n",
        "index = ['COMMUNICATION','FAMILY','GAME','NEWS_AND_MAGAZINES','PHOTOGRAPHY','PRODUCTIVITY','SOCIAL','TOOLS','TRAVEL_AND_LOCAL','VIDEO_PLAYERS']\n",
        "df = pd.DataFrame({'No.of Apps': no_of_apps,\n",
        "                   'Installs': no_of_installs}, index=index)\n",
        "df"
      ],
      "metadata": {
        "colab": {
          "base_uri": "https://localhost:8080/",
          "height": 363
        },
        "id": "ShfVGx88hur2",
        "outputId": "89861f00-45e6-4f37-d2bc-890077e38427"
      },
      "execution_count": null,
      "outputs": [
        {
          "output_type": "execute_result",
          "data": {
            "text/plain": [
              "                    No.of Apps     Installs\n",
              "COMMUNICATION              387  32647276251\n",
              "FAMILY                    1972  10258263505\n",
              "GAME                      1144  35086024415\n",
              "NEWS_AND_MAGAZINES         283   7496317760\n",
              "PHOTOGRAPHY                335  10088247655\n",
              "PRODUCTIVITY               424  14176091369\n",
              "SOCIAL                     295  14069867902\n",
              "TOOLS                      843  11452771915\n",
              "TRAVEL_AND_LOCAL           258   6868887146\n",
              "VIDEO_PLAYERS              175   6222002720"
            ],
            "text/html": [
              "\n",
              "  <div id=\"df-b6bf7e62-bda3-456a-b9db-69613327f88c\">\n",
              "    <div class=\"colab-df-container\">\n",
              "      <div>\n",
              "<style scoped>\n",
              "    .dataframe tbody tr th:only-of-type {\n",
              "        vertical-align: middle;\n",
              "    }\n",
              "\n",
              "    .dataframe tbody tr th {\n",
              "        vertical-align: top;\n",
              "    }\n",
              "\n",
              "    .dataframe thead th {\n",
              "        text-align: right;\n",
              "    }\n",
              "</style>\n",
              "<table border=\"1\" class=\"dataframe\">\n",
              "  <thead>\n",
              "    <tr style=\"text-align: right;\">\n",
              "      <th></th>\n",
              "      <th>No.of Apps</th>\n",
              "      <th>Installs</th>\n",
              "    </tr>\n",
              "  </thead>\n",
              "  <tbody>\n",
              "    <tr>\n",
              "      <th>COMMUNICATION</th>\n",
              "      <td>387</td>\n",
              "      <td>32647276251</td>\n",
              "    </tr>\n",
              "    <tr>\n",
              "      <th>FAMILY</th>\n",
              "      <td>1972</td>\n",
              "      <td>10258263505</td>\n",
              "    </tr>\n",
              "    <tr>\n",
              "      <th>GAME</th>\n",
              "      <td>1144</td>\n",
              "      <td>35086024415</td>\n",
              "    </tr>\n",
              "    <tr>\n",
              "      <th>NEWS_AND_MAGAZINES</th>\n",
              "      <td>283</td>\n",
              "      <td>7496317760</td>\n",
              "    </tr>\n",
              "    <tr>\n",
              "      <th>PHOTOGRAPHY</th>\n",
              "      <td>335</td>\n",
              "      <td>10088247655</td>\n",
              "    </tr>\n",
              "    <tr>\n",
              "      <th>PRODUCTIVITY</th>\n",
              "      <td>424</td>\n",
              "      <td>14176091369</td>\n",
              "    </tr>\n",
              "    <tr>\n",
              "      <th>SOCIAL</th>\n",
              "      <td>295</td>\n",
              "      <td>14069867902</td>\n",
              "    </tr>\n",
              "    <tr>\n",
              "      <th>TOOLS</th>\n",
              "      <td>843</td>\n",
              "      <td>11452771915</td>\n",
              "    </tr>\n",
              "    <tr>\n",
              "      <th>TRAVEL_AND_LOCAL</th>\n",
              "      <td>258</td>\n",
              "      <td>6868887146</td>\n",
              "    </tr>\n",
              "    <tr>\n",
              "      <th>VIDEO_PLAYERS</th>\n",
              "      <td>175</td>\n",
              "      <td>6222002720</td>\n",
              "    </tr>\n",
              "  </tbody>\n",
              "</table>\n",
              "</div>\n",
              "      <button class=\"colab-df-convert\" onclick=\"convertToInteractive('df-b6bf7e62-bda3-456a-b9db-69613327f88c')\"\n",
              "              title=\"Convert this dataframe to an interactive table.\"\n",
              "              style=\"display:none;\">\n",
              "        \n",
              "  <svg xmlns=\"http://www.w3.org/2000/svg\" height=\"24px\"viewBox=\"0 0 24 24\"\n",
              "       width=\"24px\">\n",
              "    <path d=\"M0 0h24v24H0V0z\" fill=\"none\"/>\n",
              "    <path d=\"M18.56 5.44l.94 2.06.94-2.06 2.06-.94-2.06-.94-.94-2.06-.94 2.06-2.06.94zm-11 1L8.5 8.5l.94-2.06 2.06-.94-2.06-.94L8.5 2.5l-.94 2.06-2.06.94zm10 10l.94 2.06.94-2.06 2.06-.94-2.06-.94-.94-2.06-.94 2.06-2.06.94z\"/><path d=\"M17.41 7.96l-1.37-1.37c-.4-.4-.92-.59-1.43-.59-.52 0-1.04.2-1.43.59L10.3 9.45l-7.72 7.72c-.78.78-.78 2.05 0 2.83L4 21.41c.39.39.9.59 1.41.59.51 0 1.02-.2 1.41-.59l7.78-7.78 2.81-2.81c.8-.78.8-2.07 0-2.86zM5.41 20L4 18.59l7.72-7.72 1.47 1.35L5.41 20z\"/>\n",
              "  </svg>\n",
              "      </button>\n",
              "      \n",
              "  <style>\n",
              "    .colab-df-container {\n",
              "      display:flex;\n",
              "      flex-wrap:wrap;\n",
              "      gap: 12px;\n",
              "    }\n",
              "\n",
              "    .colab-df-convert {\n",
              "      background-color: #E8F0FE;\n",
              "      border: none;\n",
              "      border-radius: 50%;\n",
              "      cursor: pointer;\n",
              "      display: none;\n",
              "      fill: #1967D2;\n",
              "      height: 32px;\n",
              "      padding: 0 0 0 0;\n",
              "      width: 32px;\n",
              "    }\n",
              "\n",
              "    .colab-df-convert:hover {\n",
              "      background-color: #E2EBFA;\n",
              "      box-shadow: 0px 1px 2px rgba(60, 64, 67, 0.3), 0px 1px 3px 1px rgba(60, 64, 67, 0.15);\n",
              "      fill: #174EA6;\n",
              "    }\n",
              "\n",
              "    [theme=dark] .colab-df-convert {\n",
              "      background-color: #3B4455;\n",
              "      fill: #D2E3FC;\n",
              "    }\n",
              "\n",
              "    [theme=dark] .colab-df-convert:hover {\n",
              "      background-color: #434B5C;\n",
              "      box-shadow: 0px 1px 3px 1px rgba(0, 0, 0, 0.15);\n",
              "      filter: drop-shadow(0px 1px 2px rgba(0, 0, 0, 0.3));\n",
              "      fill: #FFFFFF;\n",
              "    }\n",
              "  </style>\n",
              "\n",
              "      <script>\n",
              "        const buttonEl =\n",
              "          document.querySelector('#df-b6bf7e62-bda3-456a-b9db-69613327f88c button.colab-df-convert');\n",
              "        buttonEl.style.display =\n",
              "          google.colab.kernel.accessAllowed ? 'block' : 'none';\n",
              "\n",
              "        async function convertToInteractive(key) {\n",
              "          const element = document.querySelector('#df-b6bf7e62-bda3-456a-b9db-69613327f88c');\n",
              "          const dataTable =\n",
              "            await google.colab.kernel.invokeFunction('convertToInteractive',\n",
              "                                                     [key], {});\n",
              "          if (!dataTable) return;\n",
              "\n",
              "          const docLinkHtml = 'Like what you see? Visit the ' +\n",
              "            '<a target=\"_blank\" href=https://colab.research.google.com/notebooks/data_table.ipynb>data table notebook</a>'\n",
              "            + ' to learn more about interactive tables.';\n",
              "          element.innerHTML = '';\n",
              "          dataTable['output_type'] = 'display_data';\n",
              "          await google.colab.output.renderOutput(dataTable, element);\n",
              "          const docLink = document.createElement('div');\n",
              "          docLink.innerHTML = docLinkHtml;\n",
              "          element.appendChild(docLink);\n",
              "        }\n",
              "      </script>\n",
              "    </div>\n",
              "  </div>\n",
              "  "
            ]
          },
          "metadata": {},
          "execution_count": 40
        }
      ]
    },
    {
      "cell_type": "code",
      "source": [
        "plt.rcParams['figure.figsize'] = (8,5)\n",
        "s = StringIO(\"\"\"     no.ofapps     Installs\n",
        "COMMUNICATION     387   32647276251\n",
        "FAMILY    1972  10258263505\n",
        "GAME     1144  35086024415\n",
        "NEWS_AND_MAGAZINES     283   7496317760\n",
        "PHOTOGRAPHY    335   10088247655\n",
        "PRODUCTIVITY     424   14176091369\n",
        "SOCIAL     295   14069867902\n",
        "TOOLS     843   11452771915\n",
        "TRAVEL_AND_LOCAL     258   6868887146\n",
        "VIDEO_PLAYERS     175   6222002720\"\"\")\n",
        "df = pd.read_csv(s, index_col=0, delimiter=' ', skipinitialspace=True)\n",
        "_ = df.plot( kind= 'bar' , secondary_y= 'Installs')\n",
        "plt.title('Number of Apps Vs Number of Installs')\n",
        "plt.ylabel('Count')"
      ],
      "metadata": {
        "colab": {
          "base_uri": "https://localhost:8080/",
          "height": 464
        },
        "id": "4MrZKOS22a1f",
        "outputId": "15d2f254-8f35-47b1-a1d7-486e704f8e12"
      },
      "execution_count": null,
      "outputs": [
        {
          "output_type": "execute_result",
          "data": {
            "text/plain": [
              "Text(0, 0.5, 'Count')"
            ]
          },
          "metadata": {},
          "execution_count": 41
        },
        {
          "output_type": "display_data",
          "data": {
            "text/plain": [
              "<Figure size 576x360 with 2 Axes>"
            ],
            "image/png": "[encoded data removed]"
          },
          "metadata": {
            "needs_background": "light"
          }
        }
      ]
    },
    {
      "cell_type": "markdown",
      "source": [
        "A better way to compare number of apps vs installs is the above bar graph. \n",
        "As indicated, blue bars on the left represent number of apps offered by a category, and the orange bar represents number of installs under that same category.\n",
        "\n",
        "Although, there are a variety of apps found in 'Family' Category, the installs are very less compared to other apps. Similarly, there are lesser number of apps offered under 'Game', and 'Communication' their installs have sky-rocketed.\n",
        "\n",
        "We can see that the ratio of Number of Installs/Number of Apps is highest in the case of \"Communication\". So when utility is concerned, 'Communication' is the best category. More number of apps can be created in this arena."
      ],
      "metadata": {
        "id": "HG5CHSvNj7Gd"
      }
    },
    {
      "cell_type": "code",
      "source": [
        "plt.figure(figsize=(10, 5))\n",
        "sns.countplot(x='Rating', data=temp_df)\n",
        "plt.title('Rating Distribution')\n",
        "plt.xticks(rotation=90)\n",
        "plt.ylabel('Number of Apps')\n",
        "plt.show()"
      ],
      "metadata": {
        "colab": {
          "base_uri": "https://localhost:8080/",
          "height": 356
        },
        "id": "ecwDY2NapW0v",
        "outputId": "1448742d-91a8-41e1-ed87-7d0eab397a8a"
      },
      "execution_count": null,
      "outputs": [
        {
          "output_type": "display_data",
          "data": {
            "text/plain": [
              "<Figure size 720x360 with 1 Axes>"
            ],
            "image/png": "[encoded data removed]"
          },
          "metadata": {
            "needs_background": "light"
          }
        }
      ]
    },
    {
      "cell_type": "markdown",
      "source": [
        "In this distribution we can see that majority of the apps had a rating of 4.3, and most apps lie between 4 and 5."
      ],
      "metadata": {
        "id": "zTyZqVGGnOxn"
      }
    },
    {
      "cell_type": "code",
      "source": [
        "colors = ['tab:cyan', 'tab:orange']\n",
        "explode = [0, 0.2]\n",
        "labels = ['Free','Paid']\n",
        "ax = temp_df['Type'].value_counts()\n",
        "plt.pie(ax, colors=colors, autopct='%1.1f%%',shadow=True, explode=explode, labels=labels, textprops={'fontsize' : 12})\n",
        "plt.title('Type of Apps')"
      ],
      "metadata": {
        "colab": {
          "base_uri": "https://localhost:8080/",
          "height": 336
        },
        "id": "hVDj5lJXvFET",
        "outputId": "381c3ec1-9e49-48ca-f657-0e7391096008"
      },
      "execution_count": null,
      "outputs": [
        {
          "output_type": "execute_result",
          "data": {
            "text/plain": [
              "Text(0.5, 1.0, 'Type of Apps')"
            ]
          },
          "metadata": {},
          "execution_count": 43
        },
        {
          "output_type": "display_data",
          "data": {
            "text/plain": [
              "<Figure size 576x360 with 1 Axes>"
            ],
            "image/png": "[encoded data removed]"
          },
          "metadata": {}
        }
      ]
    },
    {
      "cell_type": "markdown",
      "source": [
        "In this figure we can see that roughly 92% of the apps in Play Store are free, and 8% are paid."
      ],
      "metadata": {
        "id": "G9ZYS4Nmnko2"
      }
    },
    {
      "cell_type": "code",
      "source": [
        "ab = temp_df['Content Rating'].value_counts()\n",
        "ab.plot(kind='bar',color = 'orange')\n",
        "plt.title('Content Rating')\n",
        "plt.xlabel('Age group')\n",
        "plt.ylabel('Number of ratings')"
      ],
      "metadata": {
        "colab": {
          "base_uri": "https://localhost:8080/",
          "height": 437
        },
        "id": "G4NgMRZgm3CL",
        "outputId": "97fbd575-4d9a-4298-d71c-0f7b9011525b"
      },
      "execution_count": null,
      "outputs": [
        {
          "output_type": "execute_result",
          "data": {
            "text/plain": [
              "Text(0, 0.5, 'Number of ratings')"
            ]
          },
          "metadata": {},
          "execution_count": 44
        },
        {
          "output_type": "display_data",
          "data": {
            "text/plain": [
              "<Figure size 576x360 with 1 Axes>"
            ],
            "image/png": "[encoded data removed]"
          },
          "metadata": {
            "needs_background": "light"
          }
        }
      ]
    },
    {
      "cell_type": "markdown",
      "source": [
        "Here we can see that most apps have been made to cater to a wider audience. Where as age groups like teen and 17+ have very less apps.\n",
        "\n"
      ],
      "metadata": {
        "id": "ynFSrfqHnzPc"
      }
    },
    {
      "cell_type": "code",
      "source": [
        "temp_df['App'].nunique()"
      ],
      "metadata": {
        "colab": {
          "base_uri": "https://localhost:8080/"
        },
        "id": "YwM1XVsRaDA7",
        "outputId": "11aabe5c-851a-4fd3-820d-9d5ad8222c8e"
      },
      "execution_count": null,
      "outputs": [
        {
          "output_type": "execute_result",
          "data": {
            "text/plain": [
              "9658"
            ]
          },
          "metadata": {},
          "execution_count": 45
        }
      ]
    },
    {
      "cell_type": "code",
      "source": [
        "reviews_df['App'].nunique()"
      ],
      "metadata": {
        "colab": {
          "base_uri": "https://localhost:8080/"
        },
        "id": "s0QuSFXdZ8Lv",
        "outputId": "c17c0de7-221c-4927-9c1c-c203b8cc4052"
      },
      "execution_count": null,
      "outputs": [
        {
          "output_type": "execute_result",
          "data": {
            "text/plain": [
              "865"
            ]
          },
          "metadata": {},
          "execution_count": 46
        }
      ]
    },
    {
      "cell_type": "markdown",
      "source": [
        "As we can see that, we have available reviews for 865 apps only. "
      ],
      "metadata": {
        "id": "spTJvjNbaHd-"
      }
    },
    {
      "cell_type": "code",
      "source": [
        "colors = ['tab:cyan', 'tab:orange', 'tab:pink']\n",
        "labels = ['Positive','Negative','Neutral']\n",
        "bbb = reviews_df['Sentiment'].value_counts()\n",
        "plt.pie(bbb, colors=colors, autopct='%1.1f%%',shadow=True, labels=labels, textprops={'fontsize' : 12})\n",
        "plt.title('Distribution of Sentiment')"
      ],
      "metadata": {
        "colab": {
          "base_uri": "https://localhost:8080/",
          "height": 336
        },
        "id": "mk5sxUtI6qG0",
        "outputId": "8c173bc4-87c2-4605-d96d-c08df53fa8fb"
      },
      "execution_count": null,
      "outputs": [
        {
          "output_type": "execute_result",
          "data": {
            "text/plain": [
              "Text(0.5, 1.0, 'Distribution of Sentiment')"
            ]
          },
          "metadata": {},
          "execution_count": 47
        },
        {
          "output_type": "display_data",
          "data": {
            "text/plain": [
              "<Figure size 576x360 with 1 Axes>"
            ],
            "image/png": "[encoded data removed]"
          },
          "metadata": {}
        }
      ]
    },
    {
      "cell_type": "markdown",
      "source": [
        "Here we can see that majority of the reviews are positive."
      ],
      "metadata": {
        "id": "nX1rWOlk9oad"
      }
    },
    {
      "cell_type": "code",
      "source": [
        "data = reviews_df['Sentiment_Polarity']\n",
        "sns.distplot(data)"
      ],
      "metadata": {
        "colab": {
          "base_uri": "https://localhost:8080/",
          "height": 407
        },
        "id": "_JgXGSDDXLpf",
        "outputId": "783c2303-c62a-4747-8abc-3f1f79f78c87"
      },
      "execution_count": null,
      "outputs": [
        {
          "output_type": "stream",
          "name": "stderr",
          "text": [
            "/usr/local/lib/python3.7/dist-packages/seaborn/distributions.py:2619: FutureWarning: `distplot` is a deprecated function and will be removed in a future version. Please adapt your code to use either `displot` (a figure-level function with similar flexibility) or `histplot` (an axes-level function for histograms).\n",
            "  warnings.warn(msg, FutureWarning)\n"
          ]
        },
        {
          "output_type": "execute_result",
          "data": {
            "text/plain": [
              "<matplotlib.axes._subplots.AxesSubplot at 0x7f0746c64750>"
            ]
          },
          "metadata": {},
          "execution_count": 48
        },
        {
          "output_type": "display_data",
          "data": {
            "text/plain": [
              "<Figure size 576x360 with 1 Axes>"
            ],
            "image/png": "[encoded data removed]"
          },
          "metadata": {
            "needs_background": "light"
          }
        }
      ]
    },
    {
      "cell_type": "markdown",
      "source": [
        "Here we can see that left side is higher, as positive reviews are more in number."
      ],
      "metadata": {
        "id": "zeqwqFYD9vFz"
      }
    },
    {
      "cell_type": "code",
      "source": [
        "data1 = reviews_df['Sentiment_Subjectivity']\n",
        "sns.distplot(data1)"
      ],
      "metadata": {
        "colab": {
          "base_uri": "https://localhost:8080/",
          "height": 407
        },
        "id": "sDhuxzSCYqe1",
        "outputId": "ea402978-69c4-4e31-88d0-c42c93bca113"
      },
      "execution_count": null,
      "outputs": [
        {
          "output_type": "stream",
          "name": "stderr",
          "text": [
            "/usr/local/lib/python3.7/dist-packages/seaborn/distributions.py:2619: FutureWarning: `distplot` is a deprecated function and will be removed in a future version. Please adapt your code to use either `displot` (a figure-level function with similar flexibility) or `histplot` (an axes-level function for histograms).\n",
            "  warnings.warn(msg, FutureWarning)\n"
          ]
        },
        {
          "output_type": "execute_result",
          "data": {
            "text/plain": [
              "<matplotlib.axes._subplots.AxesSubplot at 0x7f07468d82d0>"
            ]
          },
          "metadata": {},
          "execution_count": 49
        },
        {
          "output_type": "display_data",
          "data": {
            "text/plain": [
              "<Figure size 576x360 with 1 Axes>"
            ],
            "image/png": "[encoded data removed]"
          },
          "metadata": {
            "needs_background": "light"
          }
        }
      ]
    },
    {
      "cell_type": "markdown",
      "source": [
        "Here just by looking at the distribution one cannot tell which side is higher."
      ],
      "metadata": {
        "id": "JRccxVeYOfvc"
      }
    },
    {
      "cell_type": "code",
      "source": [
        "plt.figure(figsize=(10,8))\n",
        "plt.scatter(data,data1)\n",
        "plt.title('Sentiment Polarity vs Sentiment Subjectivity')\n",
        "plt.ylabel('Sentiment Subjectivity')\n",
        "plt.xlabel('Sentiment Polarity')"
      ],
      "metadata": {
        "colab": {
          "base_uri": "https://localhost:8080/",
          "height": 530
        },
        "id": "ryGxPMiJVAMs",
        "outputId": "a33b4576-c6a0-4daa-d6b1-099705bd9c1e"
      },
      "execution_count": null,
      "outputs": [
        {
          "output_type": "execute_result",
          "data": {
            "text/plain": [
              "Text(0.5, 0, 'Sentiment Polarity')"
            ]
          },
          "metadata": {},
          "execution_count": 50
        },
        {
          "output_type": "display_data",
          "data": {
            "text/plain": [
              "<Figure size 720x576 with 1 Axes>"
            ],
            "image/png": "[encoded data removed]"
          },
          "metadata": {
            "needs_background": "light"
          }
        }
      ]
    },
    {
      "cell_type": "markdown",
      "source": [
        "Here we can see that Sentiment Subjectivity and Sentiment Polarity are not quite proportional. We have more amount of postive reviews that are personal opinions."
      ],
      "metadata": {
        "id": "ino9wt7HWkjc"
      }
    },
    {
      "cell_type": "markdown",
      "source": [
        "Now, for in order for us to plot a correlation heat map, we need to convert relevant categorical variables like 'Category', 'Type', 'Content Rating', and 'Last Updated' into numeric. For this we are creating another temporary dataframe so that the original remains intact. "
      ],
      "metadata": {
        "id": "ADyX_DKjotD5"
      }
    },
    {
      "cell_type": "code",
      "source": [
        "#Storing current dataframe into a temporary variable\n",
        "my_new_df = temp_df"
      ],
      "metadata": {
        "id": "nweW2ijuxc3l"
      },
      "execution_count": null,
      "outputs": []
    },
    {
      "cell_type": "code",
      "source": [
        "#For 'Category'\n",
        "labels = my_new_df['Category'].astype('category').cat.categories.tolist()\n",
        "replace_cat = {'Category' : {k: v for k,v in zip(labels,list(range(1,len(labels)+1)))}}\n",
        "\n",
        "print(replace_cat)\n",
        "\n",
        "my_new_df.replace(replace_cat, inplace=True)"
      ],
      "metadata": {
        "colab": {
          "base_uri": "https://localhost:8080/"
        },
        "id": "cdCSkp4ZCk5G",
        "outputId": "b1244fe2-9f42-4a69-ad53-917efc695bcc"
      },
      "execution_count": null,
      "outputs": [
        {
          "output_type": "stream",
          "name": "stdout",
          "text": [
            "{'Category': {'ART_AND_DESIGN': 1, 'AUTO_AND_VEHICLES': 2, 'BEAUTY': 3, 'BOOKS_AND_REFERENCE': 4, 'BUSINESS': 5, 'COMICS': 6, 'COMMUNICATION': 7, 'DATING': 8, 'EDUCATION': 9, 'ENTERTAINMENT': 10, 'EVENTS': 11, 'FAMILY': 12, 'FINANCE': 13, 'FOOD_AND_DRINK': 14, 'GAME': 15, 'HEALTH_AND_FITNESS': 16, 'HOUSE_AND_HOME': 17, 'LIBRARIES_AND_DEMO': 18, 'LIFESTYLE': 19, 'MAPS_AND_NAVIGATION': 20, 'MEDICAL': 21, 'NEWS_AND_MAGAZINES': 22, 'PARENTING': 23, 'PERSONALIZATION': 24, 'PHOTOGRAPHY': 25, 'PRODUCTIVITY': 26, 'SHOPPING': 27, 'SOCIAL': 28, 'SPORTS': 29, 'TOOLS': 30, 'TRAVEL_AND_LOCAL': 31, 'VIDEO_PLAYERS': 32, 'WEATHER': 33}}\n"
          ]
        }
      ]
    },
    {
      "cell_type": "code",
      "source": [
        "#For 'Type'\n",
        "labels = my_new_df['Type'].astype('category').cat.categories.tolist()\n",
        "replace_type = {'Type' : {k: v for k,v in zip(labels,list(range(1,len(labels)+1)))}}\n",
        "\n",
        "print(replace_type)\n",
        "\n",
        "my_new_df.replace(replace_type, inplace=True)"
      ],
      "metadata": {
        "colab": {
          "base_uri": "https://localhost:8080/"
        },
        "id": "r1S79ycdCuzb",
        "outputId": "5ef878a0-a562-4be8-d1fb-6dc5d2ba47d8"
      },
      "execution_count": null,
      "outputs": [
        {
          "output_type": "stream",
          "name": "stdout",
          "text": [
            "{'Type': {'Free': 1, 'Paid': 2}}\n"
          ]
        }
      ]
    },
    {
      "cell_type": "code",
      "source": [
        "#For 'Content Rating'\n",
        "labels = my_new_df['Content Rating'].astype('category').cat.categories.tolist()\n",
        "replace_content = {'Content Rating' : {k: v for k,v in zip(labels,list(range(1,len(labels)+1)))}}\n",
        "\n",
        "print(replace_content)\n",
        "\n",
        "my_new_df.replace(replace_content, inplace=True)"
      ],
      "metadata": {
        "colab": {
          "base_uri": "https://localhost:8080/"
        },
        "id": "XKI3F5-zC3_7",
        "outputId": "9fa4c9c7-5442-49bb-9d12-d1e8be52f8a4"
      },
      "execution_count": null,
      "outputs": [
        {
          "output_type": "stream",
          "name": "stdout",
          "text": [
            "{'Content Rating': {'Adults only 18+': 1, 'Everyone': 2, 'Everyone 10+': 3, 'Mature 17+': 4, 'Teen': 5, 'Unrated': 6}}\n"
          ]
        }
      ]
    },
    {
      "cell_type": "code",
      "source": [
        "#For 'Last Updated'\n",
        "labels = my_new_df['Last Updated'].astype('category').cat.categories.tolist()\n",
        "replace_updated = {'Last Updated' : {k: v for k,v in zip(labels,list(range(1,len(labels)+1)))}}\n",
        "\n",
        "print(replace_updated)\n",
        "\n",
        "my_new_df.replace(replace_updated, inplace=True)"
      ],
      "metadata": {
        "colab": {
          "base_uri": "https://localhost:8080/"
        },
        "id": "o9fV0cVyDDOd",
        "outputId": "c431f348-eaea-4446-a0eb-165dee169e28"
      },
      "execution_count": null,
      "outputs": [
        {
          "output_type": "stream",
          "name": "stdout",
          "text": [
            "{'Last Updated': {Timestamp('2010-05-21 00:00:00'): 1, Timestamp('2011-01-30 00:00:00'): 2, Timestamp('2011-03-16 00:00:00'): 3, Timestamp('2011-04-11 00:00:00'): 4, Timestamp('2011-04-16 00:00:00'): 5, Timestamp('2011-04-18 00:00:00'): 6, Timestamp('2011-05-12 00:00:00'): 7, Timestamp('2011-06-23 00:00:00'): 8, Timestamp('2011-06-26 00:00:00'): 9, Timestamp('2011-06-29 00:00:00'): 10, Timestamp('2011-07-10 00:00:00'): 11, Timestamp('2011-09-20 00:00:00'): 12, Timestamp('2011-09-22 00:00:00'): 13, Timestamp('2011-10-12 00:00:00'): 14, Timestamp('2011-12-01 00:00:00'): 15, Timestamp('2011-12-03 00:00:00'): 16, Timestamp('2012-01-12 00:00:00'): 17, Timestamp('2012-01-17 00:00:00'): 18, Timestamp('2012-01-18 00:00:00'): 19, Timestamp('2012-02-06 00:00:00'): 20, Timestamp('2012-02-08 00:00:00'): 21, Timestamp('2012-02-27 00:00:00'): 22, Timestamp('2012-04-09 00:00:00'): 23, Timestamp('2012-06-01 00:00:00'): 24, Timestamp('2012-06-17 00:00:00'): 25, Timestamp('2012-06-19 00:00:00'): 26, Timestamp('2012-06-27 00:00:00'): 27, Timestamp('2012-07-20 00:00:00'): 28, Timestamp('2012-07-30 00:00:00'): 29, Timestamp('2012-08-17 00:00:00'): 30, Timestamp('2012-08-18 00:00:00'): 31, Timestamp('2012-08-24 00:00:00'): 32, Timestamp('2012-09-19 00:00:00'): 33, Timestamp('2012-09-27 00:00:00'): 34, Timestamp('2012-10-08 00:00:00'): 35, Timestamp('2012-11-08 00:00:00'): 36, Timestamp('2012-11-11 00:00:00'): 37, Timestamp('2012-11-22 00:00:00'): 38, Timestamp('2012-11-26 00:00:00'): 39, Timestamp('2012-11-28 00:00:00'): 40, Timestamp('2012-12-19 00:00:00'): 41, Timestamp('2013-01-25 00:00:00'): 42, Timestamp('2013-02-03 00:00:00'): 43, Timestamp('2013-02-10 00:00:00'): 44, Timestamp('2013-02-11 00:00:00'): 45, Timestamp('2013-02-12 00:00:00'): 46, Timestamp('2013-02-15 00:00:00'): 47, Timestamp('2013-02-18 00:00:00'): 48, Timestamp('2013-02-22 00:00:00'): 49, Timestamp('2013-03-06 00:00:00'): 50, Timestamp('2013-04-05 00:00:00'): 51, Timestamp('2013-04-10 00:00:00'): 52, Timestamp('2013-04-22 00:00:00'): 53, Timestamp('2013-04-25 00:00:00'): 54, Timestamp('2013-05-02 00:00:00'): 55, Timestamp('2013-05-06 00:00:00'): 56, Timestamp('2013-05-09 00:00:00'): 57, Timestamp('2013-05-14 00:00:00'): 58, Timestamp('2013-05-18 00:00:00'): 59, Timestamp('2013-05-21 00:00:00'): 60, Timestamp('2013-05-22 00:00:00'): 61, Timestamp('2013-05-25 00:00:00'): 62, Timestamp('2013-06-02 00:00:00'): 63, Timestamp('2013-06-04 00:00:00'): 64, Timestamp('2013-06-05 00:00:00'): 65, Timestamp('2013-06-12 00:00:00'): 66, Timestamp('2013-06-15 00:00:00'): 67, Timestamp('2013-06-25 00:00:00'): 68, Timestamp('2013-06-26 00:00:00'): 69, Timestamp('2013-07-01 00:00:00'): 70, Timestamp('2013-07-03 00:00:00'): 71, Timestamp('2013-07-17 00:00:00'): 72, Timestamp('2013-07-18 00:00:00'): 73, Timestamp('2013-07-20 00:00:00'): 74, Timestamp('2013-07-26 00:00:00'): 75, Timestamp('2013-07-27 00:00:00'): 76, Timestamp('2013-07-31 00:00:00'): 77, Timestamp('2013-08-01 00:00:00'): 78, Timestamp('2013-08-07 00:00:00'): 79, Timestamp('2013-08-08 00:00:00'): 80, Timestamp('2013-08-09 00:00:00'): 81, Timestamp('2013-08-10 00:00:00'): 82, Timestamp('2013-08-14 00:00:00'): 83, Timestamp('2013-08-15 00:00:00'): 84, Timestamp('2013-08-16 00:00:00'): 85, Timestamp('2013-08-17 00:00:00'): 86, Timestamp('2013-08-19 00:00:00'): 87, Timestamp('2013-08-22 00:00:00'): 88, Timestamp('2013-08-26 00:00:00'): 89, Timestamp('2013-08-27 00:00:00'): 90, Timestamp('2013-08-30 00:00:00'): 91, Timestamp('2013-08-31 00:00:00'): 92, Timestamp('2013-09-04 00:00:00'): 93, Timestamp('2013-09-05 00:00:00'): 94, Timestamp('2013-09-08 00:00:00'): 95, Timestamp('2013-09-11 00:00:00'): 96, Timestamp('2013-09-13 00:00:00'): 97, Timestamp('2013-09-16 00:00:00'): 98, Timestamp('2013-09-19 00:00:00'): 99, Timestamp('2013-09-23 00:00:00'): 100, Timestamp('2013-09-24 00:00:00'): 101, Timestamp('2013-09-25 00:00:00'): 102, Timestamp('2013-09-27 00:00:00'): 103, Timestamp('2013-09-28 00:00:00'): 104, Timestamp('2013-09-30 00:00:00'): 105, Timestamp('2013-10-01 00:00:00'): 106, Timestamp('2013-10-04 00:00:00'): 107, Timestamp('2013-10-07 00:00:00'): 108, Timestamp('2013-10-11 00:00:00'): 109, Timestamp('2013-10-22 00:00:00'): 110, Timestamp('2013-10-28 00:00:00'): 111, Timestamp('2013-11-01 00:00:00'): 112, Timestamp('2013-11-05 00:00:00'): 113, Timestamp('2013-11-12 00:00:00'): 114, Timestamp('2013-11-13 00:00:00'): 115, Timestamp('2013-11-18 00:00:00'): 116, Timestamp('2013-11-20 00:00:00'): 117, Timestamp('2013-11-22 00:00:00'): 118, Timestamp('2013-11-25 00:00:00'): 119, Timestamp('2013-12-02 00:00:00'): 120, Timestamp('2013-12-05 00:00:00'): 121, Timestamp('2013-12-12 00:00:00'): 122, Timestamp('2013-12-13 00:00:00'): 123, Timestamp('2013-12-17 00:00:00'): 124, Timestamp('2013-12-18 00:00:00'): 125, Timestamp('2013-12-19 00:00:00'): 126, Timestamp('2013-12-23 00:00:00'): 127, Timestamp('2013-12-26 00:00:00'): 128, Timestamp('2014-01-08 00:00:00'): 129, Timestamp('2014-01-11 00:00:00'): 130, Timestamp('2014-01-13 00:00:00'): 131, Timestamp('2014-01-15 00:00:00'): 132, Timestamp('2014-01-17 00:00:00'): 133, Timestamp('2014-01-19 00:00:00'): 134, Timestamp('2014-01-20 00:00:00'): 135, Timestamp('2014-01-21 00:00:00'): 136, Timestamp('2014-01-22 00:00:00'): 137, Timestamp('2014-01-23 00:00:00'): 138, Timestamp('2014-01-24 00:00:00'): 139, Timestamp('2014-01-28 00:00:00'): 140, Timestamp('2014-02-02 00:00:00'): 141, Timestamp('2014-02-05 00:00:00'): 142, Timestamp('2014-02-06 00:00:00'): 143, Timestamp('2014-02-11 00:00:00'): 144, Timestamp('2014-02-12 00:00:00'): 145, Timestamp('2014-02-13 00:00:00'): 146, Timestamp('2014-02-16 00:00:00'): 147, Timestamp('2014-02-17 00:00:00'): 148, Timestamp('2014-02-18 00:00:00'): 149, Timestamp('2014-02-21 00:00:00'): 150, Timestamp('2014-02-22 00:00:00'): 151, Timestamp('2014-02-23 00:00:00'): 152, Timestamp('2014-02-26 00:00:00'): 153, Timestamp('2014-03-03 00:00:00'): 154, Timestamp('2014-03-05 00:00:00'): 155, Timestamp('2014-03-06 00:00:00'): 156, Timestamp('2014-03-07 00:00:00'): 157, Timestamp('2014-03-09 00:00:00'): 158, Timestamp('2014-03-11 00:00:00'): 159, Timestamp('2014-03-13 00:00:00'): 160, Timestamp('2014-03-20 00:00:00'): 161, Timestamp('2014-03-23 00:00:00'): 162, Timestamp('2014-03-25 00:00:00'): 163, Timestamp('2014-04-04 00:00:00'): 164, Timestamp('2014-04-10 00:00:00'): 165, Timestamp('2014-04-11 00:00:00'): 166, Timestamp('2014-04-13 00:00:00'): 167, Timestamp('2014-04-17 00:00:00'): 168, Timestamp('2014-04-22 00:00:00'): 169, Timestamp('2014-04-23 00:00:00'): 170, Timestamp('2014-04-25 00:00:00'): 171, Timestamp('2014-04-30 00:00:00'): 172, Timestamp('2014-05-01 00:00:00'): 173, Timestamp('2014-05-03 00:00:00'): 174, Timestamp('2014-05-06 00:00:00'): 175, Timestamp('2014-05-14 00:00:00'): 176, Timestamp('2014-05-16 00:00:00'): 177, Timestamp('2014-05-18 00:00:00'): 178, Timestamp('2014-05-19 00:00:00'): 179, Timestamp('2014-05-20 00:00:00'): 180, Timestamp('2014-05-24 00:00:00'): 181, Timestamp('2014-05-26 00:00:00'): 182, Timestamp('2014-06-03 00:00:00'): 183, Timestamp('2014-06-05 00:00:00'): 184, Timestamp('2014-06-06 00:00:00'): 185, Timestamp('2014-06-09 00:00:00'): 186, Timestamp('2014-06-13 00:00:00'): 187, Timestamp('2014-06-17 00:00:00'): 188, Timestamp('2014-06-24 00:00:00'): 189, Timestamp('2014-06-30 00:00:00'): 190, Timestamp('2014-07-01 00:00:00'): 191, Timestamp('2014-07-02 00:00:00'): 192, Timestamp('2014-07-03 00:00:00'): 193, Timestamp('2014-07-04 00:00:00'): 194, Timestamp('2014-07-06 00:00:00'): 195, Timestamp('2014-07-09 00:00:00'): 196, Timestamp('2014-07-10 00:00:00'): 197, Timestamp('2014-07-11 00:00:00'): 198, Timestamp('2014-07-12 00:00:00'): 199, Timestamp('2014-07-18 00:00:00'): 200, Timestamp('2014-07-23 00:00:00'): 201, Timestamp('2014-07-26 00:00:00'): 202, Timestamp('2014-07-28 00:00:00'): 203, Timestamp('2014-07-30 00:00:00'): 204, Timestamp('2014-07-31 00:00:00'): 205, Timestamp('2014-08-02 00:00:00'): 206, Timestamp('2014-08-04 00:00:00'): 207, Timestamp('2014-08-05 00:00:00'): 208, Timestamp('2014-08-07 00:00:00'): 209, Timestamp('2014-08-09 00:00:00'): 210, Timestamp('2014-08-11 00:00:00'): 211, Timestamp('2014-08-12 00:00:00'): 212, Timestamp('2014-08-17 00:00:00'): 213, Timestamp('2014-08-19 00:00:00'): 214, Timestamp('2014-08-21 00:00:00'): 215, Timestamp('2014-08-25 00:00:00'): 216, Timestamp('2014-08-26 00:00:00'): 217, Timestamp('2014-08-27 00:00:00'): 218, Timestamp('2014-08-28 00:00:00'): 219, Timestamp('2014-08-30 00:00:00'): 220, Timestamp('2014-09-06 00:00:00'): 221, Timestamp('2014-09-10 00:00:00'): 222, Timestamp('2014-09-12 00:00:00'): 223, Timestamp('2014-09-16 00:00:00'): 224, Timestamp('2014-09-20 00:00:00'): 225, Timestamp('2014-09-22 00:00:00'): 226, Timestamp('2014-09-30 00:00:00'): 227, Timestamp('2014-10-02 00:00:00'): 228, Timestamp('2014-10-06 00:00:00'): 229, Timestamp('2014-10-07 00:00:00'): 230, Timestamp('2014-10-10 00:00:00'): 231, Timestamp('2014-10-11 00:00:00'): 232, Timestamp('2014-10-16 00:00:00'): 233, Timestamp('2014-10-17 00:00:00'): 234, Timestamp('2014-10-18 00:00:00'): 235, Timestamp('2014-10-22 00:00:00'): 236, Timestamp('2014-10-25 00:00:00'): 237, Timestamp('2014-10-28 00:00:00'): 238, Timestamp('2014-10-29 00:00:00'): 239, Timestamp('2014-10-30 00:00:00'): 240, Timestamp('2014-11-03 00:00:00'): 241, Timestamp('2014-11-04 00:00:00'): 242, Timestamp('2014-11-05 00:00:00'): 243, Timestamp('2014-11-06 00:00:00'): 244, Timestamp('2014-11-09 00:00:00'): 245, Timestamp('2014-11-10 00:00:00'): 246, Timestamp('2014-11-12 00:00:00'): 247, Timestamp('2014-11-13 00:00:00'): 248, Timestamp('2014-11-14 00:00:00'): 249, Timestamp('2014-11-15 00:00:00'): 250, Timestamp('2014-11-20 00:00:00'): 251, Timestamp('2014-11-21 00:00:00'): 252, Timestamp('2014-11-25 00:00:00'): 253, Timestamp('2014-11-26 00:00:00'): 254, Timestamp('2014-11-27 00:00:00'): 255, Timestamp('2014-11-30 00:00:00'): 256, Timestamp('2014-12-02 00:00:00'): 257, Timestamp('2014-12-03 00:00:00'): 258, Timestamp('2014-12-04 00:00:00'): 259, Timestamp('2014-12-06 00:00:00'): 260, Timestamp('2014-12-09 00:00:00'): 261, Timestamp('2014-12-13 00:00:00'): 262, Timestamp('2014-12-15 00:00:00'): 263, Timestamp('2014-12-17 00:00:00'): 264, Timestamp('2014-12-18 00:00:00'): 265, Timestamp('2014-12-22 00:00:00'): 266, Timestamp('2014-12-26 00:00:00'): 267, Timestamp('2014-12-29 00:00:00'): 268, Timestamp('2014-12-31 00:00:00'): 269, Timestamp('2015-01-01 00:00:00'): 270, Timestamp('2015-01-07 00:00:00'): 271, Timestamp('2015-01-08 00:00:00'): 272, Timestamp('2015-01-09 00:00:00'): 273, Timestamp('2015-01-11 00:00:00'): 274, Timestamp('2015-01-13 00:00:00'): 275, Timestamp('2015-01-14 00:00:00'): 276, Timestamp('2015-01-15 00:00:00'): 277, Timestamp('2015-01-18 00:00:00'): 278, Timestamp('2015-01-19 00:00:00'): 279, Timestamp('2015-01-20 00:00:00'): 280, Timestamp('2015-01-22 00:00:00'): 281, Timestamp('2015-01-25 00:00:00'): 282, Timestamp('2015-01-26 00:00:00'): 283, Timestamp('2015-01-30 00:00:00'): 284, Timestamp('2015-01-31 00:00:00'): 285, Timestamp('2015-02-02 00:00:00'): 286, Timestamp('2015-02-03 00:00:00'): 287, Timestamp('2015-02-05 00:00:00'): 288, Timestamp('2015-02-10 00:00:00'): 289, Timestamp('2015-02-11 00:00:00'): 290, Timestamp('2015-02-12 00:00:00'): 291, Timestamp('2015-02-13 00:00:00'): 292, Timestamp('2015-02-14 00:00:00'): 293, Timestamp('2015-02-15 00:00:00'): 294, Timestamp('2015-02-18 00:00:00'): 295, Timestamp('2015-02-20 00:00:00'): 296, Timestamp('2015-02-23 00:00:00'): 297, Timestamp('2015-02-25 00:00:00'): 298, Timestamp('2015-02-27 00:00:00'): 299, Timestamp('2015-03-04 00:00:00'): 300, Timestamp('2015-03-05 00:00:00'): 301, Timestamp('2015-03-06 00:00:00'): 302, Timestamp('2015-03-08 00:00:00'): 303, Timestamp('2015-03-09 00:00:00'): 304, Timestamp('2015-03-10 00:00:00'): 305, Timestamp('2015-03-11 00:00:00'): 306, Timestamp('2015-03-12 00:00:00'): 307, Timestamp('2015-03-13 00:00:00'): 308, Timestamp('2015-03-14 00:00:00'): 309, Timestamp('2015-03-16 00:00:00'): 310, Timestamp('2015-03-17 00:00:00'): 311, Timestamp('2015-03-20 00:00:00'): 312, Timestamp('2015-03-21 00:00:00'): 313, Timestamp('2015-03-22 00:00:00'): 314, Timestamp('2015-03-25 00:00:00'): 315, Timestamp('2015-03-26 00:00:00'): 316, Timestamp('2015-03-27 00:00:00'): 317, Timestamp('2015-03-29 00:00:00'): 318, Timestamp('2015-03-30 00:00:00'): 319, Timestamp('2015-03-31 00:00:00'): 320, Timestamp('2015-04-02 00:00:00'): 321, Timestamp('2015-04-03 00:00:00'): 322, Timestamp('2015-04-07 00:00:00'): 323, Timestamp('2015-04-10 00:00:00'): 324, Timestamp('2015-04-14 00:00:00'): 325, Timestamp('2015-04-15 00:00:00'): 326, Timestamp('2015-04-20 00:00:00'): 327, Timestamp('2015-04-23 00:00:00'): 328, Timestamp('2015-04-24 00:00:00'): 329, Timestamp('2015-04-26 00:00:00'): 330, Timestamp('2015-04-29 00:00:00'): 331, Timestamp('2015-05-01 00:00:00'): 332, Timestamp('2015-05-02 00:00:00'): 333, Timestamp('2015-05-04 00:00:00'): 334, Timestamp('2015-05-06 00:00:00'): 335, Timestamp('2015-05-08 00:00:00'): 336, Timestamp('2015-05-10 00:00:00'): 337, Timestamp('2015-05-11 00:00:00'): 338, Timestamp('2015-05-13 00:00:00'): 339, Timestamp('2015-05-14 00:00:00'): 340, Timestamp('2015-05-15 00:00:00'): 341, Timestamp('2015-05-16 00:00:00'): 342, Timestamp('2015-05-19 00:00:00'): 343, Timestamp('2015-05-21 00:00:00'): 344, Timestamp('2015-05-24 00:00:00'): 345, Timestamp('2015-05-25 00:00:00'): 346, Timestamp('2015-05-26 00:00:00'): 347, Timestamp('2015-05-27 00:00:00'): 348, Timestamp('2015-05-30 00:00:00'): 349, Timestamp('2015-06-03 00:00:00'): 350, Timestamp('2015-06-04 00:00:00'): 351, Timestamp('2015-06-05 00:00:00'): 352, Timestamp('2015-06-06 00:00:00'): 353, Timestamp('2015-06-08 00:00:00'): 354, Timestamp('2015-06-09 00:00:00'): 355, Timestamp('2015-06-10 00:00:00'): 356, Timestamp('2015-06-11 00:00:00'): 357, Timestamp('2015-06-14 00:00:00'): 358, Timestamp('2015-06-15 00:00:00'): 359, Timestamp('2015-06-16 00:00:00'): 360, Timestamp('2015-06-17 00:00:00'): 361, Timestamp('2015-06-18 00:00:00'): 362, Timestamp('2015-06-19 00:00:00'): 363, Timestamp('2015-06-23 00:00:00'): 364, Timestamp('2015-06-24 00:00:00'): 365, Timestamp('2015-06-25 00:00:00'): 366, Timestamp('2015-06-26 00:00:00'): 367, Timestamp('2015-06-28 00:00:00'): 368, Timestamp('2015-07-01 00:00:00'): 369, Timestamp('2015-07-02 00:00:00'): 370, Timestamp('2015-07-06 00:00:00'): 371, Timestamp('2015-07-07 00:00:00'): 372, Timestamp('2015-07-10 00:00:00'): 373, Timestamp('2015-07-11 00:00:00'): 374, Timestamp('2015-07-14 00:00:00'): 375, Timestamp('2015-07-15 00:00:00'): 376, Timestamp('2015-07-16 00:00:00'): 377, Timestamp('2015-07-17 00:00:00'): 378, Timestamp('2015-07-18 00:00:00'): 379, Timestamp('2015-07-19 00:00:00'): 380, Timestamp('2015-07-23 00:00:00'): 381, Timestamp('2015-07-25 00:00:00'): 382, Timestamp('2015-07-26 00:00:00'): 383, Timestamp('2015-07-28 00:00:00'): 384, Timestamp('2015-07-29 00:00:00'): 385, Timestamp('2015-07-30 00:00:00'): 386, Timestamp('2015-08-01 00:00:00'): 387, Timestamp('2015-08-03 00:00:00'): 388, Timestamp('2015-08-05 00:00:00'): 389, Timestamp('2015-08-06 00:00:00'): 390, Timestamp('2015-08-07 00:00:00'): 391, Timestamp('2015-08-08 00:00:00'): 392, Timestamp('2015-08-10 00:00:00'): 393, Timestamp('2015-08-11 00:00:00'): 394, Timestamp('2015-08-12 00:00:00'): 395, Timestamp('2015-08-13 00:00:00'): 396, Timestamp('2015-08-16 00:00:00'): 397, Timestamp('2015-08-18 00:00:00'): 398, Timestamp('2015-08-20 00:00:00'): 399, Timestamp('2015-08-21 00:00:00'): 400, Timestamp('2015-08-22 00:00:00'): 401, Timestamp('2015-08-24 00:00:00'): 402, Timestamp('2015-08-25 00:00:00'): 403, Timestamp('2015-08-26 00:00:00'): 404, Timestamp('2015-08-28 00:00:00'): 405, Timestamp('2015-08-30 00:00:00'): 406, Timestamp('2015-08-31 00:00:00'): 407, Timestamp('2015-09-01 00:00:00'): 408, Timestamp('2015-09-02 00:00:00'): 409, Timestamp('2015-09-03 00:00:00'): 410, Timestamp('2015-09-05 00:00:00'): 411, Timestamp('2015-09-06 00:00:00'): 412, Timestamp('2015-09-07 00:00:00'): 413, Timestamp('2015-09-08 00:00:00'): 414, Timestamp('2015-09-09 00:00:00'): 415, Timestamp('2015-09-11 00:00:00'): 416, Timestamp('2015-09-12 00:00:00'): 417, Timestamp('2015-09-13 00:00:00'): 418, Timestamp('2015-09-14 00:00:00'): 419, Timestamp('2015-09-15 00:00:00'): 420, Timestamp('2015-09-17 00:00:00'): 421, Timestamp('2015-09-21 00:00:00'): 422, Timestamp('2015-09-22 00:00:00'): 423, Timestamp('2015-09-23 00:00:00'): 424, Timestamp('2015-09-24 00:00:00'): 425, Timestamp('2015-09-25 00:00:00'): 426, Timestamp('2015-09-26 00:00:00'): 427, Timestamp('2015-09-27 00:00:00'): 428, Timestamp('2015-09-29 00:00:00'): 429, Timestamp('2015-09-30 00:00:00'): 430, Timestamp('2015-10-01 00:00:00'): 431, Timestamp('2015-10-02 00:00:00'): 432, Timestamp('2015-10-03 00:00:00'): 433, Timestamp('2015-10-04 00:00:00'): 434, Timestamp('2015-10-05 00:00:00'): 435, Timestamp('2015-10-07 00:00:00'): 436, Timestamp('2015-10-08 00:00:00'): 437, Timestamp('2015-10-09 00:00:00'): 438, Timestamp('2015-10-11 00:00:00'): 439, Timestamp('2015-10-12 00:00:00'): 440, Timestamp('2015-10-13 00:00:00'): 441, Timestamp('2015-10-14 00:00:00'): 442, Timestamp('2015-10-15 00:00:00'): 443, Timestamp('2015-10-16 00:00:00'): 444, Timestamp('2015-10-17 00:00:00'): 445, Timestamp('2015-10-19 00:00:00'): 446, Timestamp('2015-10-20 00:00:00'): 447, Timestamp('2015-10-21 00:00:00'): 448, Timestamp('2015-10-22 00:00:00'): 449, Timestamp('2015-10-26 00:00:00'): 450, Timestamp('2015-10-27 00:00:00'): 451, Timestamp('2015-10-29 00:00:00'): 452, Timestamp('2015-10-30 00:00:00'): 453, Timestamp('2015-11-02 00:00:00'): 454, Timestamp('2015-11-03 00:00:00'): 455, Timestamp('2015-11-04 00:00:00'): 456, Timestamp('2015-11-05 00:00:00'): 457, Timestamp('2015-11-08 00:00:00'): 458, Timestamp('2015-11-09 00:00:00'): 459, Timestamp('2015-11-11 00:00:00'): 460, Timestamp('2015-11-12 00:00:00'): 461, Timestamp('2015-11-13 00:00:00'): 462, Timestamp('2015-11-14 00:00:00'): 463, Timestamp('2015-11-16 00:00:00'): 464, Timestamp('2015-11-19 00:00:00'): 465, Timestamp('2015-11-20 00:00:00'): 466, Timestamp('2015-11-23 00:00:00'): 467, Timestamp('2015-11-25 00:00:00'): 468, Timestamp('2015-11-26 00:00:00'): 469, Timestamp('2015-11-27 00:00:00'): 470, Timestamp('2015-11-28 00:00:00'): 471, Timestamp('2015-12-01 00:00:00'): 472, Timestamp('2015-12-03 00:00:00'): 473, Timestamp('2015-12-04 00:00:00'): 474, Timestamp('2015-12-07 00:00:00'): 475, Timestamp('2015-12-08 00:00:00'): 476, Timestamp('2015-12-09 00:00:00'): 477, Timestamp('2015-12-10 00:00:00'): 478, Timestamp('2015-12-11 00:00:00'): 479, Timestamp('2015-12-14 00:00:00'): 480, Timestamp('2015-12-15 00:00:00'): 481, Timestamp('2015-12-16 00:00:00'): 482, Timestamp('2015-12-17 00:00:00'): 483, Timestamp('2015-12-18 00:00:00'): 484, Timestamp('2015-12-19 00:00:00'): 485, Timestamp('2015-12-20 00:00:00'): 486, Timestamp('2015-12-21 00:00:00'): 487, Timestamp('2015-12-22 00:00:00'): 488, Timestamp('2015-12-23 00:00:00'): 489, Timestamp('2015-12-24 00:00:00'): 490, Timestamp('2015-12-26 00:00:00'): 491, Timestamp('2015-12-28 00:00:00'): 492, Timestamp('2015-12-30 00:00:00'): 493, Timestamp('2015-12-31 00:00:00'): 494, Timestamp('2016-01-01 00:00:00'): 495, Timestamp('2016-01-04 00:00:00'): 496, Timestamp('2016-01-05 00:00:00'): 497, Timestamp('2016-01-07 00:00:00'): 498, Timestamp('2016-01-08 00:00:00'): 499, Timestamp('2016-01-10 00:00:00'): 500, Timestamp('2016-01-11 00:00:00'): 501, Timestamp('2016-01-12 00:00:00'): 502, Timestamp('2016-01-13 00:00:00'): 503, Timestamp('2016-01-15 00:00:00'): 504, Timestamp('2016-01-16 00:00:00'): 505, Timestamp('2016-01-17 00:00:00'): 506, Timestamp('2016-01-18 00:00:00'): 507, Timestamp('2016-01-19 00:00:00'): 508, Timestamp('2016-01-20 00:00:00'): 509, Timestamp('2016-01-23 00:00:00'): 510, Timestamp('2016-01-24 00:00:00'): 511, Timestamp('2016-01-25 00:00:00'): 512, Timestamp('2016-01-26 00:00:00'): 513, Timestamp('2016-01-27 00:00:00'): 514, Timestamp('2016-01-29 00:00:00'): 515, Timestamp('2016-01-30 00:00:00'): 516, Timestamp('2016-02-01 00:00:00'): 517, Timestamp('2016-02-02 00:00:00'): 518, Timestamp('2016-02-03 00:00:00'): 519, Timestamp('2016-02-04 00:00:00'): 520, Timestamp('2016-02-05 00:00:00'): 521, Timestamp('2016-02-07 00:00:00'): 522, Timestamp('2016-02-08 00:00:00'): 523, Timestamp('2016-02-09 00:00:00'): 524, Timestamp('2016-02-10 00:00:00'): 525, Timestamp('2016-02-11 00:00:00'): 526, Timestamp('2016-02-12 00:00:00'): 527, Timestamp('2016-02-15 00:00:00'): 528, Timestamp('2016-02-16 00:00:00'): 529, Timestamp('2016-02-17 00:00:00'): 530, Timestamp('2016-02-18 00:00:00'): 531, Timestamp('2016-02-19 00:00:00'): 532, Timestamp('2016-02-20 00:00:00'): 533, Timestamp('2016-02-22 00:00:00'): 534, Timestamp('2016-02-23 00:00:00'): 535, Timestamp('2016-02-24 00:00:00'): 536, Timestamp('2016-02-25 00:00:00'): 537, Timestamp('2016-02-26 00:00:00'): 538, Timestamp('2016-02-27 00:00:00'): 539, Timestamp('2016-02-29 00:00:00'): 540, Timestamp('2016-03-01 00:00:00'): 541, Timestamp('2016-03-02 00:00:00'): 542, Timestamp('2016-03-03 00:00:00'): 543, Timestamp('2016-03-04 00:00:00'): 544, Timestamp('2016-03-05 00:00:00'): 545, Timestamp('2016-03-07 00:00:00'): 546, Timestamp('2016-03-08 00:00:00'): 547, Timestamp('2016-03-10 00:00:00'): 548, Timestamp('2016-03-11 00:00:00'): 549, Timestamp('2016-03-12 00:00:00'): 550, Timestamp('2016-03-14 00:00:00'): 551, Timestamp('2016-03-15 00:00:00'): 552, Timestamp('2016-03-16 00:00:00'): 553, Timestamp('2016-03-17 00:00:00'): 554, Timestamp('2016-03-18 00:00:00'): 555, Timestamp('2016-03-19 00:00:00'): 556, Timestamp('2016-03-20 00:00:00'): 557, Timestamp('2016-03-21 00:00:00'): 558, Timestamp('2016-03-22 00:00:00'): 559, Timestamp('2016-03-23 00:00:00'): 560, Timestamp('2016-03-24 00:00:00'): 561, Timestamp('2016-03-25 00:00:00'): 562, Timestamp('2016-03-28 00:00:00'): 563, Timestamp('2016-03-29 00:00:00'): 564, Timestamp('2016-03-30 00:00:00'): 565, Timestamp('2016-03-31 00:00:00'): 566, Timestamp('2016-04-01 00:00:00'): 567, Timestamp('2016-04-02 00:00:00'): 568, Timestamp('2016-04-03 00:00:00'): 569, Timestamp('2016-04-04 00:00:00'): 570, Timestamp('2016-04-05 00:00:00'): 571, Timestamp('2016-04-06 00:00:00'): 572, Timestamp('2016-04-07 00:00:00'): 573, Timestamp('2016-04-08 00:00:00'): 574, Timestamp('2016-04-10 00:00:00'): 575, Timestamp('2016-04-11 00:00:00'): 576, Timestamp('2016-04-12 00:00:00'): 577, Timestamp('2016-04-13 00:00:00'): 578, Timestamp('2016-04-14 00:00:00'): 579, Timestamp('2016-04-15 00:00:00'): 580, Timestamp('2016-04-17 00:00:00'): 581, Timestamp('2016-04-19 00:00:00'): 582, Timestamp('2016-04-20 00:00:00'): 583, Timestamp('2016-04-21 00:00:00'): 584, Timestamp('2016-04-22 00:00:00'): 585, Timestamp('2016-04-23 00:00:00'): 586, Timestamp('2016-04-24 00:00:00'): 587, Timestamp('2016-04-25 00:00:00'): 588, Timestamp('2016-04-27 00:00:00'): 589, Timestamp('2016-04-28 00:00:00'): 590, Timestamp('2016-04-29 00:00:00'): 591, Timestamp('2016-04-30 00:00:00'): 592, Timestamp('2016-05-01 00:00:00'): 593, Timestamp('2016-05-02 00:00:00'): 594, Timestamp('2016-05-03 00:00:00'): 595, Timestamp('2016-05-04 00:00:00'): 596, Timestamp('2016-05-05 00:00:00'): 597, Timestamp('2016-05-07 00:00:00'): 598, Timestamp('2016-05-09 00:00:00'): 599, Timestamp('2016-05-10 00:00:00'): 600, Timestamp('2016-05-11 00:00:00'): 601, Timestamp('2016-05-12 00:00:00'): 602, Timestamp('2016-05-13 00:00:00'): 603, Timestamp('2016-05-14 00:00:00'): 604, Timestamp('2016-05-15 00:00:00'): 605, Timestamp('2016-05-16 00:00:00'): 606, Timestamp('2016-05-17 00:00:00'): 607, Timestamp('2016-05-18 00:00:00'): 608, Timestamp('2016-05-19 00:00:00'): 609, Timestamp('2016-05-22 00:00:00'): 610, Timestamp('2016-05-23 00:00:00'): 611, Timestamp('2016-05-25 00:00:00'): 612, Timestamp('2016-05-26 00:00:00'): 613, Timestamp('2016-05-27 00:00:00'): 614, Timestamp('2016-05-29 00:00:00'): 615, Timestamp('2016-05-30 00:00:00'): 616, Timestamp('2016-05-31 00:00:00'): 617, Timestamp('2016-06-01 00:00:00'): 618, Timestamp('2016-06-02 00:00:00'): 619, Timestamp('2016-06-03 00:00:00'): 620, Timestamp('2016-06-06 00:00:00'): 621, Timestamp('2016-06-07 00:00:00'): 622, Timestamp('2016-06-08 00:00:00'): 623, Timestamp('2016-06-09 00:00:00'): 624, Timestamp('2016-06-10 00:00:00'): 625, Timestamp('2016-06-11 00:00:00'): 626, Timestamp('2016-06-13 00:00:00'): 627, Timestamp('2016-06-14 00:00:00'): 628, Timestamp('2016-06-15 00:00:00'): 629, Timestamp('2016-06-16 00:00:00'): 630, Timestamp('2016-06-17 00:00:00'): 631, Timestamp('2016-06-18 00:00:00'): 632, Timestamp('2016-06-19 00:00:00'): 633, Timestamp('2016-06-20 00:00:00'): 634, Timestamp('2016-06-21 00:00:00'): 635, Timestamp('2016-06-22 00:00:00'): 636, Timestamp('2016-06-23 00:00:00'): 637, Timestamp('2016-06-24 00:00:00'): 638, Timestamp('2016-06-25 00:00:00'): 639, Timestamp('2016-06-27 00:00:00'): 640, Timestamp('2016-06-28 00:00:00'): 641, Timestamp('2016-06-29 00:00:00'): 642, Timestamp('2016-06-30 00:00:00'): 643, Timestamp('2016-07-01 00:00:00'): 644, Timestamp('2016-07-04 00:00:00'): 645, Timestamp('2016-07-05 00:00:00'): 646, Timestamp('2016-07-07 00:00:00'): 647, Timestamp('2016-07-08 00:00:00'): 648, Timestamp('2016-07-09 00:00:00'): 649, Timestamp('2016-07-10 00:00:00'): 650, Timestamp('2016-07-11 00:00:00'): 651, Timestamp('2016-07-12 00:00:00'): 652, Timestamp('2016-07-13 00:00:00'): 653, Timestamp('2016-07-14 00:00:00'): 654, Timestamp('2016-07-15 00:00:00'): 655, Timestamp('2016-07-16 00:00:00'): 656, Timestamp('2016-07-18 00:00:00'): 657, Timestamp('2016-07-19 00:00:00'): 658, Timestamp('2016-07-20 00:00:00'): 659, Timestamp('2016-07-21 00:00:00'): 660, Timestamp('2016-07-22 00:00:00'): 661, Timestamp('2016-07-23 00:00:00'): 662, Timestamp('2016-07-24 00:00:00'): 663, Timestamp('2016-07-25 00:00:00'): 664, Timestamp('2016-07-26 00:00:00'): 665, Timestamp('2016-07-27 00:00:00'): 666, Timestamp('2016-07-28 00:00:00'): 667, Timestamp('2016-07-29 00:00:00'): 668, Timestamp('2016-07-30 00:00:00'): 669, Timestamp('2016-07-31 00:00:00'): 670, Timestamp('2016-08-02 00:00:00'): 671, Timestamp('2016-08-03 00:00:00'): 672, Timestamp('2016-08-04 00:00:00'): 673, Timestamp('2016-08-05 00:00:00'): 674, Timestamp('2016-08-06 00:00:00'): 675, Timestamp('2016-08-07 00:00:00'): 676, Timestamp('2016-08-08 00:00:00'): 677, Timestamp('2016-08-09 00:00:00'): 678, Timestamp('2016-08-10 00:00:00'): 679, Timestamp('2016-08-12 00:00:00'): 680, Timestamp('2016-08-13 00:00:00'): 681, Timestamp('2016-08-14 00:00:00'): 682, Timestamp('2016-08-15 00:00:00'): 683, Timestamp('2016-08-16 00:00:00'): 684, Timestamp('2016-08-18 00:00:00'): 685, Timestamp('2016-08-19 00:00:00'): 686, Timestamp('2016-08-20 00:00:00'): 687, Timestamp('2016-08-23 00:00:00'): 688, Timestamp('2016-08-24 00:00:00'): 689, Timestamp('2016-08-26 00:00:00'): 690, Timestamp('2016-08-27 00:00:00'): 691, Timestamp('2016-08-28 00:00:00'): 692, Timestamp('2016-08-29 00:00:00'): 693, Timestamp('2016-08-31 00:00:00'): 694, Timestamp('2016-09-01 00:00:00'): 695, Timestamp('2016-09-03 00:00:00'): 696, Timestamp('2016-09-04 00:00:00'): 697, Timestamp('2016-09-05 00:00:00'): 698, Timestamp('2016-09-06 00:00:00'): 699, Timestamp('2016-09-07 00:00:00'): 700, Timestamp('2016-09-08 00:00:00'): 701, Timestamp('2016-09-09 00:00:00'): 702, Timestamp('2016-09-10 00:00:00'): 703, Timestamp('2016-09-11 00:00:00'): 704, Timestamp('2016-09-12 00:00:00'): 705, Timestamp('2016-09-13 00:00:00'): 706, Timestamp('2016-09-14 00:00:00'): 707, Timestamp('2016-09-15 00:00:00'): 708, Timestamp('2016-09-16 00:00:00'): 709, Timestamp('2016-09-17 00:00:00'): 710, Timestamp('2016-09-19 00:00:00'): 711, Timestamp('2016-09-20 00:00:00'): 712, Timestamp('2016-09-21 00:00:00'): 713, Timestamp('2016-09-22 00:00:00'): 714, Timestamp('2016-09-23 00:00:00'): 715, Timestamp('2016-09-26 00:00:00'): 716, Timestamp('2016-09-27 00:00:00'): 717, Timestamp('2016-09-28 00:00:00'): 718, Timestamp('2016-09-29 00:00:00'): 719, Timestamp('2016-09-30 00:00:00'): 720, Timestamp('2016-10-01 00:00:00'): 721, Timestamp('2016-10-02 00:00:00'): 722, Timestamp('2016-10-03 00:00:00'): 723, Timestamp('2016-10-04 00:00:00'): 724, Timestamp('2016-10-05 00:00:00'): 725, Timestamp('2016-10-06 00:00:00'): 726, Timestamp('2016-10-07 00:00:00'): 727, Timestamp('2016-10-08 00:00:00'): 728, Timestamp('2016-10-10 00:00:00'): 729, Timestamp('2016-10-12 00:00:00'): 730, Timestamp('2016-10-13 00:00:00'): 731, Timestamp('2016-10-14 00:00:00'): 732, Timestamp('2016-10-16 00:00:00'): 733, Timestamp('2016-10-17 00:00:00'): 734, Timestamp('2016-10-18 00:00:00'): 735, Timestamp('2016-10-19 00:00:00'): 736, Timestamp('2016-10-20 00:00:00'): 737, Timestamp('2016-10-21 00:00:00'): 738, Timestamp('2016-10-22 00:00:00'): 739, Timestamp('2016-10-23 00:00:00'): 740, Timestamp('2016-10-24 00:00:00'): 741, Timestamp('2016-10-25 00:00:00'): 742, Timestamp('2016-10-26 00:00:00'): 743, Timestamp('2016-10-27 00:00:00'): 744, Timestamp('2016-10-28 00:00:00'): 745, Timestamp('2016-10-30 00:00:00'): 746, Timestamp('2016-10-31 00:00:00'): 747, Timestamp('2016-11-01 00:00:00'): 748, Timestamp('2016-11-02 00:00:00'): 749, Timestamp('2016-11-03 00:00:00'): 750, Timestamp('2016-11-04 00:00:00'): 751, Timestamp('2016-11-05 00:00:00'): 752, Timestamp('2016-11-06 00:00:00'): 753, Timestamp('2016-11-07 00:00:00'): 754, Timestamp('2016-11-08 00:00:00'): 755, Timestamp('2016-11-09 00:00:00'): 756, Timestamp('2016-11-10 00:00:00'): 757, Timestamp('2016-11-11 00:00:00'): 758, Timestamp('2016-11-14 00:00:00'): 759, Timestamp('2016-11-15 00:00:00'): 760, Timestamp('2016-11-16 00:00:00'): 761, Timestamp('2016-11-17 00:00:00'): 762, Timestamp('2016-11-18 00:00:00'): 763, Timestamp('2016-11-19 00:00:00'): 764, Timestamp('2016-11-20 00:00:00'): 765, Timestamp('2016-11-21 00:00:00'): 766, Timestamp('2016-11-22 00:00:00'): 767, Timestamp('2016-11-23 00:00:00'): 768, Timestamp('2016-11-24 00:00:00'): 769, Timestamp('2016-11-25 00:00:00'): 770, Timestamp('2016-11-26 00:00:00'): 771, Timestamp('2016-11-28 00:00:00'): 772, Timestamp('2016-11-29 00:00:00'): 773, Timestamp('2016-11-30 00:00:00'): 774, Timestamp('2016-12-01 00:00:00'): 775, Timestamp('2016-12-02 00:00:00'): 776, Timestamp('2016-12-03 00:00:00'): 777, Timestamp('2016-12-04 00:00:00'): 778, Timestamp('2016-12-05 00:00:00'): 779, Timestamp('2016-12-06 00:00:00'): 780, Timestamp('2016-12-07 00:00:00'): 781, Timestamp('2016-12-08 00:00:00'): 782, Timestamp('2016-12-09 00:00:00'): 783, Timestamp('2016-12-10 00:00:00'): 784, Timestamp('2016-12-11 00:00:00'): 785, Timestamp('2016-12-12 00:00:00'): 786, Timestamp('2016-12-13 00:00:00'): 787, Timestamp('2016-12-14 00:00:00'): 788, Timestamp('2016-12-15 00:00:00'): 789, Timestamp('2016-12-16 00:00:00'): 790, Timestamp('2016-12-17 00:00:00'): 791, Timestamp('2016-12-18 00:00:00'): 792, Timestamp('2016-12-19 00:00:00'): 793, Timestamp('2016-12-20 00:00:00'): 794, Timestamp('2016-12-21 00:00:00'): 795, Timestamp('2016-12-22 00:00:00'): 796, Timestamp('2016-12-23 00:00:00'): 797, Timestamp('2016-12-24 00:00:00'): 798, Timestamp('2016-12-25 00:00:00'): 799, Timestamp('2016-12-26 00:00:00'): 800, Timestamp('2016-12-29 00:00:00'): 801, Timestamp('2016-12-30 00:00:00'): 802, Timestamp('2016-12-31 00:00:00'): 803, Timestamp('2017-01-02 00:00:00'): 804, Timestamp('2017-01-03 00:00:00'): 805, Timestamp('2017-01-04 00:00:00'): 806, Timestamp('2017-01-05 00:00:00'): 807, Timestamp('2017-01-06 00:00:00'): 808, Timestamp('2017-01-07 00:00:00'): 809, Timestamp('2017-01-08 00:00:00'): 810, Timestamp('2017-01-09 00:00:00'): 811, Timestamp('2017-01-10 00:00:00'): 812, Timestamp('2017-01-11 00:00:00'): 813, Timestamp('2017-01-12 00:00:00'): 814, Timestamp('2017-01-13 00:00:00'): 815, Timestamp('2017-01-14 00:00:00'): 816, Timestamp('2017-01-15 00:00:00'): 817, Timestamp('2017-01-16 00:00:00'): 818, Timestamp('2017-01-17 00:00:00'): 819, Timestamp('2017-01-18 00:00:00'): 820, Timestamp('2017-01-19 00:00:00'): 821, Timestamp('2017-01-20 00:00:00'): 822, Timestamp('2017-01-21 00:00:00'): 823, Timestamp('2017-01-22 00:00:00'): 824, Timestamp('2017-01-23 00:00:00'): 825, Timestamp('2017-01-24 00:00:00'): 826, Timestamp('2017-01-25 00:00:00'): 827, Timestamp('2017-01-26 00:00:00'): 828, Timestamp('2017-01-27 00:00:00'): 829, Timestamp('2017-01-28 00:00:00'): 830, Timestamp('2017-01-29 00:00:00'): 831, Timestamp('2017-01-30 00:00:00'): 832, Timestamp('2017-01-31 00:00:00'): 833, Timestamp('2017-02-01 00:00:00'): 834, Timestamp('2017-02-02 00:00:00'): 835, Timestamp('2017-02-03 00:00:00'): 836, Timestamp('2017-02-04 00:00:00'): 837, Timestamp('2017-02-05 00:00:00'): 838, Timestamp('2017-02-06 00:00:00'): 839, Timestamp('2017-02-07 00:00:00'): 840, Timestamp('2017-02-08 00:00:00'): 841, Timestamp('2017-02-09 00:00:00'): 842, Timestamp('2017-02-10 00:00:00'): 843, Timestamp('2017-02-11 00:00:00'): 844, Timestamp('2017-02-12 00:00:00'): 845, Timestamp('2017-02-13 00:00:00'): 846, Timestamp('2017-02-14 00:00:00'): 847, Timestamp('2017-02-15 00:00:00'): 848, Timestamp('2017-02-16 00:00:00'): 849, Timestamp('2017-02-17 00:00:00'): 850, Timestamp('2017-02-18 00:00:00'): 851, Timestamp('2017-02-20 00:00:00'): 852, Timestamp('2017-02-21 00:00:00'): 853, Timestamp('2017-02-22 00:00:00'): 854, Timestamp('2017-02-23 00:00:00'): 855, Timestamp('2017-02-24 00:00:00'): 856, Timestamp('2017-02-25 00:00:00'): 857, Timestamp('2017-02-26 00:00:00'): 858, Timestamp('2017-02-27 00:00:00'): 859, Timestamp('2017-02-28 00:00:00'): 860, Timestamp('2017-03-01 00:00:00'): 861, Timestamp('2017-03-02 00:00:00'): 862, Timestamp('2017-03-03 00:00:00'): 863, Timestamp('2017-03-04 00:00:00'): 864, Timestamp('2017-03-05 00:00:00'): 865, Timestamp('2017-03-06 00:00:00'): 866, Timestamp('2017-03-07 00:00:00'): 867, Timestamp('2017-03-08 00:00:00'): 868, Timestamp('2017-03-09 00:00:00'): 869, Timestamp('2017-03-10 00:00:00'): 870, Timestamp('2017-03-11 00:00:00'): 871, Timestamp('2017-03-12 00:00:00'): 872, Timestamp('2017-03-13 00:00:00'): 873, Timestamp('2017-03-14 00:00:00'): 874, Timestamp('2017-03-15 00:00:00'): 875, Timestamp('2017-03-16 00:00:00'): 876, Timestamp('2017-03-17 00:00:00'): 877, Timestamp('2017-03-19 00:00:00'): 878, Timestamp('2017-03-20 00:00:00'): 879, Timestamp('2017-03-21 00:00:00'): 880, Timestamp('2017-03-22 00:00:00'): 881, Timestamp('2017-03-23 00:00:00'): 882, Timestamp('2017-03-24 00:00:00'): 883, Timestamp('2017-03-25 00:00:00'): 884, Timestamp('2017-03-26 00:00:00'): 885, Timestamp('2017-03-27 00:00:00'): 886, Timestamp('2017-03-28 00:00:00'): 887, Timestamp('2017-03-29 00:00:00'): 888, Timestamp('2017-03-30 00:00:00'): 889, Timestamp('2017-03-31 00:00:00'): 890, Timestamp('2017-04-01 00:00:00'): 891, Timestamp('2017-04-02 00:00:00'): 892, Timestamp('2017-04-03 00:00:00'): 893, Timestamp('2017-04-04 00:00:00'): 894, Timestamp('2017-04-05 00:00:00'): 895, Timestamp('2017-04-06 00:00:00'): 896, Timestamp('2017-04-08 00:00:00'): 897, Timestamp('2017-04-10 00:00:00'): 898, Timestamp('2017-04-11 00:00:00'): 899, Timestamp('2017-04-12 00:00:00'): 900, Timestamp('2017-04-13 00:00:00'): 901, Timestamp('2017-04-14 00:00:00'): 902, Timestamp('2017-04-15 00:00:00'): 903, Timestamp('2017-04-16 00:00:00'): 904, Timestamp('2017-04-17 00:00:00'): 905, Timestamp('2017-04-18 00:00:00'): 906, Timestamp('2017-04-19 00:00:00'): 907, Timestamp('2017-04-20 00:00:00'): 908, Timestamp('2017-04-21 00:00:00'): 909, Timestamp('2017-04-22 00:00:00'): 910, Timestamp('2017-04-23 00:00:00'): 911, Timestamp('2017-04-24 00:00:00'): 912, Timestamp('2017-04-25 00:00:00'): 913, Timestamp('2017-04-26 00:00:00'): 914, Timestamp('2017-04-27 00:00:00'): 915, Timestamp('2017-04-28 00:00:00'): 916, Timestamp('2017-04-29 00:00:00'): 917, Timestamp('2017-04-30 00:00:00'): 918, Timestamp('2017-05-01 00:00:00'): 919, Timestamp('2017-05-02 00:00:00'): 920, Timestamp('2017-05-03 00:00:00'): 921, Timestamp('2017-05-04 00:00:00'): 922, Timestamp('2017-05-05 00:00:00'): 923, Timestamp('2017-05-08 00:00:00'): 924, Timestamp('2017-05-09 00:00:00'): 925, Timestamp('2017-05-10 00:00:00'): 926, Timestamp('2017-05-11 00:00:00'): 927, Timestamp('2017-05-12 00:00:00'): 928, Timestamp('2017-05-13 00:00:00'): 929, Timestamp('2017-05-14 00:00:00'): 930, Timestamp('2017-05-15 00:00:00'): 931, Timestamp('2017-05-16 00:00:00'): 932, Timestamp('2017-05-17 00:00:00'): 933, Timestamp('2017-05-18 00:00:00'): 934, Timestamp('2017-05-19 00:00:00'): 935, Timestamp('2017-05-20 00:00:00'): 936, Timestamp('2017-05-22 00:00:00'): 937, Timestamp('2017-05-23 00:00:00'): 938, Timestamp('2017-05-24 00:00:00'): 939, Timestamp('2017-05-25 00:00:00'): 940, Timestamp('2017-05-26 00:00:00'): 941, Timestamp('2017-05-27 00:00:00'): 942, Timestamp('2017-05-29 00:00:00'): 943, Timestamp('2017-05-30 00:00:00'): 944, Timestamp('2017-05-31 00:00:00'): 945, Timestamp('2017-06-01 00:00:00'): 946, Timestamp('2017-06-02 00:00:00'): 947, Timestamp('2017-06-03 00:00:00'): 948, Timestamp('2017-06-04 00:00:00'): 949, Timestamp('2017-06-05 00:00:00'): 950, Timestamp('2017-06-06 00:00:00'): 951, Timestamp('2017-06-07 00:00:00'): 952, Timestamp('2017-06-08 00:00:00'): 953, Timestamp('2017-06-09 00:00:00'): 954, Timestamp('2017-06-10 00:00:00'): 955, Timestamp('2017-06-11 00:00:00'): 956, Timestamp('2017-06-12 00:00:00'): 957, Timestamp('2017-06-13 00:00:00'): 958, Timestamp('2017-06-14 00:00:00'): 959, Timestamp('2017-06-15 00:00:00'): 960, Timestamp('2017-06-16 00:00:00'): 961, Timestamp('2017-06-17 00:00:00'): 962, Timestamp('2017-06-18 00:00:00'): 963, Timestamp('2017-06-19 00:00:00'): 964, Timestamp('2017-06-20 00:00:00'): 965, Timestamp('2017-06-21 00:00:00'): 966, Timestamp('2017-06-22 00:00:00'): 967, Timestamp('2017-06-23 00:00:00'): 968, Timestamp('2017-06-24 00:00:00'): 969, Timestamp('2017-06-25 00:00:00'): 970, Timestamp('2017-06-26 00:00:00'): 971, Timestamp('2017-06-27 00:00:00'): 972, Timestamp('2017-06-28 00:00:00'): 973, Timestamp('2017-06-29 00:00:00'): 974, Timestamp('2017-06-30 00:00:00'): 975, Timestamp('2017-07-01 00:00:00'): 976, Timestamp('2017-07-02 00:00:00'): 977, Timestamp('2017-07-03 00:00:00'): 978, Timestamp('2017-07-04 00:00:00'): 979, Timestamp('2017-07-05 00:00:00'): 980, Timestamp('2017-07-06 00:00:00'): 981, Timestamp('2017-07-07 00:00:00'): 982, Timestamp('2017-07-08 00:00:00'): 983, Timestamp('2017-07-09 00:00:00'): 984, Timestamp('2017-07-10 00:00:00'): 985, Timestamp('2017-07-11 00:00:00'): 986, Timestamp('2017-07-12 00:00:00'): 987, Timestamp('2017-07-13 00:00:00'): 988, Timestamp('2017-07-14 00:00:00'): 989, Timestamp('2017-07-15 00:00:00'): 990, Timestamp('2017-07-16 00:00:00'): 991, Timestamp('2017-07-17 00:00:00'): 992, Timestamp('2017-07-18 00:00:00'): 993, Timestamp('2017-07-19 00:00:00'): 994, Timestamp('2017-07-20 00:00:00'): 995, Timestamp('2017-07-21 00:00:00'): 996, Timestamp('2017-07-22 00:00:00'): 997, Timestamp('2017-07-23 00:00:00'): 998, Timestamp('2017-07-24 00:00:00'): 999, Timestamp('2017-07-25 00:00:00'): 1000, Timestamp('2017-07-26 00:00:00'): 1001, Timestamp('2017-07-27 00:00:00'): 1002, Timestamp('2017-07-28 00:00:00'): 1003, Timestamp('2017-07-29 00:00:00'): 1004, Timestamp('2017-07-30 00:00:00'): 1005, Timestamp('2017-07-31 00:00:00'): 1006, Timestamp('2017-08-01 00:00:00'): 1007, Timestamp('2017-08-02 00:00:00'): 1008, Timestamp('2017-08-03 00:00:00'): 1009, Timestamp('2017-08-04 00:00:00'): 1010, Timestamp('2017-08-05 00:00:00'): 1011, Timestamp('2017-08-06 00:00:00'): 1012, Timestamp('2017-08-07 00:00:00'): 1013, Timestamp('2017-08-08 00:00:00'): 1014, Timestamp('2017-08-09 00:00:00'): 1015, Timestamp('2017-08-10 00:00:00'): 1016, Timestamp('2017-08-11 00:00:00'): 1017, Timestamp('2017-08-12 00:00:00'): 1018, Timestamp('2017-08-13 00:00:00'): 1019, Timestamp('2017-08-14 00:00:00'): 1020, Timestamp('2017-08-15 00:00:00'): 1021, Timestamp('2017-08-16 00:00:00'): 1022, Timestamp('2017-08-17 00:00:00'): 1023, Timestamp('2017-08-18 00:00:00'): 1024, Timestamp('2017-08-19 00:00:00'): 1025, Timestamp('2017-08-20 00:00:00'): 1026, Timestamp('2017-08-21 00:00:00'): 1027, Timestamp('2017-08-22 00:00:00'): 1028, Timestamp('2017-08-23 00:00:00'): 1029, Timestamp('2017-08-24 00:00:00'): 1030, Timestamp('2017-08-25 00:00:00'): 1031, Timestamp('2017-08-26 00:00:00'): 1032, Timestamp('2017-08-27 00:00:00'): 1033, Timestamp('2017-08-28 00:00:00'): 1034, Timestamp('2017-08-29 00:00:00'): 1035, Timestamp('2017-08-30 00:00:00'): 1036, Timestamp('2017-08-31 00:00:00'): 1037, Timestamp('2017-09-01 00:00:00'): 1038, Timestamp('2017-09-02 00:00:00'): 1039, Timestamp('2017-09-03 00:00:00'): 1040, Timestamp('2017-09-04 00:00:00'): 1041, Timestamp('2017-09-05 00:00:00'): 1042, Timestamp('2017-09-06 00:00:00'): 1043, Timestamp('2017-09-07 00:00:00'): 1044, Timestamp('2017-09-08 00:00:00'): 1045, Timestamp('2017-09-09 00:00:00'): 1046, Timestamp('2017-09-10 00:00:00'): 1047, Timestamp('2017-09-11 00:00:00'): 1048, Timestamp('2017-09-12 00:00:00'): 1049, Timestamp('2017-09-13 00:00:00'): 1050, Timestamp('2017-09-14 00:00:00'): 1051, Timestamp('2017-09-15 00:00:00'): 1052, Timestamp('2017-09-17 00:00:00'): 1053, Timestamp('2017-09-18 00:00:00'): 1054, Timestamp('2017-09-19 00:00:00'): 1055, Timestamp('2017-09-20 00:00:00'): 1056, Timestamp('2017-09-21 00:00:00'): 1057, Timestamp('2017-09-22 00:00:00'): 1058, Timestamp('2017-09-23 00:00:00'): 1059, Timestamp('2017-09-24 00:00:00'): 1060, Timestamp('2017-09-25 00:00:00'): 1061, Timestamp('2017-09-26 00:00:00'): 1062, Timestamp('2017-09-27 00:00:00'): 1063, Timestamp('2017-09-28 00:00:00'): 1064, Timestamp('2017-09-29 00:00:00'): 1065, Timestamp('2017-09-30 00:00:00'): 1066, Timestamp('2017-10-01 00:00:00'): 1067, Timestamp('2017-10-02 00:00:00'): 1068, Timestamp('2017-10-03 00:00:00'): 1069, Timestamp('2017-10-04 00:00:00'): 1070, Timestamp('2017-10-05 00:00:00'): 1071, Timestamp('2017-10-06 00:00:00'): 1072, Timestamp('2017-10-07 00:00:00'): 1073, Timestamp('2017-10-09 00:00:00'): 1074, Timestamp('2017-10-10 00:00:00'): 1075, Timestamp('2017-10-11 00:00:00'): 1076, Timestamp('2017-10-12 00:00:00'): 1077, Timestamp('2017-10-13 00:00:00'): 1078, Timestamp('2017-10-14 00:00:00'): 1079, Timestamp('2017-10-15 00:00:00'): 1080, Timestamp('2017-10-16 00:00:00'): 1081, Timestamp('2017-10-17 00:00:00'): 1082, Timestamp('2017-10-18 00:00:00'): 1083, Timestamp('2017-10-19 00:00:00'): 1084, Timestamp('2017-10-20 00:00:00'): 1085, Timestamp('2017-10-21 00:00:00'): 1086, Timestamp('2017-10-22 00:00:00'): 1087, Timestamp('2017-10-23 00:00:00'): 1088, Timestamp('2017-10-24 00:00:00'): 1089, Timestamp('2017-10-25 00:00:00'): 1090, Timestamp('2017-10-26 00:00:00'): 1091, Timestamp('2017-10-27 00:00:00'): 1092, Timestamp('2017-10-28 00:00:00'): 1093, Timestamp('2017-10-29 00:00:00'): 1094, Timestamp('2017-10-30 00:00:00'): 1095, Timestamp('2017-10-31 00:00:00'): 1096, Timestamp('2017-11-01 00:00:00'): 1097, Timestamp('2017-11-02 00:00:00'): 1098, Timestamp('2017-11-03 00:00:00'): 1099, Timestamp('2017-11-04 00:00:00'): 1100, Timestamp('2017-11-05 00:00:00'): 1101, Timestamp('2017-11-06 00:00:00'): 1102, Timestamp('2017-11-07 00:00:00'): 1103, Timestamp('2017-11-08 00:00:00'): 1104, Timestamp('2017-11-09 00:00:00'): 1105, Timestamp('2017-11-10 00:00:00'): 1106, Timestamp('2017-11-11 00:00:00'): 1107, Timestamp('2017-11-12 00:00:00'): 1108, Timestamp('2017-11-13 00:00:00'): 1109, Timestamp('2017-11-14 00:00:00'): 1110, Timestamp('2017-11-15 00:00:00'): 1111, Timestamp('2017-11-16 00:00:00'): 1112, Timestamp('2017-11-17 00:00:00'): 1113, Timestamp('2017-11-18 00:00:00'): 1114, Timestamp('2017-11-19 00:00:00'): 1115, Timestamp('2017-11-20 00:00:00'): 1116, Timestamp('2017-11-21 00:00:00'): 1117, Timestamp('2017-11-22 00:00:00'): 1118, Timestamp('2017-11-23 00:00:00'): 1119, Timestamp('2017-11-24 00:00:00'): 1120, Timestamp('2017-11-25 00:00:00'): 1121, Timestamp('2017-11-26 00:00:00'): 1122, Timestamp('2017-11-27 00:00:00'): 1123, Timestamp('2017-11-28 00:00:00'): 1124, Timestamp('2017-11-29 00:00:00'): 1125, Timestamp('2017-11-30 00:00:00'): 1126, Timestamp('2017-12-01 00:00:00'): 1127, Timestamp('2017-12-02 00:00:00'): 1128, Timestamp('2017-12-03 00:00:00'): 1129, Timestamp('2017-12-04 00:00:00'): 1130, Timestamp('2017-12-05 00:00:00'): 1131, Timestamp('2017-12-06 00:00:00'): 1132, Timestamp('2017-12-07 00:00:00'): 1133, Timestamp('2017-12-08 00:00:00'): 1134, Timestamp('2017-12-09 00:00:00'): 1135, Timestamp('2017-12-10 00:00:00'): 1136, Timestamp('2017-12-11 00:00:00'): 1137, Timestamp('2017-12-12 00:00:00'): 1138, Timestamp('2017-12-13 00:00:00'): 1139, Timestamp('2017-12-14 00:00:00'): 1140, Timestamp('2017-12-15 00:00:00'): 1141, Timestamp('2017-12-16 00:00:00'): 1142, Timestamp('2017-12-17 00:00:00'): 1143, Timestamp('2017-12-18 00:00:00'): 1144, Timestamp('2017-12-19 00:00:00'): 1145, Timestamp('2017-12-20 00:00:00'): 1146, Timestamp('2017-12-21 00:00:00'): 1147, Timestamp('2017-12-22 00:00:00'): 1148, Timestamp('2017-12-23 00:00:00'): 1149, Timestamp('2017-12-24 00:00:00'): 1150, Timestamp('2017-12-25 00:00:00'): 1151, Timestamp('2017-12-26 00:00:00'): 1152, Timestamp('2017-12-27 00:00:00'): 1153, Timestamp('2017-12-28 00:00:00'): 1154, Timestamp('2017-12-29 00:00:00'): 1155, Timestamp('2017-12-30 00:00:00'): 1156, Timestamp('2017-12-31 00:00:00'): 1157, Timestamp('2018-01-01 00:00:00'): 1158, Timestamp('2018-01-02 00:00:00'): 1159, Timestamp('2018-01-03 00:00:00'): 1160, Timestamp('2018-01-04 00:00:00'): 1161, Timestamp('2018-01-05 00:00:00'): 1162, Timestamp('2018-01-06 00:00:00'): 1163, Timestamp('2018-01-07 00:00:00'): 1164, Timestamp('2018-01-08 00:00:00'): 1165, Timestamp('2018-01-09 00:00:00'): 1166, Timestamp('2018-01-10 00:00:00'): 1167, Timestamp('2018-01-11 00:00:00'): 1168, Timestamp('2018-01-12 00:00:00'): 1169, Timestamp('2018-01-13 00:00:00'): 1170, Timestamp('2018-01-14 00:00:00'): 1171, Timestamp('2018-01-15 00:00:00'): 1172, Timestamp('2018-01-16 00:00:00'): 1173, Timestamp('2018-01-17 00:00:00'): 1174, Timestamp('2018-01-18 00:00:00'): 1175, Timestamp('2018-01-19 00:00:00'): 1176, Timestamp('2018-01-20 00:00:00'): 1177, Timestamp('2018-01-21 00:00:00'): 1178, Timestamp('2018-01-22 00:00:00'): 1179, Timestamp('2018-01-23 00:00:00'): 1180, Timestamp('2018-01-24 00:00:00'): 1181, Timestamp('2018-01-25 00:00:00'): 1182, Timestamp('2018-01-26 00:00:00'): 1183, Timestamp('2018-01-27 00:00:00'): 1184, Timestamp('2018-01-28 00:00:00'): 1185, Timestamp('2018-01-29 00:00:00'): 1186, Timestamp('2018-01-30 00:00:00'): 1187, Timestamp('2018-01-31 00:00:00'): 1188, Timestamp('2018-02-01 00:00:00'): 1189, Timestamp('2018-02-02 00:00:00'): 1190, Timestamp('2018-02-03 00:00:00'): 1191, Timestamp('2018-02-04 00:00:00'): 1192, Timestamp('2018-02-05 00:00:00'): 1193, Timestamp('2018-02-06 00:00:00'): 1194, Timestamp('2018-02-07 00:00:00'): 1195, Timestamp('2018-02-08 00:00:00'): 1196, Timestamp('2018-02-09 00:00:00'): 1197, Timestamp('2018-02-10 00:00:00'): 1198, Timestamp('2018-02-11 00:00:00'): 1199, Timestamp('2018-02-12 00:00:00'): 1200, Timestamp('2018-02-13 00:00:00'): 1201, Timestamp('2018-02-14 00:00:00'): 1202, Timestamp('2018-02-15 00:00:00'): 1203, Timestamp('2018-02-16 00:00:00'): 1204, Timestamp('2018-02-17 00:00:00'): 1205, Timestamp('2018-02-18 00:00:00'): 1206, Timestamp('2018-02-19 00:00:00'): 1207, Timestamp('2018-02-20 00:00:00'): 1208, Timestamp('2018-02-21 00:00:00'): 1209, Timestamp('2018-02-22 00:00:00'): 1210, Timestamp('2018-02-23 00:00:00'): 1211, Timestamp('2018-02-24 00:00:00'): 1212, Timestamp('2018-02-25 00:00:00'): 1213, Timestamp('2018-02-26 00:00:00'): 1214, Timestamp('2018-02-27 00:00:00'): 1215, Timestamp('2018-02-28 00:00:00'): 1216, Timestamp('2018-03-01 00:00:00'): 1217, Timestamp('2018-03-02 00:00:00'): 1218, Timestamp('2018-03-03 00:00:00'): 1219, Timestamp('2018-03-04 00:00:00'): 1220, Timestamp('2018-03-05 00:00:00'): 1221, Timestamp('2018-03-06 00:00:00'): 1222, Timestamp('2018-03-07 00:00:00'): 1223, Timestamp('2018-03-08 00:00:00'): 1224, Timestamp('2018-03-09 00:00:00'): 1225, Timestamp('2018-03-10 00:00:00'): 1226, Timestamp('2018-03-11 00:00:00'): 1227, Timestamp('2018-03-12 00:00:00'): 1228, Timestamp('2018-03-13 00:00:00'): 1229, Timestamp('2018-03-14 00:00:00'): 1230, Timestamp('2018-03-15 00:00:00'): 1231, Timestamp('2018-03-16 00:00:00'): 1232, Timestamp('2018-03-17 00:00:00'): 1233, Timestamp('2018-03-18 00:00:00'): 1234, Timestamp('2018-03-19 00:00:00'): 1235, Timestamp('2018-03-20 00:00:00'): 1236, Timestamp('2018-03-21 00:00:00'): 1237, Timestamp('2018-03-22 00:00:00'): 1238, Timestamp('2018-03-23 00:00:00'): 1239, Timestamp('2018-03-24 00:00:00'): 1240, Timestamp('2018-03-25 00:00:00'): 1241, Timestamp('2018-03-26 00:00:00'): 1242, Timestamp('2018-03-27 00:00:00'): 1243, Timestamp('2018-03-28 00:00:00'): 1244, Timestamp('2018-03-29 00:00:00'): 1245, Timestamp('2018-03-30 00:00:00'): 1246, Timestamp('2018-03-31 00:00:00'): 1247, Timestamp('2018-04-01 00:00:00'): 1248, Timestamp('2018-04-02 00:00:00'): 1249, Timestamp('2018-04-03 00:00:00'): 1250, Timestamp('2018-04-04 00:00:00'): 1251, Timestamp('2018-04-05 00:00:00'): 1252, Timestamp('2018-04-06 00:00:00'): 1253, Timestamp('2018-04-07 00:00:00'): 1254, Timestamp('2018-04-08 00:00:00'): 1255, Timestamp('2018-04-09 00:00:00'): 1256, Timestamp('2018-04-10 00:00:00'): 1257, Timestamp('2018-04-11 00:00:00'): 1258, Timestamp('2018-04-12 00:00:00'): 1259, Timestamp('2018-04-13 00:00:00'): 1260, Timestamp('2018-04-14 00:00:00'): 1261, Timestamp('2018-04-15 00:00:00'): 1262, Timestamp('2018-04-16 00:00:00'): 1263, Timestamp('2018-04-17 00:00:00'): 1264, Timestamp('2018-04-18 00:00:00'): 1265, Timestamp('2018-04-19 00:00:00'): 1266, Timestamp('2018-04-20 00:00:00'): 1267, Timestamp('2018-04-21 00:00:00'): 1268, Timestamp('2018-04-22 00:00:00'): 1269, Timestamp('2018-04-23 00:00:00'): 1270, Timestamp('2018-04-24 00:00:00'): 1271, Timestamp('2018-04-25 00:00:00'): 1272, Timestamp('2018-04-26 00:00:00'): 1273, Timestamp('2018-04-27 00:00:00'): 1274, Timestamp('2018-04-28 00:00:00'): 1275, Timestamp('2018-04-29 00:00:00'): 1276, Timestamp('2018-04-30 00:00:00'): 1277, Timestamp('2018-05-01 00:00:00'): 1278, Timestamp('2018-05-02 00:00:00'): 1279, Timestamp('2018-05-03 00:00:00'): 1280, Timestamp('2018-05-04 00:00:00'): 1281, Timestamp('2018-05-05 00:00:00'): 1282, Timestamp('2018-05-06 00:00:00'): 1283, Timestamp('2018-05-07 00:00:00'): 1284, Timestamp('2018-05-08 00:00:00'): 1285, Timestamp('2018-05-09 00:00:00'): 1286, Timestamp('2018-05-10 00:00:00'): 1287, Timestamp('2018-05-11 00:00:00'): 1288, Timestamp('2018-05-12 00:00:00'): 1289, Timestamp('2018-05-13 00:00:00'): 1290, Timestamp('2018-05-14 00:00:00'): 1291, Timestamp('2018-05-15 00:00:00'): 1292, Timestamp('2018-05-16 00:00:00'): 1293, Timestamp('2018-05-17 00:00:00'): 1294, Timestamp('2018-05-18 00:00:00'): 1295, Timestamp('2018-05-19 00:00:00'): 1296, Timestamp('2018-05-20 00:00:00'): 1297, Timestamp('2018-05-21 00:00:00'): 1298, Timestamp('2018-05-22 00:00:00'): 1299, Timestamp('2018-05-23 00:00:00'): 1300, Timestamp('2018-05-24 00:00:00'): 1301, Timestamp('2018-05-25 00:00:00'): 1302, Timestamp('2018-05-26 00:00:00'): 1303, Timestamp('2018-05-27 00:00:00'): 1304, Timestamp('2018-05-28 00:00:00'): 1305, Timestamp('2018-05-29 00:00:00'): 1306, Timestamp('2018-05-30 00:00:00'): 1307, Timestamp('2018-05-31 00:00:00'): 1308, Timestamp('2018-06-01 00:00:00'): 1309, Timestamp('2018-06-02 00:00:00'): 1310, Timestamp('2018-06-03 00:00:00'): 1311, Timestamp('2018-06-04 00:00:00'): 1312, Timestamp('2018-06-05 00:00:00'): 1313, Timestamp('2018-06-06 00:00:00'): 1314, Timestamp('2018-06-07 00:00:00'): 1315, Timestamp('2018-06-08 00:00:00'): 1316, Timestamp('2018-06-09 00:00:00'): 1317, Timestamp('2018-06-10 00:00:00'): 1318, Timestamp('2018-06-11 00:00:00'): 1319, Timestamp('2018-06-12 00:00:00'): 1320, Timestamp('2018-06-13 00:00:00'): 1321, Timestamp('2018-06-14 00:00:00'): 1322, Timestamp('2018-06-15 00:00:00'): 1323, Timestamp('2018-06-16 00:00:00'): 1324, Timestamp('2018-06-17 00:00:00'): 1325, Timestamp('2018-06-18 00:00:00'): 1326, Timestamp('2018-06-19 00:00:00'): 1327, Timestamp('2018-06-20 00:00:00'): 1328, Timestamp('2018-06-21 00:00:00'): 1329, Timestamp('2018-06-22 00:00:00'): 1330, Timestamp('2018-06-23 00:00:00'): 1331, Timestamp('2018-06-24 00:00:00'): 1332, Timestamp('2018-06-25 00:00:00'): 1333, Timestamp('2018-06-26 00:00:00'): 1334, Timestamp('2018-06-27 00:00:00'): 1335, Timestamp('2018-06-28 00:00:00'): 1336, Timestamp('2018-06-29 00:00:00'): 1337, Timestamp('2018-06-30 00:00:00'): 1338, Timestamp('2018-07-01 00:00:00'): 1339, Timestamp('2018-07-02 00:00:00'): 1340, Timestamp('2018-07-03 00:00:00'): 1341, Timestamp('2018-07-04 00:00:00'): 1342, Timestamp('2018-07-05 00:00:00'): 1343, Timestamp('2018-07-06 00:00:00'): 1344, Timestamp('2018-07-07 00:00:00'): 1345, Timestamp('2018-07-08 00:00:00'): 1346, Timestamp('2018-07-09 00:00:00'): 1347, Timestamp('2018-07-10 00:00:00'): 1348, Timestamp('2018-07-11 00:00:00'): 1349, Timestamp('2018-07-12 00:00:00'): 1350, Timestamp('2018-07-13 00:00:00'): 1351, Timestamp('2018-07-14 00:00:00'): 1352, Timestamp('2018-07-15 00:00:00'): 1353, Timestamp('2018-07-16 00:00:00'): 1354, Timestamp('2018-07-17 00:00:00'): 1355, Timestamp('2018-07-18 00:00:00'): 1356, Timestamp('2018-07-19 00:00:00'): 1357, Timestamp('2018-07-20 00:00:00'): 1358, Timestamp('2018-07-21 00:00:00'): 1359, Timestamp('2018-07-22 00:00:00'): 1360, Timestamp('2018-07-23 00:00:00'): 1361, Timestamp('2018-07-24 00:00:00'): 1362, Timestamp('2018-07-25 00:00:00'): 1363, Timestamp('2018-07-26 00:00:00'): 1364, Timestamp('2018-07-27 00:00:00'): 1365, Timestamp('2018-07-28 00:00:00'): 1366, Timestamp('2018-07-29 00:00:00'): 1367, Timestamp('2018-07-30 00:00:00'): 1368, Timestamp('2018-07-31 00:00:00'): 1369, Timestamp('2018-08-01 00:00:00'): 1370, Timestamp('2018-08-02 00:00:00'): 1371, Timestamp('2018-08-03 00:00:00'): 1372, Timestamp('2018-08-04 00:00:00'): 1373, Timestamp('2018-08-05 00:00:00'): 1374, Timestamp('2018-08-06 00:00:00'): 1375, Timestamp('2018-08-07 00:00:00'): 1376, Timestamp('2018-08-08 00:00:00'): 1377}}\n"
          ]
        }
      ]
    },
    {
      "cell_type": "code",
      "source": [
        "my_new_df"
      ],
      "metadata": {
        "colab": {
          "base_uri": "https://localhost:8080/",
          "height": 572
        },
        "id": "J-I62AQCI35L",
        "outputId": "bf1c7745-9b50-4ddb-b62f-6d0c2b758ee8"
      },
      "execution_count": null,
      "outputs": [
        {
          "output_type": "execute_result",
          "data": {
            "text/plain": [
              "                                                   App  Category  Rating  \\\n",
              "8403              \"i DT\" Fútbol. Todos Somos Técnicos.        29     4.3   \n",
              "8061                     +Download 4 Instagram Twitter        28     4.5   \n",
              "291                         - Free Comics - Comic Apps         6     3.5   \n",
              "4086                                                .R        30     4.5   \n",
              "4181                                            /u/app         7     4.7   \n",
              "...                                                ...       ...     ...   \n",
              "5875                           뽕티비 - 개인방송, 인터넷방송, BJ방송        32     4.3   \n",
              "3908                                        💎 I'm rich        19     3.8   \n",
              "2277     💘 WhatsLov: Smileys of love, stickers and GIF        28     4.6   \n",
              "7090  📏 Smart Ruler ↔️ cm/inch measuring for homework!        30     4.0   \n",
              "772   🔥 Football Wallpapers 4K | Full HD Backgrounds 😍        10     4.7   \n",
              "\n",
              "      Reviews  Size  Installs  Type   Price  Content Rating  \\\n",
              "8403       27  3.6M       500     1    0.00               2   \n",
              "8061    40467   22M   1000000     1    0.00               2   \n",
              "291       115  9.1M     10000     1    0.00               4   \n",
              "4086      259  203k     10000     1    0.00               2   \n",
              "4181      573   53M     10000     1    0.00               4   \n",
              "...       ...   ...       ...   ...     ...             ...   \n",
              "5875      414   59M    100000     1    0.00               4   \n",
              "3908      718   26M     10000     2  399.99               2   \n",
              "2277    22098   18M   1000000     1    0.00               2   \n",
              "7090       19  3.2M     10000     1    0.00               2   \n",
              "772     11661  4.0M   1000000     1    0.00               2   \n",
              "\n",
              "                       Genres  Last Updated Current Ver   Android Ver  \n",
              "8403                   Sports          1073        0.22    4.1 and up  \n",
              "8061                   Social          1371        5.03    4.1 and up  \n",
              "291                    Comics          1351      5.0.12    5.0 and up  \n",
              "4086                    Tools           224      1.1.06    1.5 and up  \n",
              "4181            Communication          1341       4.2.4    4.1 and up  \n",
              "...                       ...           ...         ...           ...  \n",
              "5875  Video Players & Editors          1356       4.0.7  4.0.3 and up  \n",
              "3908                Lifestyle          1227       1.0.0    4.4 and up  \n",
              "2277                   Social          1362       4.2.4  4.0.3 and up  \n",
              "7090                    Tools          1086         1.0    4.2 and up  \n",
              "772             Entertainment          1352     1.1.3.2  4.0.3 and up  \n",
              "\n",
              "[9658 rows x 13 columns]"
            ],
            "text/html": [
              "\n",
              "  <div id=\"df-46a57171-42a5-4740-85f5-8face8dfeb7f\">\n",
              "    <div class=\"colab-df-container\">\n",
              "      <div>\n",
              "<style scoped>\n",
              "    .dataframe tbody tr th:only-of-type {\n",
              "        vertical-align: middle;\n",
              "    }\n",
              "\n",
              "    .dataframe tbody tr th {\n",
              "        vertical-align: top;\n",
              "    }\n",
              "\n",
              "    .dataframe thead th {\n",
              "        text-align: right;\n",
              "    }\n",
              "</style>\n",
              "<table border=\"1\" class=\"dataframe\">\n",
              "  <thead>\n",
              "    <tr style=\"text-align: right;\">\n",
              "      <th></th>\n",
              "      <th>App</th>\n",
              "      <th>Category</th>\n",
              "      <th>Rating</th>\n",
              "      <th>Reviews</th>\n",
              "      <th>Size</th>\n",
              "      <th>Installs</th>\n",
              "      <th>Type</th>\n",
              "      <th>Price</th>\n",
              "      <th>Content Rating</th>\n",
              "      <th>Genres</th>\n",
              "      <th>Last Updated</th>\n",
              "      <th>Current Ver</th>\n",
              "      <th>Android Ver</th>\n",
              "    </tr>\n",
              "  </thead>\n",
              "  <tbody>\n",
              "    <tr>\n",
              "      <th>8403</th>\n",
              "      <td>\"i DT\" Fútbol. Todos Somos Técnicos.</td>\n",
              "      <td>29</td>\n",
              "      <td>4.3</td>\n",
              "      <td>27</td>\n",
              "      <td>3.6M</td>\n",
              "      <td>500</td>\n",
              "      <td>1</td>\n",
              "      <td>0.00</td>\n",
              "      <td>2</td>\n",
              "      <td>Sports</td>\n",
              "      <td>1073</td>\n",
              "      <td>0.22</td>\n",
              "      <td>4.1 and up</td>\n",
              "    </tr>\n",
              "    <tr>\n",
              "      <th>8061</th>\n",
              "      <td>+Download 4 Instagram Twitter</td>\n",
              "      <td>28</td>\n",
              "      <td>4.5</td>\n",
              "      <td>40467</td>\n",
              "      <td>22M</td>\n",
              "      <td>1000000</td>\n",
              "      <td>1</td>\n",
              "      <td>0.00</td>\n",
              "      <td>2</td>\n",
              "      <td>Social</td>\n",
              "      <td>1371</td>\n",
              "      <td>5.03</td>\n",
              "      <td>4.1 and up</td>\n",
              "    </tr>\n",
              "    <tr>\n",
              "      <th>291</th>\n",
              "      <td>- Free Comics - Comic Apps</td>\n",
              "      <td>6</td>\n",
              "      <td>3.5</td>\n",
              "      <td>115</td>\n",
              "      <td>9.1M</td>\n",
              "      <td>10000</td>\n",
              "      <td>1</td>\n",
              "      <td>0.00</td>\n",
              "      <td>4</td>\n",
              "      <td>Comics</td>\n",
              "      <td>1351</td>\n",
              "      <td>5.0.12</td>\n",
              "      <td>5.0 and up</td>\n",
              "    </tr>\n",
              "    <tr>\n",
              "      <th>4086</th>\n",
              "      <td>.R</td>\n",
              "      <td>30</td>\n",
              "      <td>4.5</td>\n",
              "      <td>259</td>\n",
              "      <td>203k</td>\n",
              "      <td>10000</td>\n",
              "      <td>1</td>\n",
              "      <td>0.00</td>\n",
              "      <td>2</td>\n",
              "      <td>Tools</td>\n",
              "      <td>224</td>\n",
              "      <td>1.1.06</td>\n",
              "      <td>1.5 and up</td>\n",
              "    </tr>\n",
              "    <tr>\n",
              "      <th>4181</th>\n",
              "      <td>/u/app</td>\n",
              "      <td>7</td>\n",
              "      <td>4.7</td>\n",
              "      <td>573</td>\n",
              "      <td>53M</td>\n",
              "      <td>10000</td>\n",
              "      <td>1</td>\n",
              "      <td>0.00</td>\n",
              "      <td>4</td>\n",
              "      <td>Communication</td>\n",
              "      <td>1341</td>\n",
              "      <td>4.2.4</td>\n",
              "      <td>4.1 and up</td>\n",
              "    </tr>\n",
              "    <tr>\n",
              "      <th>...</th>\n",
              "      <td>...</td>\n",
              "      <td>...</td>\n",
              "      <td>...</td>\n",
              "      <td>...</td>\n",
              "      <td>...</td>\n",
              "      <td>...</td>\n",
              "      <td>...</td>\n",
              "      <td>...</td>\n",
              "      <td>...</td>\n",
              "      <td>...</td>\n",
              "      <td>...</td>\n",
              "      <td>...</td>\n",
              "      <td>...</td>\n",
              "    </tr>\n",
              "    <tr>\n",
              "      <th>5875</th>\n",
              "      <td>뽕티비 - 개인방송, 인터넷방송, BJ방송</td>\n",
              "      <td>32</td>\n",
              "      <td>4.3</td>\n",
              "      <td>414</td>\n",
              "      <td>59M</td>\n",
              "      <td>100000</td>\n",
              "      <td>1</td>\n",
              "      <td>0.00</td>\n",
              "      <td>4</td>\n",
              "      <td>Video Players &amp; Editors</td>\n",
              "      <td>1356</td>\n",
              "      <td>4.0.7</td>\n",
              "      <td>4.0.3 and up</td>\n",
              "    </tr>\n",
              "    <tr>\n",
              "      <th>3908</th>\n",
              "      <td>💎 I'm rich</td>\n",
              "      <td>19</td>\n",
              "      <td>3.8</td>\n",
              "      <td>718</td>\n",
              "      <td>26M</td>\n",
              "      <td>10000</td>\n",
              "      <td>2</td>\n",
              "      <td>399.99</td>\n",
              "      <td>2</td>\n",
              "      <td>Lifestyle</td>\n",
              "      <td>1227</td>\n",
              "      <td>1.0.0</td>\n",
              "      <td>4.4 and up</td>\n",
              "    </tr>\n",
              "    <tr>\n",
              "      <th>2277</th>\n",
              "      <td>💘 WhatsLov: Smileys of love, stickers and GIF</td>\n",
              "      <td>28</td>\n",
              "      <td>4.6</td>\n",
              "      <td>22098</td>\n",
              "      <td>18M</td>\n",
              "      <td>1000000</td>\n",
              "      <td>1</td>\n",
              "      <td>0.00</td>\n",
              "      <td>2</td>\n",
              "      <td>Social</td>\n",
              "      <td>1362</td>\n",
              "      <td>4.2.4</td>\n",
              "      <td>4.0.3 and up</td>\n",
              "    </tr>\n",
              "    <tr>\n",
              "      <th>7090</th>\n",
              "      <td>📏 Smart Ruler ↔️ cm/inch measuring for homework!</td>\n",
              "      <td>30</td>\n",
              "      <td>4.0</td>\n",
              "      <td>19</td>\n",
              "      <td>3.2M</td>\n",
              "      <td>10000</td>\n",
              "      <td>1</td>\n",
              "      <td>0.00</td>\n",
              "      <td>2</td>\n",
              "      <td>Tools</td>\n",
              "      <td>1086</td>\n",
              "      <td>1.0</td>\n",
              "      <td>4.2 and up</td>\n",
              "    </tr>\n",
              "    <tr>\n",
              "      <th>772</th>\n",
              "      <td>🔥 Football Wallpapers 4K | Full HD Backgrounds 😍</td>\n",
              "      <td>10</td>\n",
              "      <td>4.7</td>\n",
              "      <td>11661</td>\n",
              "      <td>4.0M</td>\n",
              "      <td>1000000</td>\n",
              "      <td>1</td>\n",
              "      <td>0.00</td>\n",
              "      <td>2</td>\n",
              "      <td>Entertainment</td>\n",
              "      <td>1352</td>\n",
              "      <td>1.1.3.2</td>\n",
              "      <td>4.0.3 and up</td>\n",
              "    </tr>\n",
              "  </tbody>\n",
              "</table>\n",
              "<p>9658 rows × 13 columns</p>\n",
              "</div>\n",
              "      <button class=\"colab-df-convert\" onclick=\"convertToInteractive('df-46a57171-42a5-4740-85f5-8face8dfeb7f')\"\n",
              "              title=\"Convert this dataframe to an interactive table.\"\n",
              "              style=\"display:none;\">\n",
              "        \n",
              "  <svg xmlns=\"http://www.w3.org/2000/svg\" height=\"24px\"viewBox=\"0 0 24 24\"\n",
              "       width=\"24px\">\n",
              "    <path d=\"M0 0h24v24H0V0z\" fill=\"none\"/>\n",
              "    <path d=\"M18.56 5.44l.94 2.06.94-2.06 2.06-.94-2.06-.94-.94-2.06-.94 2.06-2.06.94zm-11 1L8.5 8.5l.94-2.06 2.06-.94-2.06-.94L8.5 2.5l-.94 2.06-2.06.94zm10 10l.94 2.06.94-2.06 2.06-.94-2.06-.94-.94-2.06-.94 2.06-2.06.94z\"/><path d=\"M17.41 7.96l-1.37-1.37c-.4-.4-.92-.59-1.43-.59-.52 0-1.04.2-1.43.59L10.3 9.45l-7.72 7.72c-.78.78-.78 2.05 0 2.83L4 21.41c.39.39.9.59 1.41.59.51 0 1.02-.2 1.41-.59l7.78-7.78 2.81-2.81c.8-.78.8-2.07 0-2.86zM5.41 20L4 18.59l7.72-7.72 1.47 1.35L5.41 20z\"/>\n",
              "  </svg>\n",
              "      </button>\n",
              "      \n",
              "  <style>\n",
              "    .colab-df-container {\n",
              "      display:flex;\n",
              "      flex-wrap:wrap;\n",
              "      gap: 12px;\n",
              "    }\n",
              "\n",
              "    .colab-df-convert {\n",
              "      background-color: #E8F0FE;\n",
              "      border: none;\n",
              "      border-radius: 50%;\n",
              "      cursor: pointer;\n",
              "      display: none;\n",
              "      fill: #1967D2;\n",
              "      height: 32px;\n",
              "      padding: 0 0 0 0;\n",
              "      width: 32px;\n",
              "    }\n",
              "\n",
              "    .colab-df-convert:hover {\n",
              "      background-color: #E2EBFA;\n",
              "      box-shadow: 0px 1px 2px rgba(60, 64, 67, 0.3), 0px 1px 3px 1px rgba(60, 64, 67, 0.15);\n",
              "      fill: #174EA6;\n",
              "    }\n",
              "\n",
              "    [theme=dark] .colab-df-convert {\n",
              "      background-color: #3B4455;\n",
              "      fill: #D2E3FC;\n",
              "    }\n",
              "\n",
              "    [theme=dark] .colab-df-convert:hover {\n",
              "      background-color: #434B5C;\n",
              "      box-shadow: 0px 1px 3px 1px rgba(0, 0, 0, 0.15);\n",
              "      filter: drop-shadow(0px 1px 2px rgba(0, 0, 0, 0.3));\n",
              "      fill: #FFFFFF;\n",
              "    }\n",
              "  </style>\n",
              "\n",
              "      <script>\n",
              "        const buttonEl =\n",
              "          document.querySelector('#df-46a57171-42a5-4740-85f5-8face8dfeb7f button.colab-df-convert');\n",
              "        buttonEl.style.display =\n",
              "          google.colab.kernel.accessAllowed ? 'block' : 'none';\n",
              "\n",
              "        async function convertToInteractive(key) {\n",
              "          const element = document.querySelector('#df-46a57171-42a5-4740-85f5-8face8dfeb7f');\n",
              "          const dataTable =\n",
              "            await google.colab.kernel.invokeFunction('convertToInteractive',\n",
              "                                                     [key], {});\n",
              "          if (!dataTable) return;\n",
              "\n",
              "          const docLinkHtml = 'Like what you see? Visit the ' +\n",
              "            '<a target=\"_blank\" href=https://colab.research.google.com/notebooks/data_table.ipynb>data table notebook</a>'\n",
              "            + ' to learn more about interactive tables.';\n",
              "          element.innerHTML = '';\n",
              "          dataTable['output_type'] = 'display_data';\n",
              "          await google.colab.output.renderOutput(dataTable, element);\n",
              "          const docLink = document.createElement('div');\n",
              "          docLink.innerHTML = docLinkHtml;\n",
              "          element.appendChild(docLink);\n",
              "        }\n",
              "      </script>\n",
              "    </div>\n",
              "  </div>\n",
              "  "
            ]
          },
          "metadata": {},
          "execution_count": 56
        }
      ]
    },
    {
      "cell_type": "markdown",
      "source": [
        "As we can see that the relevant categorical variables have been encoded."
      ],
      "metadata": {
        "id": "uaUtH8--r9sM"
      }
    },
    {
      "cell_type": "code",
      "source": [
        "# Storing the relevant variables in another variable\n",
        "variables_df = my_new_df[['Category','Rating','Reviews','Size','Installs','Type','Content Rating','Price','Last Updated']]"
      ],
      "metadata": {
        "id": "9pM9FXRN_SJq"
      },
      "execution_count": null,
      "outputs": []
    },
    {
      "cell_type": "code",
      "source": [
        "cor = variables_df.corr()\n",
        "cor"
      ],
      "metadata": {
        "colab": {
          "base_uri": "https://localhost:8080/",
          "height": 300
        },
        "id": "--wWiTKqJsYc",
        "outputId": "6061dd85-7098-4751-9c36-b5515a5bdc7f"
      },
      "execution_count": null,
      "outputs": [
        {
          "output_type": "execute_result",
          "data": {
            "text/plain": [
              "                Category    Rating   Reviews  Installs      Type  \\\n",
              "Category        1.000000 -0.040004  0.016751  0.032004  0.017031   \n",
              "Rating         -0.040004  1.000000  0.050274  0.034394  0.045352   \n",
              "Reviews         0.016751  0.050274  1.000000  0.625057 -0.033062   \n",
              "Installs        0.032004  0.034394  0.625057  1.000000 -0.041796   \n",
              "Type            0.017031  0.045352 -0.033062 -0.041796  1.000000   \n",
              "Content Rating -0.094259  0.021117  0.055593  0.049636 -0.041628   \n",
              "Price          -0.013849 -0.018573 -0.007591 -0.009412  0.223773   \n",
              "Last Updated   -0.007825  0.124000  0.072783  0.086003 -0.175217   \n",
              "\n",
              "                Content Rating     Price  Last Updated  \n",
              "Category             -0.094259 -0.013849     -0.007825  \n",
              "Rating                0.021117 -0.018573      0.124000  \n",
              "Reviews               0.055593 -0.007591      0.072783  \n",
              "Installs              0.049636 -0.009412      0.086003  \n",
              "Type                 -0.041628  0.223773     -0.175217  \n",
              "Content Rating        1.000000 -0.014430      0.050879  \n",
              "Price                -0.014430  1.000000     -0.003947  \n",
              "Last Updated          0.050879 -0.003947      1.000000  "
            ],
            "text/html": [
              "\n",
              "  <div id=\"df-ed11ca36-3ab1-494d-8794-99f4cab18df2\">\n",
              "    <div class=\"colab-df-container\">\n",
              "      <div>\n",
              "<style scoped>\n",
              "    .dataframe tbody tr th:only-of-type {\n",
              "        vertical-align: middle;\n",
              "    }\n",
              "\n",
              "    .dataframe tbody tr th {\n",
              "        vertical-align: top;\n",
              "    }\n",
              "\n",
              "    .dataframe thead th {\n",
              "        text-align: right;\n",
              "    }\n",
              "</style>\n",
              "<table border=\"1\" class=\"dataframe\">\n",
              "  <thead>\n",
              "    <tr style=\"text-align: right;\">\n",
              "      <th></th>\n",
              "      <th>Category</th>\n",
              "      <th>Rating</th>\n",
              "      <th>Reviews</th>\n",
              "      <th>Installs</th>\n",
              "      <th>Type</th>\n",
              "      <th>Content Rating</th>\n",
              "      <th>Price</th>\n",
              "      <th>Last Updated</th>\n",
              "    </tr>\n",
              "  </thead>\n",
              "  <tbody>\n",
              "    <tr>\n",
              "      <th>Category</th>\n",
              "      <td>1.000000</td>\n",
              "      <td>-0.040004</td>\n",
              "      <td>0.016751</td>\n",
              "      <td>0.032004</td>\n",
              "      <td>0.017031</td>\n",
              "      <td>-0.094259</td>\n",
              "      <td>-0.013849</td>\n",
              "      <td>-0.007825</td>\n",
              "    </tr>\n",
              "    <tr>\n",
              "      <th>Rating</th>\n",
              "      <td>-0.040004</td>\n",
              "      <td>1.000000</td>\n",
              "      <td>0.050274</td>\n",
              "      <td>0.034394</td>\n",
              "      <td>0.045352</td>\n",
              "      <td>0.021117</td>\n",
              "      <td>-0.018573</td>\n",
              "      <td>0.124000</td>\n",
              "    </tr>\n",
              "    <tr>\n",
              "      <th>Reviews</th>\n",
              "      <td>0.016751</td>\n",
              "      <td>0.050274</td>\n",
              "      <td>1.000000</td>\n",
              "      <td>0.625057</td>\n",
              "      <td>-0.033062</td>\n",
              "      <td>0.055593</td>\n",
              "      <td>-0.007591</td>\n",
              "      <td>0.072783</td>\n",
              "    </tr>\n",
              "    <tr>\n",
              "      <th>Installs</th>\n",
              "      <td>0.032004</td>\n",
              "      <td>0.034394</td>\n",
              "      <td>0.625057</td>\n",
              "      <td>1.000000</td>\n",
              "      <td>-0.041796</td>\n",
              "      <td>0.049636</td>\n",
              "      <td>-0.009412</td>\n",
              "      <td>0.086003</td>\n",
              "    </tr>\n",
              "    <tr>\n",
              "      <th>Type</th>\n",
              "      <td>0.017031</td>\n",
              "      <td>0.045352</td>\n",
              "      <td>-0.033062</td>\n",
              "      <td>-0.041796</td>\n",
              "      <td>1.000000</td>\n",
              "      <td>-0.041628</td>\n",
              "      <td>0.223773</td>\n",
              "      <td>-0.175217</td>\n",
              "    </tr>\n",
              "    <tr>\n",
              "      <th>Content Rating</th>\n",
              "      <td>-0.094259</td>\n",
              "      <td>0.021117</td>\n",
              "      <td>0.055593</td>\n",
              "      <td>0.049636</td>\n",
              "      <td>-0.041628</td>\n",
              "      <td>1.000000</td>\n",
              "      <td>-0.014430</td>\n",
              "      <td>0.050879</td>\n",
              "    </tr>\n",
              "    <tr>\n",
              "      <th>Price</th>\n",
              "      <td>-0.013849</td>\n",
              "      <td>-0.018573</td>\n",
              "      <td>-0.007591</td>\n",
              "      <td>-0.009412</td>\n",
              "      <td>0.223773</td>\n",
              "      <td>-0.014430</td>\n",
              "      <td>1.000000</td>\n",
              "      <td>-0.003947</td>\n",
              "    </tr>\n",
              "    <tr>\n",
              "      <th>Last Updated</th>\n",
              "      <td>-0.007825</td>\n",
              "      <td>0.124000</td>\n",
              "      <td>0.072783</td>\n",
              "      <td>0.086003</td>\n",
              "      <td>-0.175217</td>\n",
              "      <td>0.050879</td>\n",
              "      <td>-0.003947</td>\n",
              "      <td>1.000000</td>\n",
              "    </tr>\n",
              "  </tbody>\n",
              "</table>\n",
              "</div>\n",
              "      <button class=\"colab-df-convert\" onclick=\"convertToInteractive('df-ed11ca36-3ab1-494d-8794-99f4cab18df2')\"\n",
              "              title=\"Convert this dataframe to an interactive table.\"\n",
              "              style=\"display:none;\">\n",
              "        \n",
              "  <svg xmlns=\"http://www.w3.org/2000/svg\" height=\"24px\"viewBox=\"0 0 24 24\"\n",
              "       width=\"24px\">\n",
              "    <path d=\"M0 0h24v24H0V0z\" fill=\"none\"/>\n",
              "    <path d=\"M18.56 5.44l.94 2.06.94-2.06 2.06-.94-2.06-.94-.94-2.06-.94 2.06-2.06.94zm-11 1L8.5 8.5l.94-2.06 2.06-.94-2.06-.94L8.5 2.5l-.94 2.06-2.06.94zm10 10l.94 2.06.94-2.06 2.06-.94-2.06-.94-.94-2.06-.94 2.06-2.06.94z\"/><path d=\"M17.41 7.96l-1.37-1.37c-.4-.4-.92-.59-1.43-.59-.52 0-1.04.2-1.43.59L10.3 9.45l-7.72 7.72c-.78.78-.78 2.05 0 2.83L4 21.41c.39.39.9.59 1.41.59.51 0 1.02-.2 1.41-.59l7.78-7.78 2.81-2.81c.8-.78.8-2.07 0-2.86zM5.41 20L4 18.59l7.72-7.72 1.47 1.35L5.41 20z\"/>\n",
              "  </svg>\n",
              "      </button>\n",
              "      \n",
              "  <style>\n",
              "    .colab-df-container {\n",
              "      display:flex;\n",
              "      flex-wrap:wrap;\n",
              "      gap: 12px;\n",
              "    }\n",
              "\n",
              "    .colab-df-convert {\n",
              "      background-color: #E8F0FE;\n",
              "      border: none;\n",
              "      border-radius: 50%;\n",
              "      cursor: pointer;\n",
              "      display: none;\n",
              "      fill: #1967D2;\n",
              "      height: 32px;\n",
              "      padding: 0 0 0 0;\n",
              "      width: 32px;\n",
              "    }\n",
              "\n",
              "    .colab-df-convert:hover {\n",
              "      background-color: #E2EBFA;\n",
              "      box-shadow: 0px 1px 2px rgba(60, 64, 67, 0.3), 0px 1px 3px 1px rgba(60, 64, 67, 0.15);\n",
              "      fill: #174EA6;\n",
              "    }\n",
              "\n",
              "    [theme=dark] .colab-df-convert {\n",
              "      background-color: #3B4455;\n",
              "      fill: #D2E3FC;\n",
              "    }\n",
              "\n",
              "    [theme=dark] .colab-df-convert:hover {\n",
              "      background-color: #434B5C;\n",
              "      box-shadow: 0px 1px 3px 1px rgba(0, 0, 0, 0.15);\n",
              "      filter: drop-shadow(0px 1px 2px rgba(0, 0, 0, 0.3));\n",
              "      fill: #FFFFFF;\n",
              "    }\n",
              "  </style>\n",
              "\n",
              "      <script>\n",
              "        const buttonEl =\n",
              "          document.querySelector('#df-ed11ca36-3ab1-494d-8794-99f4cab18df2 button.colab-df-convert');\n",
              "        buttonEl.style.display =\n",
              "          google.colab.kernel.accessAllowed ? 'block' : 'none';\n",
              "\n",
              "        async function convertToInteractive(key) {\n",
              "          const element = document.querySelector('#df-ed11ca36-3ab1-494d-8794-99f4cab18df2');\n",
              "          const dataTable =\n",
              "            await google.colab.kernel.invokeFunction('convertToInteractive',\n",
              "                                                     [key], {});\n",
              "          if (!dataTable) return;\n",
              "\n",
              "          const docLinkHtml = 'Like what you see? Visit the ' +\n",
              "            '<a target=\"_blank\" href=https://colab.research.google.com/notebooks/data_table.ipynb>data table notebook</a>'\n",
              "            + ' to learn more about interactive tables.';\n",
              "          element.innerHTML = '';\n",
              "          dataTable['output_type'] = 'display_data';\n",
              "          await google.colab.output.renderOutput(dataTable, element);\n",
              "          const docLink = document.createElement('div');\n",
              "          docLink.innerHTML = docLinkHtml;\n",
              "          element.appendChild(docLink);\n",
              "        }\n",
              "      </script>\n",
              "    </div>\n",
              "  </div>\n",
              "  "
            ]
          },
          "metadata": {},
          "execution_count": 58
        }
      ]
    },
    {
      "cell_type": "code",
      "source": [
        "plt.figure(figsize = (14,8))\n",
        "sns.heatmap(cor, annot = True, vmin=-1, fmt='.2f')"
      ],
      "metadata": {
        "colab": {
          "base_uri": "https://localhost:8080/",
          "height": 504
        },
        "id": "xqbl82MbKL2Q",
        "outputId": "96bd67a1-d224-4aa7-e066-b409dc874389"
      },
      "execution_count": null,
      "outputs": [
        {
          "output_type": "execute_result",
          "data": {
            "text/plain": [
              "<matplotlib.axes._subplots.AxesSubplot at 0x7f0743e37710>"
            ]
          },
          "metadata": {},
          "execution_count": 59
        },
        {
          "output_type": "display_data",
          "data": {
            "text/plain": [
              "<Figure size 1008x576 with 2 Axes>"
            ],
            "image/png": "[encoded data removed]"
          },
          "metadata": {
            "needs_background": "light"
          }
        }
      ]
    },
    {
      "cell_type": "markdown",
      "source": [
        "From the above figure we can see that Installs has the highest correlation with Reviews. It has very less correaltion with factors such as rating, size, and type of the app."
      ],
      "metadata": {
        "id": "0I_vkv3ZsIN3"
      }
    },
    {
      "cell_type": "markdown",
      "source": [
        "## 3. Inferences and Conclusion\n",
        "\n",
        "From the above analysis, we can conclude that:\n",
        "\n",
        " \n",
        "1.  Population plays a good role. In 'Number of Apps Vs Number of Installs' we found that communication is such a category which has maximum installs (demand) in compared to its number of apps (supply). Meaning all though this category offers a reasonable number of apps, its utility/demand is quite high, as it is such a category which is used by majority of age groups. For example, if there is a learning/entertainment app for kids, that app will be limited to that age group. No matter how extraordinary it is, no one else will install it. Also when it comes to gaming apps, although majority of age groups use gaming apps, but still it is limited to a segment from all age groups. Hence communication is such a category whose apps are used by all segments across age groups. \n",
        "\n",
        "2.  'Installs' does not have much correlation with factors such as size, rating, type etc., which proves our theory wrong. It has the highest correlation with Reviews. It is understandable, as Reviews and Installs go hand in hand, and vone leads to the other. \n",
        "\n",
        " "
      ],
      "metadata": {
        "id": "VdVimjsMsly_"
      }
    },
    {
      "cell_type": "code",
      "source": [],
      "metadata": {
        "id": "3-Q8rYmFare4"
      },
      "execution_count": null,
      "outputs": []
    }
  ]
}